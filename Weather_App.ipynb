{
 "cells": [
  {
   "cell_type": "markdown",
   "metadata": {},
   "source": [
    "# Weather App "
   ]
  },
  {
   "cell_type": "code",
   "execution_count": 6,
   "metadata": {},
   "outputs": [],
   "source": [
    "from tkinter import*\n",
    "import tkinter\n",
    "import requests\n",
    "import json\n",
    "from PIL import Image, ImageTk\n",
    "def main():\n",
    "    root=Tk()\n",
    "    root.geometry('320x320')\n",
    "    root.title(\"Weather App\")\n",
    "    root.configure(bg='white')\n",
    "    img=Image.open('C://Users/naikp/Database/gw.jpg')\n",
    "    img=img.resize((320,320))\n",
    "    img=ImageTk.PhotoImage(img)\n",
    "    Label(root, image=img).place(x=0, y=0)   \n",
    "    pane1=PanedWindow(root, orient='horizontal', bg='teal', bd=3)\n",
    "    pane1.place(x=30, y=50)\n",
    "    \n",
    "    def getweather():\n",
    "        name=str(entry.get())\n",
    "        name=name.capitalize()\n",
    "        result=Text(root, bg='white', width=32, height=10, wrap=WORD)\n",
    "        result.delete(0.0, END)\n",
    "        result.place(x=30, y=120)\n",
    "        \n",
    "        if name == \"\":              # if string is empty\n",
    "            content=\"Please enter valid city name.\"\n",
    "            result.insert(INSERT, content) \n",
    "            \n",
    "        else:\n",
    "            url=\"Your API\"           # url vd api id\n",
    "            response=requests.get(url)\n",
    "            data=response.json()\n",
    "            content=data.get('main')\n",
    "            for x in content:\n",
    "                if 'temp' in x:\n",
    "                    content[x]=str(int(content[x]-273.15))+' degree celsius' \n",
    "            content_list=[(i, content[i]) for i in content]\n",
    "            for i in content_list:\n",
    "                result.insert(END, i)\n",
    "                result.insert(END, '\\n')\n",
    "        \n",
    "    label=Label(pane1, text='Enter City', width=7, font=(\"bold\",10))\n",
    "    pane1.add(label)\n",
    "    city_name = StringVar()\n",
    "    entry=Entry(pane1, bd=1, textvariable=city_name)\n",
    "    pane1.add(entry)\n",
    "    \n",
    "    button=Button(pane1, text='OK', font=(\"bold\",10), command=getweather)\n",
    "    pane1.add(button)\n",
    "    \n",
    "    root.mainloop()\n",
    "main()"
   ]
  }
 ],
 "metadata": {
  "kernelspec": {
   "display_name": "Python 3",
   "language": "python",
   "name": "python3"
  },
  "language_info": {
   "codemirror_mode": {
    "name": "ipython",
    "version": 3
   },
   "file_extension": ".py",
   "mimetype": "text/x-python",
   "name": "python",
   "nbconvert_exporter": "python",
   "pygments_lexer": "ipython3",
   "version": "3.7.3"
  }
 },
 "nbformat": 4,
 "nbformat_minor": 2
}
