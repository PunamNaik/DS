{
 "cells": [
  {
   "cell_type": "code",
   "execution_count": 2,
   "metadata": {},
   "outputs": [
    {
     "name": "stderr",
     "output_type": "stream",
     "text": [
      "C:\\Users\\naikp\\Anaconda3\\lib\\site-packages\\keras\\engine\\saving.py:384: UserWarning: Error in loading the saved optimizer state. As a result, your model is starting with a freshly initialized optimizer.\n",
      "  warnings.warn('Error in loading the saved optimizer '\n"
     ]
    }
   ],
   "source": [
    "# Loading the saved model\n",
    "from keras.models import load_model\n",
    "model = load_model('BTD_VGG19_version06')"
   ]
  },
  {
   "cell_type": "code",
   "execution_count": 38,
   "metadata": {
    "colab": {},
    "colab_type": "code",
    "id": "JyWMyzi_bJKL"
   },
   "outputs": [],
   "source": [
    "# Project GUI :\n",
    "\n",
    "from tkinter import *\n",
    "from tkinter import filedialog, PhotoImage, messagebox\n",
    "from PIL import Image, ImageTk\n",
    "from keras.preprocessing import image\n",
    "import numpy as np\n",
    "\n",
    "class BTD:\n",
    "    \n",
    "    def __init__(self, root):\n",
    "        \n",
    "        def open_file():\n",
    "            global img, load\n",
    "            filepath = filedialog.askopenfile()\n",
    "            image_path = str(filepath.name)\n",
    "            load=Image.open(image_path)\n",
    "            load=load.resize((224,224))\n",
    "            img = ImageTk.PhotoImage(load)\n",
    "            canvas.create_image(1,1, anchor=NW, image =img)\n",
    "            \n",
    "        def show_result():\n",
    "            try:\n",
    "                load\n",
    "            except NameError:\n",
    "                messagebox.showinfo(title=\"Hello User\", message=\"You need to provide MRI scan file\")\n",
    "            else:    \n",
    "                test_image=image.img_to_array(load)\n",
    "                test_image=np.expand_dims(test_image,axis=0)\n",
    "                res = model.predict(test_image)\n",
    "                if res[0][0]>= 0.5:\n",
    "                    prediction='Tumor Detected'\n",
    "                else:\n",
    "                    prediction='No Tumor'\n",
    "                result.configure(text=prediction, font=('Calibri',14, 'bold'))\n",
    "       \n",
    "        def clear():\n",
    "            canvas.delete('all')\n",
    "            result.configure(text = 'MRI result will be shown here', width=20, height=3, wraplength = 100)\n",
    "            global load\n",
    "            try:\n",
    "                load\n",
    "                del load\n",
    "            except NameError:\n",
    "                pass\n",
    "            \n",
    "        def exit():\n",
    "            global load\n",
    "            try:\n",
    "                load\n",
    "                del load\n",
    "                root.destroy()\n",
    "            except NameError:\n",
    "                root.destroy()\n",
    "            \n",
    "        root.title('Welcome to Brain Tumor Detector VGG-19 model')\n",
    "        root.geometry('460x480+200+200')\n",
    "        root.configure(bg='#e1d8b9')\n",
    "        root.resizable(False, False)        \n",
    "        \n",
    "        label1 = Label(root, text='Brain Tumor Detector', foreground = 'black', background = '#e1d8b9', font=('Calibri',20,'bold'))\n",
    "        label1.grid(row=0, column=0, columnspan=2, padx=5, pady=5)\n",
    "        \n",
    "        label2 = Label(root, text='Uses VGG-19 Model', foreground = 'black', background = '#e1d8b9', font=('Calibri',14,'bold'))\n",
    "        label2.grid(row=1, column=0, columnspan=2, padx=5, pady=5)\n",
    "        \n",
    "        Button1 = Button(root, text='Open MRI scan file', width=20, height=1, background ='#ca9783',font=('Calibri',14), command=open_file)\n",
    "        Button1.grid(row=3, column=0, padx=5, pady=5)\n",
    "      \n",
    "        canvas = Canvas(root, height=224, width=224)\n",
    "        canvas.grid(row=4, column=0, padx=5, pady=5)\n",
    "        \n",
    "        Button2 = Button(root, text='Show Result', width=20, height=1, background ='#ca9783',font=('Calibri',14), command=show_result)\n",
    "        Button2.grid(row=3, column=1, padx=5, pady=5)\n",
    "        \n",
    "        result = Label(root, text = 'MRI result will be shown here', width=20, height=3, wraplength = 100, font=('Calibri',14, 'italic'))\n",
    "        result.grid(row=4, column=1, padx=5, pady=5)\n",
    "        \n",
    "        clearButton = Button(root, text=\"Clear\", width=20, height=1, background ='#ca9783',font=('Calibri',14), command=clear)\n",
    "        clearButton.grid(row=5, column=0, columnspan=2, padx=5, pady=5)\n",
    "\n",
    "        exitButton = Button(root, text=\"Exit\", width=20, height=1, background ='#ca9783',font=('Calibri',14), command=exit)\n",
    "        exitButton.grid(row=6, column=0, columnspan=2, padx=5, pady=5)\n",
    "        \n",
    "    \n",
    "def main():\n",
    "    root = Tk()\n",
    "    btd = BTD(root)\n",
    "    root.mainloop()\n",
    "    \n",
    "if __name__==\"__main__\":main()"
   ]
  }
 ],
 "metadata": {
  "colab": {
   "collapsed_sections": [],
   "name": "BTD_VGG19.ipynb",
   "provenance": []
  },
  "kernelspec": {
   "display_name": "Python 3",
   "language": "python",
   "name": "python3"
  },
  "language_info": {
   "codemirror_mode": {
    "name": "ipython",
    "version": 3
   },
   "file_extension": ".py",
   "mimetype": "text/x-python",
   "name": "python",
   "nbconvert_exporter": "python",
   "pygments_lexer": "ipython3",
   "version": "3.7.3"
  }
 },
 "nbformat": 4,
 "nbformat_minor": 1
}
