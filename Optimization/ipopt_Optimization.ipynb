{
  "nbformat": 4,
  "nbformat_minor": 0,
  "metadata": {
    "colab": {
      "name": "Optimization.ipynb",
      "provenance": [],
      "collapsed_sections": []
    },
    "kernelspec": {
      "name": "python3",
      "display_name": "Python 3"
    },
    "language_info": {
      "name": "python"
    }
  },
  "cells": [
    {
      "cell_type": "code",
      "execution_count": null,
      "metadata": {
        "id": "32v90s9T7GW3",
        "colab": {
          "base_uri": "https://localhost:8080/"
        },
        "outputId": "799f69da-e19a-404d-c4a5-fb7c2cb0956f"
      },
      "outputs": [
        {
          "output_type": "stream",
          "name": "stdout",
          "text": [
            "Looking in indexes: https://pypi.org/simple, https://us-python.pkg.dev/colab-wheels/public/simple/\n",
            "Requirement already satisfied: pyomo in /usr/local/lib/python3.7/dist-packages (6.4.1)\n",
            "Requirement already satisfied: ply in /usr/local/lib/python3.7/dist-packages (from pyomo) (3.11)\n"
          ]
        }
      ],
      "source": [
        "!pip install pyomo\n",
        "!wget -N -q \"https://ampl.com/dl/open/ipopt/ipopt-linux64.zip\"\n",
        "!unzip -o -q ipopt-linux64\n",
        "import pyomo.environ as pyo\n",
        "from pyomo.environ import *\n",
        "from pyomo.opt import SolverFactory"
      ]
    },
    {
      "cell_type": "code",
      "source": [
        "model = pyo.ConcreteModel()"
      ],
      "metadata": {
        "id": "uQR6Edkb784J"
      },
      "execution_count": null,
      "outputs": []
    },
    {
      "cell_type": "code",
      "source": [
        "# Decision Variables\n",
        "\n",
        "model.A = pyo.Var(domain = pyo.NonNegativeReals)\n",
        "model.B = pyo.Var(domain = pyo.NonNegativeReals)\n",
        "model.X1 = pyo.Var(domain = pyo.NonNegativeReals)\n",
        "model.X2 = pyo.Var(domain = pyo.NonNegativeReals)\n",
        "model.X3 = pyo.Var(domain = pyo.NonNegativeReals)\n",
        "model.Y1 = pyo.Var(domain = pyo.NonNegativeReals)\n",
        "model.Y2 = pyo.Var(domain = pyo.NonNegativeReals)\n",
        "model.Y3 = pyo.Var(domain = pyo.NonNegativeReals)"
      ],
      "metadata": {
        "id": "v631RJ008Lup"
      },
      "execution_count": null,
      "outputs": []
    },
    {
      "cell_type": "code",
      "source": [
        "# Objective Rule\n",
        "\n",
        "model.Obj = pyo.Objective(expr = 2*(model.A+model.B), sense = pyo.minimize)"
      ],
      "metadata": {
        "id": "pyvYcM5F8iIe"
      },
      "execution_count": null,
      "outputs": []
    },
    {
      "cell_type": "code",
      "source": [
        "#value(model.A)"
      ],
      "metadata": {
        "id": "fnaHSOlpYsn4"
      },
      "execution_count": null,
      "outputs": []
    },
    {
      "cell_type": "code",
      "source": [
        "#pyo.value(model.A)"
      ],
      "metadata": {
        "id": "NTNwojgUZBXt"
      },
      "execution_count": null,
      "outputs": []
    },
    {
      "cell_type": "code",
      "source": [
        "model.A.pprint()"
      ],
      "metadata": {
        "colab": {
          "base_uri": "https://localhost:8080/"
        },
        "id": "g6fUL9ZbZfHD",
        "outputId": "4a235b95-7bd0-4647-dbb8-54da67b5142a"
      },
      "execution_count": null,
      "outputs": [
        {
          "output_type": "stream",
          "name": "stdout",
          "text": [
            "A : Size=1, Index=None\n",
            "    Key  : Lower : Value : Upper : Fixed : Stale : Domain\n",
            "    None :     0 :  None :  None : False :  True : NonNegativeReals\n"
          ]
        }
      ]
    },
    {
      "cell_type": "code",
      "source": [
        "# Constraints\n",
        "# linear constraints\n",
        "model.Const1 = pyo.Constraint(expr = model.X1 >= 6)\n",
        "model.Const2 = pyo.Constraint(expr = model.Y1 >= 6)\n",
        "model.Const3 = pyo.Constraint(expr = model.X2 >= 12)\n",
        "model.Const4 = pyo.Constraint(expr = model.Y2 >= 12)\n",
        "model.Const5 = pyo.Constraint(expr = model.X3 >= 16)\n",
        "model.Const6 = pyo.Constraint(expr = model.Y3 >= 16)\n",
        "model.Const7 = pyo.Constraint(expr = model.X1-model.B <= -6)\n",
        "model.Const8 = pyo.Constraint(expr = model.Y1-model.A <= -6)\n",
        "model.Const9 = pyo.Constraint(expr = model.X2-model.B <= -12)\n",
        "model.Const10 = pyo.Constraint(expr = model.Y2-model.A <= -12)\n",
        "model.Const11 = pyo.Constraint(expr = model.X3-model.B <= -16)\n",
        "model.Const12 = pyo.Constraint(expr = model.Y3-model.A <= -16)\n",
        "# non-linear constraints\n",
        "model.Const13 = pyo.Constraint(expr = (model.X1-model.X2)**2+(model.Y1-model.Y2)**2>=324)\n",
        "model.Const14 = pyo.Constraint(expr = (model.X1-model.X3)**2+(model.Y1-model.Y3)**2>=484)\n",
        "model.Const15 = pyo.Constraint(expr = (model.X2-model.X3)**2+(model.Y2-model.Y3)**2>=784)\n"
      ],
      "metadata": {
        "id": "NEYgSumA9FmH"
      },
      "execution_count": null,
      "outputs": []
    },
    {
      "cell_type": "code",
      "source": [
        "from sys import executable\n",
        "# Solver\n",
        "solver = pyo.SolverFactory(\"ipopt\", executable = '/content/ipopt', tee = True)\n",
        "results = solver.solve(model, tee=True)"
      ],
      "metadata": {
        "colab": {
          "base_uri": "https://localhost:8080/"
        },
        "id": "mXqM-9Ab-bRx",
        "outputId": "fa11eff1-ad7c-4d36-befe-ad2b1801c577"
      },
      "execution_count": null,
      "outputs": [
        {
          "output_type": "stream",
          "name": "stdout",
          "text": [
            "Ipopt 3.12.13: \n",
            "\n",
            "******************************************************************************\n",
            "This program contains Ipopt, a library for large-scale nonlinear optimization.\n",
            " Ipopt is released as open source code under the Eclipse Public License (EPL).\n",
            "         For more information visit http://projects.coin-or.org/Ipopt\n",
            "******************************************************************************\n",
            "\n",
            "This is Ipopt version 3.12.13, running with linear solver mumps.\n",
            "NOTE: Other linear solvers might be more efficient (see Ipopt documentation).\n",
            "\n",
            "Number of nonzeros in equality constraint Jacobian...:        0\n",
            "Number of nonzeros in inequality constraint Jacobian.:       30\n",
            "Number of nonzeros in Lagrangian Hessian.............:       12\n",
            "\n",
            "Total number of variables............................:        8\n",
            "                     variables with only lower bounds:        8\n",
            "                variables with lower and upper bounds:        0\n",
            "                     variables with only upper bounds:        0\n",
            "Total number of equality constraints.................:        0\n",
            "Total number of inequality constraints...............:       15\n",
            "        inequality constraints with only lower bounds:        9\n",
            "   inequality constraints with lower and upper bounds:        0\n",
            "        inequality constraints with only upper bounds:        6\n",
            "\n",
            "iter    objective    inf_pr   inf_du lg(mu)  ||d||  lg(rg) alpha_du alpha_pr  ls\n",
            "   0  3.9999960e-02 7.84e+02 1.00e+00  -1.0 0.00e+00    -  0.00e+00 0.00e+00   0\n",
            "   1  1.3682472e-01 7.84e+02 2.33e+00  -1.0 7.92e+02    -  4.16e-03 9.80e-03h  1\n",
            "   2  1.4504380e-01 7.84e+02 1.21e+01  -1.0 7.84e+02    -  9.94e-04 9.90e-05h  1\n",
            "   3r 1.4504380e-01 7.84e+02 9.99e+02   2.9 0.00e+00    -  0.00e+00 4.96e-07R  2\n",
            "   4r 5.4046905e+01 6.98e+02 9.88e+02   2.9 1.79e+03    -  6.73e-04 1.08e-02f  1\n",
            "   5  5.4098097e+01 6.97e+02 1.67e+01  -1.0 6.63e+02    -  6.22e-02 8.13e-04h  1\n",
            "   6  5.4265017e+01 6.95e+02 9.51e+00  -1.0 1.49e+03   0.0 3.68e-04 2.97e-03h  1\n",
            "   7  5.4278881e+01 6.95e+02 3.08e+02  -1.0 9.42e+02   1.3 6.51e-03 2.79e-04h  1\n",
            "   8  5.4347900e+01 6.94e+02 2.81e+04  -1.0 1.42e+03   1.8 1.42e-01 1.39e-03h  1\n",
            "   9  5.4620041e+01 6.90e+02 2.30e+04  -1.0 1.63e+03   3.1 4.48e-03 5.51e-03h  1\n",
            "iter    objective    inf_pr   inf_du lg(mu)  ||d||  lg(rg) alpha_du alpha_pr  ls\n",
            "  10  5.4622914e+01 6.90e+02 1.82e+08  -1.0 1.62e+03   5.3 2.21e-01 5.85e-05h  1\n",
            "  11  5.8649503e+01 6.25e+02 7.66e+07  -1.0 1.62e+03   5.7 1.06e-02 8.20e-02h  1\n",
            "  12  5.8652739e+01 6.25e+02 1.16e+12  -1.0 1.48e+03   8.9 4.16e-01 7.18e-05h  1\n",
            "  13  6.0408489e+01 6.00e+02 1.63e+12  -1.0 1.48e+03   9.3 1.20e-01 3.89e-02h  1\n",
            "In iteration 13, 1 Slack too small, adjusting variable bound\n",
            "  14  6.0416865e+01 6.00e+02 3.88e+15  -1.0 1.43e+03  12.4 3.95e-01 1.93e-04h  1\n",
            "  15  6.0422302e+01 6.00e+02 5.74e+15  -1.0 1.42e+03  12.9 8.38e-02 1.26e-04h  1\n",
            "  16r 6.0422302e+01 6.00e+02 1.00e+03   2.8 0.00e+00  13.3 0.00e+00 4.77e-07R  2\n",
            "  17r 8.3232135e+01 1.72e+02 9.99e+02   2.8 4.37e+05    -  2.39e-03 2.02e-03f  1\n",
            "  18  9.8156192e+01 1.52e+02 1.60e+00  -1.0 5.96e+02    -  1.73e-01 1.12e-01h  1\n",
            "  19  9.8261054e+01 1.50e+02 1.87e+00  -1.0 7.50e+03    -  7.11e-03 2.64e-03h  2\n",
            "iter    objective    inf_pr   inf_du lg(mu)  ||d||  lg(rg) alpha_du alpha_pr  ls\n",
            "  20  1.3274924e+02 1.97e+01 1.05e+01  -1.0 7.49e+02    -  3.23e-02 2.37e-01h  1\n",
            "  21  2.0239666e+02 0.00e+00 2.90e+00  -1.0 4.61e+01    -  5.59e-01 1.00e+00h  1\n",
            "  22  2.0239666e+02 0.00e+00 4.37e+12  -1.0 6.72e-01  12.8 5.98e-02 1.00e+00h  1\n",
            "  23  2.0087326e+02 0.00e+00 4.31e+12  -1.0 4.99e+01    -  1.31e-01 1.51e-02f  1\n",
            "  24  1.9972895e+02 0.00e+00 3.11e+12  -1.0 1.86e+00    -  7.27e-01 2.78e-01f  1\n",
            "  25  1.9914895e+02 0.00e+00 2.67e+01  -1.0 1.04e+00    -  4.46e-01 1.00e+00f  1\n",
            "  26  1.9914895e+02 0.00e+00 5.28e-01  -1.0 2.43e-13  12.3 9.92e-01 1.00e+00h  1\n",
            "  27  1.9914895e+02 0.00e+00 5.11e-01  -1.7 7.07e-13  11.9 1.00e+00 1.00e+00h  1\n",
            "  28  1.9914895e+02 0.00e+00 5.10e-01  -1.7 2.12e-12  11.4 1.00e+00 1.00e+00h  1\n",
            "  29  1.9914895e+02 0.00e+00 5.10e-01  -1.7 6.34e-12  10.9 1.00e+00 1.00e+00h  1\n",
            "iter    objective    inf_pr   inf_du lg(mu)  ||d||  lg(rg) alpha_du alpha_pr  ls\n",
            "  30  1.9914895e+02 0.00e+00 5.10e-01  -1.7 1.90e-11  10.4 1.00e+00 1.00e+00h  1\n",
            "  31  1.9914895e+02 0.00e+00 5.10e-01  -1.7 5.71e-11  10.0 1.00e+00 1.00e+00h  1\n",
            "  32  1.9914895e+02 0.00e+00 5.10e-01  -1.7 1.71e-10   9.5 1.00e+00 1.00e+00h  1\n",
            "  33  1.9914895e+02 0.00e+00 5.10e-01  -1.7 5.14e-10   9.0 1.00e+00 1.00e+00h  1\n",
            "  34  1.9914895e+02 0.00e+00 5.10e-01  -1.7 1.54e-09   8.5 1.00e+00 1.00e+00h  1\n",
            "  35  1.9914895e+02 0.00e+00 5.10e-01  -1.7 4.63e-09   8.0 1.00e+00 1.00e+00h  1\n",
            "  36  1.9914895e+02 0.00e+00 5.10e-01  -1.7 1.39e-08   7.6 1.00e+00 1.00e+00h  1\n",
            "  37  1.9914895e+02 0.00e+00 5.10e-01  -1.7 4.16e-08   7.1 1.00e+00 1.00e+00h  1\n",
            "  38  1.9914895e+02 0.00e+00 5.10e-01  -1.7 1.25e-07   6.6 1.00e+00 1.00e+00h  1\n",
            "  39  1.9914894e+02 0.00e+00 5.10e-01  -1.7 3.75e-07   6.1 1.00e+00 1.00e+00f  1\n",
            "iter    objective    inf_pr   inf_du lg(mu)  ||d||  lg(rg) alpha_du alpha_pr  ls\n",
            "  40  1.9914894e+02 0.00e+00 5.10e-01  -1.7 1.12e-06   5.7 1.00e+00 1.00e+00f  1\n",
            "  41  1.9914893e+02 0.00e+00 5.10e-01  -1.7 3.37e-06   5.2 1.00e+00 1.00e+00f  1\n",
            "  42  1.9914889e+02 0.00e+00 5.10e-01  -1.7 1.01e-05   4.7 1.00e+00 1.00e+00f  1\n",
            "  43  1.9914876e+02 0.00e+00 5.10e-01  -1.7 3.03e-05   4.2 1.00e+00 1.00e+00f  1\n",
            "  44  1.9914840e+02 0.00e+00 5.10e-01  -1.7 9.10e-05   3.7 1.00e+00 1.00e+00f  1\n",
            "  45  1.9914732e+02 0.00e+00 5.09e-01  -1.7 2.73e-04   3.3 1.00e+00 1.00e+00f  1\n",
            "  46  1.9914408e+02 0.00e+00 5.08e-01  -1.7 8.17e-04   2.8 1.00e+00 1.00e+00f  1\n",
            "  47  1.9913445e+02 0.00e+00 5.05e-01  -1.7 2.43e-03   2.3 1.00e+00 1.00e+00f  1\n",
            "  48  1.9910649e+02 0.00e+00 4.94e-01  -1.7 7.14e-03   1.8 1.00e+00 1.00e+00f  1\n",
            "  49  1.9903130e+02 0.00e+00 4.61e-01  -1.7 2.00e-02   1.4 1.00e+00 1.00e+00f  1\n",
            "iter    objective    inf_pr   inf_du lg(mu)  ||d||  lg(rg) alpha_du alpha_pr  ls\n",
            "  50  1.9887599e+02 0.00e+00 3.67e-01  -1.7 4.78e-02   0.9 1.00e+00 1.00e+00f  1\n",
            "  51  1.9863672e+02 0.00e+00 2.85e-01  -1.7 1.10e-01   0.4 1.00e+00 9.37e-01f  1\n",
            "  52  1.9806186e+02 0.00e+00 2.98e-01  -1.7 3.45e-01  -0.1 1.00e+00 1.00e+00f  1\n",
            "  53  1.9610817e+02 0.00e+00 3.10e-01  -1.7 1.09e+00  -0.5 1.00e+00 1.00e+00f  1\n",
            "  54  1.8894094e+02 0.00e+00 3.66e-01  -1.7 3.86e+00  -1.0 1.00e+00 1.00e+00f  1\n",
            "  55  1.8813563e+02 0.00e+00 9.17e-01  -1.7 1.54e+01  -1.5 1.00e+00 2.51e-02f  1\n",
            "  56  1.8766723e+02 0.00e+00 4.80e-01  -1.7 5.67e+00  -2.0 2.48e-01 3.04e-01h  1\n",
            "  57  1.8430439e+02 0.00e+00 3.78e-01  -1.7 1.62e+02  -2.5 4.16e-04 1.89e-02f  1\n",
            "  58  1.8423061e+02 0.00e+00 1.44e+00  -1.7 1.49e+01  -2.9 1.00e+00 2.43e-02h  1\n",
            "  59  1.8246974e+02 0.00e+00 6.07e-02  -1.7 4.90e+01  -3.4 1.00e+00 1.00e+00h  1\n",
            "iter    objective    inf_pr   inf_du lg(mu)  ||d||  lg(rg) alpha_du alpha_pr  ls\n",
            "  60  1.8159889e+02 0.00e+00 2.67e-01  -1.7 2.11e+02  -3.9 1.00e+00 1.99e-01f  1\n",
            "  61  1.8153388e+02 0.00e+00 6.91e-01  -1.7 1.04e+01    -  7.08e-01 1.73e-01h  1\n",
            "  62  1.8066315e+02 0.00e+00 4.65e-01  -1.7 4.39e+02    -  6.67e-03 2.38e-01f  1\n",
            "  63  1.8094508e+02 0.00e+00 3.82e-02  -1.7 4.32e+01    -  1.00e+00 1.00e+00h  1\n",
            "  64  1.8039259e+02 0.00e+00 1.94e-02  -1.7 5.60e+01    -  1.00e+00 8.18e-01h  1\n",
            "  65  1.8033817e+02 0.00e+00 2.04e-06  -1.7 3.39e-01    -  1.00e+00 1.00e+00h  1\n",
            "  66  1.8017973e+02 0.00e+00 7.05e-05  -3.8 5.41e-01    -  1.00e+00 9.94e-01f  1\n",
            "  67  1.8017807e+02 0.00e+00 1.69e-09  -5.7 4.36e-02    -  1.00e+00 1.00e+00h  1\n",
            "  68  1.8017806e+02 0.00e+00 1.79e-13  -8.6 4.98e-05    -  1.00e+00 1.00e+00h  1\n",
            "\n",
            "Number of Iterations....: 68\n",
            "\n",
            "                                   (scaled)                 (unscaled)\n",
            "Objective...............:   1.8017805823980603e+02    1.8017805823980603e+02\n",
            "Dual infeasibility......:   1.7884360927035301e-13    1.7884360927035301e-13\n",
            "Constraint violation....:   0.0000000000000000e+00    0.0000000000000000e+00\n",
            "Complementarity.........:   2.5069804639222542e-09    2.5069804639222542e-09\n",
            "Overall NLP error.......:   2.5069804639222542e-09    2.5069804639222542e-09\n",
            "\n",
            "\n",
            "Number of objective function evaluations             = 75\n",
            "Number of objective gradient evaluations             = 69\n",
            "Number of equality constraint evaluations            = 0\n",
            "Number of inequality constraint evaluations          = 75\n",
            "Number of equality constraint Jacobian evaluations   = 0\n",
            "Number of inequality constraint Jacobian evaluations = 71\n",
            "Number of Lagrangian Hessian evaluations             = 68\n",
            "Total CPU secs in IPOPT (w/o function evaluations)   =      0.070\n",
            "Total CPU secs in NLP function evaluations           =      0.001\n",
            "\n",
            "EXIT: Optimal Solution Found.\n",
            "\b\b\b\b\b\b\b\b\b\b\b\b\b\b\b"
          ]
        }
      ]
    },
    {
      "cell_type": "code",
      "source": [
        "print(results)"
      ],
      "metadata": {
        "colab": {
          "base_uri": "https://localhost:8080/"
        },
        "id": "os2uozd8_yvs",
        "outputId": "847e19d4-22ec-4204-a367-6c602f0aa309"
      },
      "execution_count": null,
      "outputs": [
        {
          "output_type": "stream",
          "name": "stdout",
          "text": [
            "\n",
            "Problem: \n",
            "- Lower bound: -inf\n",
            "  Upper bound: inf\n",
            "  Number of objectives: 1\n",
            "  Number of constraints: 15\n",
            "  Number of variables: 8\n",
            "  Sense: unknown\n",
            "Solver: \n",
            "- Status: ok\n",
            "  Message: Ipopt 3.12.13\\x3a Optimal Solution Found\n",
            "  Termination condition: optimal\n",
            "  Id: 0\n",
            "  Error rc: 0\n",
            "  Time: 0.09682726860046387\n",
            "Solution: \n",
            "- number of solutions: 0\n",
            "  number of solutions displayed: 0\n",
            "\n"
          ]
        }
      ]
    },
    {
      "cell_type": "code",
      "source": [
        "print(\"Objective Function = \",model.Obj())\n",
        "print(\"X1----->\",model.X1())\n",
        "print(\"Y1----->\",model.Y1())\n",
        "print(\"X2----->\",model.X2())\n",
        "print(\"Y2----->\",model.Y2())\n",
        "print(\"X3----->\",model.X3())\n",
        "print(\"Y3----->\",model.Y3())\n",
        "print(\"A----->\",model.A())\n",
        "print(\"B----->\",model.B())"
      ],
      "metadata": {
        "colab": {
          "base_uri": "https://localhost:8080/"
        },
        "id": "IRRQk8RUFzWC",
        "outputId": "54a91766-b727-497d-dc83-1c6217279eb2"
      },
      "execution_count": null,
      "outputs": [
        {
          "output_type": "stream",
          "name": "stdout",
          "text": [
            "Objective Function =  180.17805823980603\n",
            "X1-----> 5.999999944765629\n",
            "Y1-----> 5.999999941685595\n",
            "X2-----> 11.999999881699345\n",
            "Y2-----> 22.970562618686483\n",
            "X3-----> 39.118466778711046\n",
            "Y3-----> 15.999999844876506\n",
            "A-----> 34.97056249993909\n",
            "B-----> 55.11846661996393\n"
          ]
        }
      ]
    },
    {
      "cell_type": "code",
      "source": [
        "model.pprint()"
      ],
      "metadata": {
        "id": "18kNv5TdGKQB",
        "colab": {
          "base_uri": "https://localhost:8080/"
        },
        "outputId": "5b3e82b2-5bf7-41b9-98a3-d5ab73bd189d"
      },
      "execution_count": null,
      "outputs": [
        {
          "output_type": "stream",
          "name": "stdout",
          "text": [
            "8 Var Declarations\n",
            "    A : Size=1, Index=None\n",
            "        Key  : Lower : Value             : Upper : Fixed : Stale : Domain\n",
            "        None :     0 : 34.97056249993909 :  None : False : False : NonNegativeReals\n",
            "    B : Size=1, Index=None\n",
            "        Key  : Lower : Value             : Upper : Fixed : Stale : Domain\n",
            "        None :     0 : 55.11846661996393 :  None : False : False : NonNegativeReals\n",
            "    X1 : Size=1, Index=None\n",
            "        Key  : Lower : Value             : Upper : Fixed : Stale : Domain\n",
            "        None :     0 : 5.999999944765629 :  None : False : False : NonNegativeReals\n",
            "    X2 : Size=1, Index=None\n",
            "        Key  : Lower : Value              : Upper : Fixed : Stale : Domain\n",
            "        None :     0 : 11.999999881699345 :  None : False : False : NonNegativeReals\n",
            "    X3 : Size=1, Index=None\n",
            "        Key  : Lower : Value              : Upper : Fixed : Stale : Domain\n",
            "        None :     0 : 39.118466778711046 :  None : False : False : NonNegativeReals\n",
            "    Y1 : Size=1, Index=None\n",
            "        Key  : Lower : Value             : Upper : Fixed : Stale : Domain\n",
            "        None :     0 : 5.999999941685595 :  None : False : False : NonNegativeReals\n",
            "    Y2 : Size=1, Index=None\n",
            "        Key  : Lower : Value              : Upper : Fixed : Stale : Domain\n",
            "        None :     0 : 22.970562618686483 :  None : False : False : NonNegativeReals\n",
            "    Y3 : Size=1, Index=None\n",
            "        Key  : Lower : Value              : Upper : Fixed : Stale : Domain\n",
            "        None :     0 : 15.999999844876506 :  None : False : False : NonNegativeReals\n",
            "\n",
            "1 Objective Declarations\n",
            "    Obj : Size=1, Index=None, Active=True\n",
            "        Key  : Active : Sense    : Expression\n",
            "        None :   True : minimize : 2*(A + B)\n",
            "\n",
            "15 Constraint Declarations\n",
            "    Const1 : Size=1, Index=None, Active=True\n",
            "        Key  : Lower : Body : Upper : Active\n",
            "        None :   6.0 :   X1 :  +Inf :   True\n",
            "    Const10 : Size=1, Index=None, Active=True\n",
            "        Key  : Lower : Body   : Upper : Active\n",
            "        None :  -Inf : Y2 - A : -12.0 :   True\n",
            "    Const11 : Size=1, Index=None, Active=True\n",
            "        Key  : Lower : Body   : Upper : Active\n",
            "        None :  -Inf : X3 - B : -16.0 :   True\n",
            "    Const12 : Size=1, Index=None, Active=True\n",
            "        Key  : Lower : Body   : Upper : Active\n",
            "        None :  -Inf : Y3 - A : -16.0 :   True\n",
            "    Const13 : Size=1, Index=None, Active=True\n",
            "        Key  : Lower : Body                        : Upper : Active\n",
            "        None : 324.0 : (X1 - X2)**2 + (Y1 - Y2)**2 :  +Inf :   True\n",
            "    Const14 : Size=1, Index=None, Active=True\n",
            "        Key  : Lower : Body                        : Upper : Active\n",
            "        None : 484.0 : (X1 - X3)**2 + (Y1 - Y3)**2 :  +Inf :   True\n",
            "    Const15 : Size=1, Index=None, Active=True\n",
            "        Key  : Lower : Body                        : Upper : Active\n",
            "        None : 784.0 : (X2 - X3)**2 + (Y2 - Y3)**2 :  +Inf :   True\n",
            "    Const2 : Size=1, Index=None, Active=True\n",
            "        Key  : Lower : Body : Upper : Active\n",
            "        None :   6.0 :   Y1 :  +Inf :   True\n",
            "    Const3 : Size=1, Index=None, Active=True\n",
            "        Key  : Lower : Body : Upper : Active\n",
            "        None :  12.0 :   X2 :  +Inf :   True\n",
            "    Const4 : Size=1, Index=None, Active=True\n",
            "        Key  : Lower : Body : Upper : Active\n",
            "        None :  12.0 :   Y2 :  +Inf :   True\n",
            "    Const5 : Size=1, Index=None, Active=True\n",
            "        Key  : Lower : Body : Upper : Active\n",
            "        None :  16.0 :   X3 :  +Inf :   True\n",
            "    Const6 : Size=1, Index=None, Active=True\n",
            "        Key  : Lower : Body : Upper : Active\n",
            "        None :  16.0 :   Y3 :  +Inf :   True\n",
            "    Const7 : Size=1, Index=None, Active=True\n",
            "        Key  : Lower : Body   : Upper : Active\n",
            "        None :  -Inf : X1 - B :  -6.0 :   True\n",
            "    Const8 : Size=1, Index=None, Active=True\n",
            "        Key  : Lower : Body   : Upper : Active\n",
            "        None :  -Inf : Y1 - A :  -6.0 :   True\n",
            "    Const9 : Size=1, Index=None, Active=True\n",
            "        Key  : Lower : Body   : Upper : Active\n",
            "        None :  -Inf : X2 - B : -12.0 :   True\n",
            "\n",
            "24 Declarations: A B X1 X2 X3 Y1 Y2 Y3 Obj Const1 Const2 Const3 Const4 Const5 Const6 Const7 Const8 Const9 Const10 Const11 Const12 Const13 Const14 Const15\n"
          ]
        }
      ]
    },
    {
      "cell_type": "code",
      "source": [
        "print(\"Minimizing perimeter of rectangle, \\nKeeping all circles inside rectangle, \\nno circles overlapping\")\n",
        "from textwrap import fill\n",
        "from matplotlib import pyplot as plt, patches\n",
        "from matplotlib.patches import Rectangle, Circle\n",
        "%matplotlib inline\n",
        "fig = plt.figure()\n",
        "ax = fig.add_subplot(111)\n",
        "circle1 = patches.Circle(xy=( model.X1() , model.Y1() ), radius=6 , color='red')\n",
        "circle2 = patches.Circle(xy=( model.X2() , model.Y2() ), radius=12 , color='orange')\n",
        "circle3 = patches.Circle(xy=( model.X3() , model.Y3() ), radius=16 , color='yellow')\n",
        "rect = patches.Rectangle(xy=(0, 0), width=model.B(), height=model.A(), color=\"black\")\n",
        "ax.add_patch(rect)\n",
        "ax.add_patch(circle1)\n",
        "ax.add_patch(circle2)\n",
        "ax.add_patch(circle3)\n",
        "plt.xlabel(\"B\")\n",
        "plt.ylabel(\"A\")\n",
        "plt.title(\"Optimized\")\n",
        "plt.xlim([0,model.B()])\n",
        "plt.ylim([0,model.A()])\n",
        "ax.set_aspect(1) #equal measure on axis\n",
        "plt.show()"
      ],
      "metadata": {
        "colab": {
          "base_uri": "https://localhost:8080/",
          "height": 344
        },
        "id": "FGOaqknUhNuW",
        "outputId": "12c0c82d-c5b0-4c48-daba-33d9741290c5"
      },
      "execution_count": null,
      "outputs": [
        {
          "output_type": "stream",
          "name": "stdout",
          "text": [
            "Minimizing perimeter of rectangle, \n",
            "Keeping all circles inside rectangle, \n",
            "no circles overlapping\n"
          ]
        },
        {
          "output_type": "display_data",
          "data": {
            "text/plain": [
              "<Figure size 432x288 with 1 Axes>"
            ],
            "image/png": "[encoded data removed]"
          },
          "metadata": {
            "needs_background": "light"
          }
        }
      ]
    }
  ]
}