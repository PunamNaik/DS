{
 "cells": [
  {
   "cell_type": "code",
   "execution_count": 1,
   "metadata": {},
   "outputs": [],
   "source": [
    "#Data \n",
    "revenue = [14574.49, 7606.46, 8611.41, 9175.41, 8058.65, 8105.44, 11496.28, 9766.09, 10305.32, 14379.96, 10713.97, 15433.50]\n",
    "expenses = [12051.82, 5695.07, 12319.20, 12089.72, 8658.57, 840.20, 3285.73, 5821.12, 6976.93, 16618.61, 10054.37, 3803.96]"
   ]
  },
  {
   "cell_type": "code",
   "execution_count": 2,
   "metadata": {},
   "outputs": [
    {
     "data": {
      "text/plain": [
       "'Questions\\n- profit for each month\\n- profit after tax for each month (the tax rate is 30%)\\n- profit margin for each month - equals to profit after tax divided by revenue\\n- good months - where the profit after tax was greater than the mean for the year\\n- bad months - where the profit after tax was less than the mean for the year\\n- the best month - where the profit after tax was max for the year\\n- the worst month - where the profit after tax was min for the year'"
      ]
     },
     "execution_count": 2,
     "metadata": {},
     "output_type": "execute_result"
    }
   ],
   "source": [
    " '''Questions\n",
    "- profit for each month\n",
    "- profit after tax for each month (the tax rate is 30%)\n",
    "- profit margin for each month - equals to profit after tax divided by revenue\n",
    "- good months - where the profit after tax was greater than the mean for the year\n",
    "- bad months - where the profit after tax was less than the mean for the year\n",
    "- the best month - where the profit after tax was max for the year\n",
    "- the worst month - where the profit after tax was min for the year'''"
   ]
  },
  {
   "cell_type": "code",
   "execution_count": 3,
   "metadata": {},
   "outputs": [],
   "source": [
    "import matplotlib.pyplot as plt\n",
    "import numpy as np\n",
    "import pandas as pd"
   ]
  },
  {
   "cell_type": "code",
   "execution_count": 4,
   "metadata": {},
   "outputs": [],
   "source": [
    "x = np.arange(len(revenue))\n",
    "labels = ['Jan','Feb',' Mar','Apr','May','Jun','Jul','Aug','Sep','Oct','Nov', 'Dec' ]\n",
    "\n",
    "df = pd.DataFrame(index = labels, columns = ['revenue', 'expenses'])\n",
    "\n",
    "difference = []\n",
    "[difference.append(i-j) for i,j in zip(revenue, expenses)]\n",
    "\n",
    "df['revenue']=revenue\n",
    "df['expenses']=expenses\n",
    "df['P/L']=difference"
   ]
  },
  {
   "cell_type": "code",
   "execution_count": 5,
   "metadata": {},
   "outputs": [
    {
     "data": {
      "text/html": [
       "<div>\n",
       "<style scoped>\n",
       "    .dataframe tbody tr th:only-of-type {\n",
       "        vertical-align: middle;\n",
       "    }\n",
       "\n",
       "    .dataframe tbody tr th {\n",
       "        vertical-align: top;\n",
       "    }\n",
       "\n",
       "    .dataframe thead th {\n",
       "        text-align: right;\n",
       "    }\n",
       "</style>\n",
       "<table border=\"1\" class=\"dataframe\">\n",
       "  <thead>\n",
       "    <tr style=\"text-align: right;\">\n",
       "      <th></th>\n",
       "      <th>revenue</th>\n",
       "      <th>expenses</th>\n",
       "      <th>P/L</th>\n",
       "    </tr>\n",
       "  </thead>\n",
       "  <tbody>\n",
       "    <tr>\n",
       "      <th>Jan</th>\n",
       "      <td>14574.49</td>\n",
       "      <td>12051.82</td>\n",
       "      <td>2522.67</td>\n",
       "    </tr>\n",
       "    <tr>\n",
       "      <th>Feb</th>\n",
       "      <td>7606.46</td>\n",
       "      <td>5695.07</td>\n",
       "      <td>1911.39</td>\n",
       "    </tr>\n",
       "    <tr>\n",
       "      <th>Mar</th>\n",
       "      <td>8611.41</td>\n",
       "      <td>12319.20</td>\n",
       "      <td>-3707.79</td>\n",
       "    </tr>\n",
       "    <tr>\n",
       "      <th>Apr</th>\n",
       "      <td>9175.41</td>\n",
       "      <td>12089.72</td>\n",
       "      <td>-2914.31</td>\n",
       "    </tr>\n",
       "    <tr>\n",
       "      <th>May</th>\n",
       "      <td>8058.65</td>\n",
       "      <td>8658.57</td>\n",
       "      <td>-599.92</td>\n",
       "    </tr>\n",
       "    <tr>\n",
       "      <th>Jun</th>\n",
       "      <td>8105.44</td>\n",
       "      <td>840.20</td>\n",
       "      <td>7265.24</td>\n",
       "    </tr>\n",
       "    <tr>\n",
       "      <th>Jul</th>\n",
       "      <td>11496.28</td>\n",
       "      <td>3285.73</td>\n",
       "      <td>8210.55</td>\n",
       "    </tr>\n",
       "    <tr>\n",
       "      <th>Aug</th>\n",
       "      <td>9766.09</td>\n",
       "      <td>5821.12</td>\n",
       "      <td>3944.97</td>\n",
       "    </tr>\n",
       "    <tr>\n",
       "      <th>Sep</th>\n",
       "      <td>10305.32</td>\n",
       "      <td>6976.93</td>\n",
       "      <td>3328.39</td>\n",
       "    </tr>\n",
       "    <tr>\n",
       "      <th>Oct</th>\n",
       "      <td>14379.96</td>\n",
       "      <td>16618.61</td>\n",
       "      <td>-2238.65</td>\n",
       "    </tr>\n",
       "    <tr>\n",
       "      <th>Nov</th>\n",
       "      <td>10713.97</td>\n",
       "      <td>10054.37</td>\n",
       "      <td>659.60</td>\n",
       "    </tr>\n",
       "    <tr>\n",
       "      <th>Dec</th>\n",
       "      <td>15433.50</td>\n",
       "      <td>3803.96</td>\n",
       "      <td>11629.54</td>\n",
       "    </tr>\n",
       "  </tbody>\n",
       "</table>\n",
       "</div>"
      ],
      "text/plain": [
       "       revenue  expenses       P/L\n",
       "Jan   14574.49  12051.82   2522.67\n",
       "Feb    7606.46   5695.07   1911.39\n",
       " Mar   8611.41  12319.20  -3707.79\n",
       "Apr    9175.41  12089.72  -2914.31\n",
       "May    8058.65   8658.57   -599.92\n",
       "Jun    8105.44    840.20   7265.24\n",
       "Jul   11496.28   3285.73   8210.55\n",
       "Aug    9766.09   5821.12   3944.97\n",
       "Sep   10305.32   6976.93   3328.39\n",
       "Oct   14379.96  16618.61  -2238.65\n",
       "Nov   10713.97  10054.37    659.60\n",
       "Dec   15433.50   3803.96  11629.54"
      ]
     },
     "execution_count": 5,
     "metadata": {},
     "output_type": "execute_result"
    }
   ],
   "source": [
    "df"
   ]
  },
  {
   "cell_type": "code",
   "execution_count": 6,
   "metadata": {},
   "outputs": [
    {
     "data": {
      "text/plain": [
       "<matplotlib.legend.Legend at 0x25da6869710>"
      ]
     },
     "execution_count": 6,
     "metadata": {},
     "output_type": "execute_result"
    },
    {
     "data": {
      "image/png": "[encoded data removed]",
      "text/plain": [
       "<Figure size 432x288 with 1 Axes>"
      ]
     },
     "metadata": {
      "needs_background": "light"
     },
     "output_type": "display_data"
    }
   ],
   "source": [
    "fig, ax = plt.subplots()\n",
    "rects1 = ax.bar(x-0.3/2, revenue, width = 0.3, label='revenue')\n",
    "rects2 = ax.bar(x+0.3/2, expenses, width = 0.3, label='expenses')\n",
    "\n",
    "ax.set_title('Revenue V/S Expense')\n",
    "ax.set_xticks(x)\n",
    "ax.set_xticklabels(labels)\n",
    "ax.legend()"
   ]
  },
  {
   "cell_type": "code",
   "execution_count": 44,
   "metadata": {},
   "outputs": [
    {
     "data": {
      "text/plain": [
       "Text(0.5, 1.0, 'Revenue V/S Expense')"
      ]
     },
     "execution_count": 44,
     "metadata": {},
     "output_type": "execute_result"
    },
    {
     "data": {
      "image/png": "[encoded data removed]",
      "text/plain": [
       "<Figure size 720x216 with 1 Axes>"
      ]
     },
     "metadata": {
      "needs_background": "light"
     },
     "output_type": "display_data"
    }
   ],
   "source": [
    "df['expenses'].plot(kind='area', alpha=0.5, figsize=(10, 3), color='orange') \n",
    "df['revenue'].plot(kind='bar', alpha=1, figsize=(10, 3))\n",
    "plt.title('Revenue V/S Expense')"
   ]
  },
  {
   "cell_type": "code",
   "execution_count": 45,
   "metadata": {},
   "outputs": [
    {
     "data": {
      "text/plain": [
       "Text(0.5, 1.0, 'Monthwise Profit/Loss')"
      ]
     },
     "execution_count": 45,
     "metadata": {},
     "output_type": "execute_result"
    },
    {
     "data": {
      "image/png": "[encoded data removed]",
      "text/plain": [
       "<Figure size 432x288 with 1 Axes>"
      ]
     },
     "metadata": {
      "needs_background": "light"
     },
     "output_type": "display_data"
    }
   ],
   "source": [
    "def bar_color(df,color1,color2):\n",
    "    return np.where(df.values>0,color1,color2).T\n",
    "\n",
    "plt.bar(labels, difference, color=bar_color(df['P/L'],'b','orange'))\n",
    "plt.title('Monthwise Profit/Loss')"
   ]
  },
  {
   "cell_type": "code",
   "execution_count": 43,
   "metadata": {},
   "outputs": [
    {
     "data": {
      "text/html": [
       "<div>\n",
       "<style scoped>\n",
       "    .dataframe tbody tr th:only-of-type {\n",
       "        vertical-align: middle;\n",
       "    }\n",
       "\n",
       "    .dataframe tbody tr th {\n",
       "        vertical-align: top;\n",
       "    }\n",
       "\n",
       "    .dataframe thead th {\n",
       "        text-align: right;\n",
       "    }\n",
       "</style>\n",
       "<table border=\"1\" class=\"dataframe\">\n",
       "  <thead>\n",
       "    <tr style=\"text-align: right;\">\n",
       "      <th></th>\n",
       "      <th>revenue</th>\n",
       "      <th>expenses</th>\n",
       "      <th>P/L</th>\n",
       "      <th>Tax</th>\n",
       "      <th>Pure_Profit</th>\n",
       "      <th>Profit_Margin</th>\n",
       "    </tr>\n",
       "  </thead>\n",
       "  <tbody>\n",
       "    <tr>\n",
       "      <th>Jan</th>\n",
       "      <td>14574.49</td>\n",
       "      <td>12051.82</td>\n",
       "      <td>2522.67</td>\n",
       "      <td>4372.347</td>\n",
       "      <td>10202.143</td>\n",
       "      <td>0.7</td>\n",
       "    </tr>\n",
       "    <tr>\n",
       "      <th>Feb</th>\n",
       "      <td>7606.46</td>\n",
       "      <td>5695.07</td>\n",
       "      <td>1911.39</td>\n",
       "      <td>2281.938</td>\n",
       "      <td>5324.522</td>\n",
       "      <td>0.7</td>\n",
       "    </tr>\n",
       "    <tr>\n",
       "      <th>Mar</th>\n",
       "      <td>8611.41</td>\n",
       "      <td>12319.20</td>\n",
       "      <td>-3707.79</td>\n",
       "      <td>2583.423</td>\n",
       "      <td>6027.987</td>\n",
       "      <td>0.7</td>\n",
       "    </tr>\n",
       "    <tr>\n",
       "      <th>Apr</th>\n",
       "      <td>9175.41</td>\n",
       "      <td>12089.72</td>\n",
       "      <td>-2914.31</td>\n",
       "      <td>2752.623</td>\n",
       "      <td>6422.787</td>\n",
       "      <td>0.7</td>\n",
       "    </tr>\n",
       "    <tr>\n",
       "      <th>May</th>\n",
       "      <td>8058.65</td>\n",
       "      <td>8658.57</td>\n",
       "      <td>-599.92</td>\n",
       "      <td>2417.595</td>\n",
       "      <td>5641.055</td>\n",
       "      <td>0.7</td>\n",
       "    </tr>\n",
       "    <tr>\n",
       "      <th>Jun</th>\n",
       "      <td>8105.44</td>\n",
       "      <td>840.20</td>\n",
       "      <td>7265.24</td>\n",
       "      <td>2431.632</td>\n",
       "      <td>5673.808</td>\n",
       "      <td>0.7</td>\n",
       "    </tr>\n",
       "    <tr>\n",
       "      <th>Jul</th>\n",
       "      <td>11496.28</td>\n",
       "      <td>3285.73</td>\n",
       "      <td>8210.55</td>\n",
       "      <td>3448.884</td>\n",
       "      <td>8047.396</td>\n",
       "      <td>0.7</td>\n",
       "    </tr>\n",
       "    <tr>\n",
       "      <th>Aug</th>\n",
       "      <td>9766.09</td>\n",
       "      <td>5821.12</td>\n",
       "      <td>3944.97</td>\n",
       "      <td>2929.827</td>\n",
       "      <td>6836.263</td>\n",
       "      <td>0.7</td>\n",
       "    </tr>\n",
       "    <tr>\n",
       "      <th>Sep</th>\n",
       "      <td>10305.32</td>\n",
       "      <td>6976.93</td>\n",
       "      <td>3328.39</td>\n",
       "      <td>3091.596</td>\n",
       "      <td>7213.724</td>\n",
       "      <td>0.7</td>\n",
       "    </tr>\n",
       "    <tr>\n",
       "      <th>Oct</th>\n",
       "      <td>14379.96</td>\n",
       "      <td>16618.61</td>\n",
       "      <td>-2238.65</td>\n",
       "      <td>4313.988</td>\n",
       "      <td>10065.972</td>\n",
       "      <td>0.7</td>\n",
       "    </tr>\n",
       "    <tr>\n",
       "      <th>Nov</th>\n",
       "      <td>10713.97</td>\n",
       "      <td>10054.37</td>\n",
       "      <td>659.60</td>\n",
       "      <td>3214.191</td>\n",
       "      <td>7499.779</td>\n",
       "      <td>0.7</td>\n",
       "    </tr>\n",
       "    <tr>\n",
       "      <th>Dec</th>\n",
       "      <td>15433.50</td>\n",
       "      <td>3803.96</td>\n",
       "      <td>11629.54</td>\n",
       "      <td>4630.050</td>\n",
       "      <td>10803.450</td>\n",
       "      <td>0.7</td>\n",
       "    </tr>\n",
       "  </tbody>\n",
       "</table>\n",
       "</div>"
      ],
      "text/plain": [
       "       revenue  expenses       P/L       Tax  Pure_Profit  Profit_Margin\n",
       "Jan   14574.49  12051.82   2522.67  4372.347    10202.143            0.7\n",
       "Feb    7606.46   5695.07   1911.39  2281.938     5324.522            0.7\n",
       " Mar   8611.41  12319.20  -3707.79  2583.423     6027.987            0.7\n",
       "Apr    9175.41  12089.72  -2914.31  2752.623     6422.787            0.7\n",
       "May    8058.65   8658.57   -599.92  2417.595     5641.055            0.7\n",
       "Jun    8105.44    840.20   7265.24  2431.632     5673.808            0.7\n",
       "Jul   11496.28   3285.73   8210.55  3448.884     8047.396            0.7\n",
       "Aug    9766.09   5821.12   3944.97  2929.827     6836.263            0.7\n",
       "Sep   10305.32   6976.93   3328.39  3091.596     7213.724            0.7\n",
       "Oct   14379.96  16618.61  -2238.65  4313.988    10065.972            0.7\n",
       "Nov   10713.97  10054.37    659.60  3214.191     7499.779            0.7\n",
       "Dec   15433.50   3803.96  11629.54  4630.050    10803.450            0.7"
      ]
     },
     "execution_count": 43,
     "metadata": {},
     "output_type": "execute_result"
    }
   ],
   "source": [
    "df['Tax'] = df['revenue'] *0.3\n",
    "df['Pure_Profit'] = df['revenue'] - df['revenue'] *0.3\n",
    "df['Profit_Margin'] = df['Pure_Profit'] / df['revenue']\n",
    "df"
   ]
  },
  {
   "cell_type": "code",
   "execution_count": 41,
   "metadata": {},
   "outputs": [
    {
     "data": {
      "text/plain": [
       "7479.907166666667"
      ]
     },
     "execution_count": 41,
     "metadata": {},
     "output_type": "execute_result"
    }
   ],
   "source": [
    "# Mean Profit after Tax\n",
    "df['Pure_Profit'].mean()"
   ]
  },
  {
   "cell_type": "code",
   "execution_count": 39,
   "metadata": {},
   "outputs": [
    {
     "data": {
      "text/plain": [
       "['Jan', 'Jul', 'Oct', 'Nov', 'Dec']"
      ]
     },
     "execution_count": 39,
     "metadata": {},
     "output_type": "execute_result"
    }
   ],
   "source": [
    "# Good months - \n",
    "list(df.index[df['Pure_Profit'] > df['Pure_Profit'].mean()])"
   ]
  },
  {
   "cell_type": "code",
   "execution_count": 40,
   "metadata": {},
   "outputs": [
    {
     "data": {
      "text/plain": [
       "['Feb', ' Mar', 'Apr', 'May', 'Jun', 'Aug', 'Sep']"
      ]
     },
     "execution_count": 40,
     "metadata": {},
     "output_type": "execute_result"
    }
   ],
   "source": [
    "# Bad months - \n",
    "list(df.index[df['Pure_Profit'] < df['Pure_Profit'].mean()])"
   ]
  },
  {
   "cell_type": "code",
   "execution_count": 34,
   "metadata": {},
   "outputs": [
    {
     "data": {
      "text/plain": [
       "['Dec']"
      ]
     },
     "execution_count": 34,
     "metadata": {},
     "output_type": "execute_result"
    }
   ],
   "source": [
    "# Best month -  \n",
    "list(df.index[df['Pure_Profit'] == df['Pure_Profit'].max()])"
   ]
  },
  {
   "cell_type": "code",
   "execution_count": 37,
   "metadata": {},
   "outputs": [
    {
     "data": {
      "text/plain": [
       "['Feb']"
      ]
     },
     "execution_count": 37,
     "metadata": {},
     "output_type": "execute_result"
    }
   ],
   "source": [
    "# Worst month -  \n",
    "list(df.index[df['Pure_Profit'] == df['Pure_Profit'].min()])"
   ]
  },
  {
   "cell_type": "code",
   "execution_count": null,
   "metadata": {},
   "outputs": [],
   "source": []
  }
 ],
 "metadata": {
  "kernelspec": {
   "display_name": "Python 3",
   "language": "python",
   "name": "python3"
  },
  "language_info": {
   "codemirror_mode": {
    "name": "ipython",
    "version": 3
   },
   "file_extension": ".py",
   "mimetype": "text/x-python",
   "name": "python",
   "nbconvert_exporter": "python",
   "pygments_lexer": "ipython3",
   "version": "3.7.3"
  }
 },
 "nbformat": 4,
 "nbformat_minor": 1
}
