{
 "cells": [
  {
   "cell_type": "code",
   "execution_count": 1,
   "metadata": {},
   "outputs": [],
   "source": [
    "import pandas as pd\n",
    "import matplotlib.pyplot as plt\n",
    "%matplotlib inline\n",
    "import numpy as np\n",
    "import seaborn as sns"
   ]
  },
  {
   "cell_type": "code",
   "execution_count": 2,
   "metadata": {
    "scrolled": true
   },
   "outputs": [
    {
     "data": {
      "text/html": [
       "<div>\n",
       "<style scoped>\n",
       "    .dataframe tbody tr th:only-of-type {\n",
       "        vertical-align: middle;\n",
       "    }\n",
       "\n",
       "    .dataframe tbody tr th {\n",
       "        vertical-align: top;\n",
       "    }\n",
       "\n",
       "    .dataframe thead th {\n",
       "        text-align: right;\n",
       "    }\n",
       "</style>\n",
       "<table border=\"1\" class=\"dataframe\">\n",
       "  <thead>\n",
       "    <tr style=\"text-align: right;\">\n",
       "      <th></th>\n",
       "      <th>Alcohol</th>\n",
       "      <th>Malic_Acid</th>\n",
       "      <th>Ash</th>\n",
       "      <th>Ash_Alcanity</th>\n",
       "      <th>Magnesium</th>\n",
       "      <th>Total_Phenols</th>\n",
       "      <th>Flavanoids</th>\n",
       "      <th>Nonflavanoid_Phenols</th>\n",
       "      <th>Proanthocyanins</th>\n",
       "      <th>Color_Intensity</th>\n",
       "      <th>Hue</th>\n",
       "      <th>OD280</th>\n",
       "      <th>Proline</th>\n",
       "      <th>Customer_Segment</th>\n",
       "    </tr>\n",
       "  </thead>\n",
       "  <tbody>\n",
       "    <tr>\n",
       "      <th>0</th>\n",
       "      <td>14.23</td>\n",
       "      <td>1.71</td>\n",
       "      <td>2.43</td>\n",
       "      <td>15.6</td>\n",
       "      <td>127</td>\n",
       "      <td>2.80</td>\n",
       "      <td>3.06</td>\n",
       "      <td>0.28</td>\n",
       "      <td>2.29</td>\n",
       "      <td>5.64</td>\n",
       "      <td>1.04</td>\n",
       "      <td>3.92</td>\n",
       "      <td>1065</td>\n",
       "      <td>1</td>\n",
       "    </tr>\n",
       "    <tr>\n",
       "      <th>1</th>\n",
       "      <td>13.20</td>\n",
       "      <td>1.78</td>\n",
       "      <td>2.14</td>\n",
       "      <td>11.2</td>\n",
       "      <td>100</td>\n",
       "      <td>2.65</td>\n",
       "      <td>2.76</td>\n",
       "      <td>0.26</td>\n",
       "      <td>1.28</td>\n",
       "      <td>4.38</td>\n",
       "      <td>1.05</td>\n",
       "      <td>3.40</td>\n",
       "      <td>1050</td>\n",
       "      <td>1</td>\n",
       "    </tr>\n",
       "    <tr>\n",
       "      <th>2</th>\n",
       "      <td>13.16</td>\n",
       "      <td>2.36</td>\n",
       "      <td>2.67</td>\n",
       "      <td>18.6</td>\n",
       "      <td>101</td>\n",
       "      <td>2.80</td>\n",
       "      <td>3.24</td>\n",
       "      <td>0.30</td>\n",
       "      <td>2.81</td>\n",
       "      <td>5.68</td>\n",
       "      <td>1.03</td>\n",
       "      <td>3.17</td>\n",
       "      <td>1185</td>\n",
       "      <td>1</td>\n",
       "    </tr>\n",
       "    <tr>\n",
       "      <th>3</th>\n",
       "      <td>14.37</td>\n",
       "      <td>1.95</td>\n",
       "      <td>2.50</td>\n",
       "      <td>16.8</td>\n",
       "      <td>113</td>\n",
       "      <td>3.85</td>\n",
       "      <td>3.49</td>\n",
       "      <td>0.24</td>\n",
       "      <td>2.18</td>\n",
       "      <td>7.80</td>\n",
       "      <td>0.86</td>\n",
       "      <td>3.45</td>\n",
       "      <td>1480</td>\n",
       "      <td>1</td>\n",
       "    </tr>\n",
       "    <tr>\n",
       "      <th>4</th>\n",
       "      <td>13.24</td>\n",
       "      <td>2.59</td>\n",
       "      <td>2.87</td>\n",
       "      <td>21.0</td>\n",
       "      <td>118</td>\n",
       "      <td>2.80</td>\n",
       "      <td>2.69</td>\n",
       "      <td>0.39</td>\n",
       "      <td>1.82</td>\n",
       "      <td>4.32</td>\n",
       "      <td>1.04</td>\n",
       "      <td>2.93</td>\n",
       "      <td>735</td>\n",
       "      <td>1</td>\n",
       "    </tr>\n",
       "  </tbody>\n",
       "</table>\n",
       "</div>"
      ],
      "text/plain": [
       "   Alcohol  Malic_Acid   Ash  Ash_Alcanity  Magnesium  Total_Phenols  \\\n",
       "0    14.23        1.71  2.43          15.6        127           2.80   \n",
       "1    13.20        1.78  2.14          11.2        100           2.65   \n",
       "2    13.16        2.36  2.67          18.6        101           2.80   \n",
       "3    14.37        1.95  2.50          16.8        113           3.85   \n",
       "4    13.24        2.59  2.87          21.0        118           2.80   \n",
       "\n",
       "   Flavanoids  Nonflavanoid_Phenols  Proanthocyanins  Color_Intensity   Hue  \\\n",
       "0        3.06                  0.28             2.29             5.64  1.04   \n",
       "1        2.76                  0.26             1.28             4.38  1.05   \n",
       "2        3.24                  0.30             2.81             5.68  1.03   \n",
       "3        3.49                  0.24             2.18             7.80  0.86   \n",
       "4        2.69                  0.39             1.82             4.32  1.04   \n",
       "\n",
       "   OD280  Proline  Customer_Segment  \n",
       "0   3.92     1065                 1  \n",
       "1   3.40     1050                 1  \n",
       "2   3.17     1185                 1  \n",
       "3   3.45     1480                 1  \n",
       "4   2.93      735                 1  "
      ]
     },
     "execution_count": 2,
     "metadata": {},
     "output_type": "execute_result"
    }
   ],
   "source": [
    "df=pd.read_csv('C://Users/naikp/Downloads/Wine.csv')\n",
    "df.head()"
   ]
  },
  {
   "cell_type": "code",
   "execution_count": 3,
   "metadata": {},
   "outputs": [
    {
     "data": {
      "text/plain": [
       "array([1, 2, 3], dtype=int64)"
      ]
     },
     "execution_count": 3,
     "metadata": {},
     "output_type": "execute_result"
    }
   ],
   "source": [
    "df.Customer_Segment.unique()  #1st quality segment"
   ]
  },
  {
   "cell_type": "code",
   "execution_count": 4,
   "metadata": {},
   "outputs": [
    {
     "data": {
      "text/plain": [
       "(178, 14)"
      ]
     },
     "execution_count": 4,
     "metadata": {},
     "output_type": "execute_result"
    }
   ],
   "source": [
    "df.shape"
   ]
  },
  {
   "cell_type": "code",
   "execution_count": 5,
   "metadata": {},
   "outputs": [
    {
     "data": {
      "text/plain": [
       "2    71\n",
       "1    59\n",
       "3    48\n",
       "Name: Customer_Segment, dtype: int64"
      ]
     },
     "execution_count": 5,
     "metadata": {},
     "output_type": "execute_result"
    }
   ],
   "source": [
    "df.Customer_Segment.value_counts()"
   ]
  },
  {
   "cell_type": "code",
   "execution_count": 6,
   "metadata": {},
   "outputs": [
    {
     "data": {
      "text/plain": [
       "<matplotlib.axes._subplots.AxesSubplot at 0x1c6c1a56278>"
      ]
     },
     "execution_count": 6,
     "metadata": {},
     "output_type": "execute_result"
    },
    {
     "data": {
      "image/png": "[encoded data removed]",
      "text/plain": [
       "<Figure size 432x288 with 1 Axes>"
      ]
     },
     "metadata": {
      "needs_background": "light"
     },
     "output_type": "display_data"
    }
   ],
   "source": [
    "sns.countplot(df['Customer_Segment'])"
   ]
  },
  {
   "cell_type": "markdown",
   "metadata": {},
   "source": [
    "PCA - Principal Component Analysis\n",
    "\n",
    "reduces overfitting problem"
   ]
  },
  {
   "cell_type": "code",
   "execution_count": 7,
   "metadata": {},
   "outputs": [],
   "source": [
    "X = df.iloc[:, 0:13].values\n",
    "y = df.iloc[:, 13].values"
   ]
  },
  {
   "cell_type": "code",
   "execution_count": 8,
   "metadata": {
    "scrolled": true
   },
   "outputs": [
    {
     "data": {
      "text/plain": [
       "(array([[1.423e+01, 1.710e+00, 2.430e+00, ..., 1.040e+00, 3.920e+00,\n",
       "         1.065e+03],\n",
       "        [1.320e+01, 1.780e+00, 2.140e+00, ..., 1.050e+00, 3.400e+00,\n",
       "         1.050e+03],\n",
       "        [1.316e+01, 2.360e+00, 2.670e+00, ..., 1.030e+00, 3.170e+00,\n",
       "         1.185e+03],\n",
       "        ...,\n",
       "        [1.327e+01, 4.280e+00, 2.260e+00, ..., 5.900e-01, 1.560e+00,\n",
       "         8.350e+02],\n",
       "        [1.317e+01, 2.590e+00, 2.370e+00, ..., 6.000e-01, 1.620e+00,\n",
       "         8.400e+02],\n",
       "        [1.413e+01, 4.100e+00, 2.740e+00, ..., 6.100e-01, 1.600e+00,\n",
       "         5.600e+02]]),\n",
       " array([1, 1, 1, 1, 1, 1, 1, 1, 1, 1, 1, 1, 1, 1, 1, 1, 1, 1, 1, 1, 1, 1,\n",
       "        1, 1, 1, 1, 1, 1, 1, 1, 1, 1, 1, 1, 1, 1, 1, 1, 1, 1, 1, 1, 1, 1,\n",
       "        1, 1, 1, 1, 1, 1, 1, 1, 1, 1, 1, 1, 1, 1, 1, 2, 2, 2, 2, 2, 2, 2,\n",
       "        2, 2, 2, 2, 2, 2, 2, 2, 2, 2, 2, 2, 2, 2, 2, 2, 2, 2, 2, 2, 2, 2,\n",
       "        2, 2, 2, 2, 2, 2, 2, 2, 2, 2, 2, 2, 2, 2, 2, 2, 2, 2, 2, 2, 2, 2,\n",
       "        2, 2, 2, 2, 2, 2, 2, 2, 2, 2, 2, 2, 2, 2, 2, 2, 2, 2, 2, 2, 3, 3,\n",
       "        3, 3, 3, 3, 3, 3, 3, 3, 3, 3, 3, 3, 3, 3, 3, 3, 3, 3, 3, 3, 3, 3,\n",
       "        3, 3, 3, 3, 3, 3, 3, 3, 3, 3, 3, 3, 3, 3, 3, 3, 3, 3, 3, 3, 3, 3,\n",
       "        3, 3], dtype=int64))"
      ]
     },
     "execution_count": 8,
     "metadata": {},
     "output_type": "execute_result"
    }
   ],
   "source": [
    "X,y"
   ]
  },
  {
   "cell_type": "code",
   "execution_count": 9,
   "metadata": {},
   "outputs": [],
   "source": [
    "from sklearn.model_selection import train_test_split\n",
    "X_train, X_test, y_train, y_test =train_test_split(X,y, test_size=0.2)"
   ]
  },
  {
   "cell_type": "code",
   "execution_count": 10,
   "metadata": {},
   "outputs": [
    {
     "data": {
      "text/plain": [
       "(array([[1.376e+01, 1.530e+00, 2.700e+00, ..., 1.250e+00, 3.000e+00,\n",
       "         1.235e+03],\n",
       "        [1.388e+01, 5.040e+00, 2.230e+00, ..., 5.800e-01, 1.330e+00,\n",
       "         4.150e+02],\n",
       "        [1.164e+01, 2.060e+00, 2.460e+00, ..., 1.000e+00, 2.750e+00,\n",
       "         6.800e+02],\n",
       "        ...,\n",
       "        [1.267e+01, 9.800e-01, 2.240e+00, ..., 1.230e+00, 3.160e+00,\n",
       "         4.500e+02],\n",
       "        [1.208e+01, 2.080e+00, 1.700e+00, ..., 1.270e+00, 2.960e+00,\n",
       "         7.100e+02],\n",
       "        [1.229e+01, 2.830e+00, 2.220e+00, ..., 1.150e+00, 3.300e+00,\n",
       "         2.900e+02]]),\n",
       " array([3, 1, 3, 1, 1, 1, 2, 2, 2, 2, 3, 2, 3, 3, 3, 1, 1, 3, 1, 1, 1, 2,\n",
       "        1, 3, 3, 3, 1, 1, 2, 2, 1, 1, 2, 3, 3, 1], dtype=int64))"
      ]
     },
     "execution_count": 10,
     "metadata": {},
     "output_type": "execute_result"
    }
   ],
   "source": [
    "X_train, y_test"
   ]
  },
  {
   "cell_type": "code",
   "execution_count": 11,
   "metadata": {},
   "outputs": [],
   "source": [
    "#feature scaling\n",
    "from sklearn.preprocessing import StandardScaler\n",
    "sc = StandardScaler()\n",
    "X_train = sc.fit_transform(X_train)\n",
    "X_test = sc.transform(X_test)"
   ]
  },
  {
   "cell_type": "code",
   "execution_count": 12,
   "metadata": {},
   "outputs": [
    {
     "data": {
      "text/plain": [
       "(array([[ 1.0049457 , -0.7504268 ,  1.1614433 , ...,  1.22930938,\n",
       "          0.5237484 ,  1.64412168],\n",
       "        [ 1.14947874,  2.36024955, -0.48151401, ..., -1.62998297,\n",
       "         -1.91301236, -1.00075589],\n",
       "        [-1.54847136, -0.28072353,  0.32248638, ...,  0.16240925,\n",
       "          0.15896386, -0.14600887],\n",
       "        ...,\n",
       "        [-0.30789609, -1.23785471, -0.44655747, ...,  1.14395737,\n",
       "          0.75721051, -0.88786478],\n",
       "        [-1.01851687, -0.26299888, -2.33421056, ...,  1.31466139,\n",
       "          0.46538287, -0.04924506],\n",
       "        [-0.76558405,  0.40167555, -0.51647055, ...,  0.80254933,\n",
       "          0.96148986, -1.40393845]]),\n",
       " array([[-1.39274209e-01, -5.91653861e-02,  1.12747146e-01,\n",
       "          1.28729615e+00, -5.53398319e-02, -1.89599615e+00,\n",
       "         -9.59312524e-01, -7.40450364e-01, -1.41893897e+00,\n",
       "          3.42926689e-01, -1.28857493e+00, -1.86923821e+00,\n",
       "         -5.33064126e-01],\n",
       "        [ 1.07721222e+00, -5.55455629e-01,  1.82660223e-01,\n",
       "         -1.67680395e+00,  8.40777095e-01,  2.59311316e+00,\n",
       "          1.74310777e+00, -3.33231341e-01,  4.51365450e-01,\n",
       "          9.15167685e-01,  2.05085253e-01,  9.03124329e-01,\n",
       "          1.49897596e+00],\n",
       "        [ 2.94324913e-01,  1.88979735e-01,  7.87752982e-03,\n",
       "          1.01656109e-01,  1.46116574e+00, -1.07381496e+00,\n",
       "         -1.37742283e+00,  1.37708855e+00, -2.85966102e-01,\n",
       "          1.86890268e+00, -1.54463096e+00, -1.48986229e+00,\n",
       "          3.70064801e-01],\n",
       "        [ 9.92901276e-01, -5.73180280e-01,  1.47703684e-01,\n",
       "         -1.08398393e+00, -6.75728474e-01,  4.88329309e-01,\n",
       "          7.43722151e-01, -5.77562755e-01,  3.43463272e-01,\n",
       "          3.00538467e-01,  8.02549327e-01,  3.77834584e-01,\n",
       "          1.91828582e+00],\n",
       "        [ 1.49791872e-01, -5.37730977e-01, -9.35949012e-01,\n",
       "         -7.87573919e-01,  5.65048810e-01,  1.14607426e+00,\n",
       "          9.88469649e-01, -6.59006559e-01,  7.39104592e-01,\n",
       "          6.31644238e-02, -3.49702815e-01,  1.03444677e+00,\n",
       "          5.15210521e-01],\n",
       "        [ 6.67701934e-01, -5.02281674e-01,  1.47703684e-01,\n",
       "          2.49861113e-01,  8.25243107e-02,  6.52765547e-01,\n",
       "          9.68074024e-01, -8.21894168e-01,  4.33381754e-01,\n",
       "          8.85973570e-02,  3.33113269e-01,  1.20954335e+00,\n",
       "          6.28101637e-01],\n",
       "        [-7.17406372e-01, -1.22899239e+00, -1.46029709e+00,\n",
       "         -1.43967594e+00,  2.56407888e+00, -6.62724362e-01,\n",
       "         -1.84278779e-01, -8.88999275e-02,  2.05191443e+00,\n",
       "         -6.32002416e-01,  4.18465279e-01, -4.83056943e-01,\n",
       "          7.97733600e-02],\n",
       "        [-6.69228692e-01, -1.06947052e+00, -1.56516671e+00,\n",
       "         -1.69078949e-02, -1.43398126e+00, -3.17408261e-01,\n",
       "         -3.13115931e-02, -7.40450364e-01, -1.04128135e+00,\n",
       "         -8.94331751e-02,  6.74521311e-01,  1.22413473e+00,\n",
       "         -6.94337149e-01],\n",
       "        [-6.69228692e-01, -1.03402122e+00,  6.72051763e-01,\n",
       "         -4.61522909e-01, -5.53398319e-02,  1.92344079e-01,\n",
       "          6.31546214e-01,  7.39876816e-02,  8.29023074e-01,\n",
       "         -1.23343753e-01,  9.73253347e-01, -4.97648325e-01,\n",
       "         -1.52459793e-01],\n",
       "        [-2.83807250e-01, -7.50426795e-01, -3.76644395e-01,\n",
       "          3.09143115e-01, -1.29611712e+00, -1.51779280e+00,\n",
       "         -5.81993464e-01,  1.78430758e+00,  1.77304049e-03,\n",
       "         -7.80361193e-01, -8.29477285e-03, -8.47841488e-01,\n",
       "         -7.42719056e-01],\n",
       "        [-8.73983833e-01,  5.78922069e-01, -1.66905163e-01,\n",
       "         -1.94753900e-01, -1.93203975e-01, -1.73155991e+00,\n",
       "         -1.57118127e+00,  3.18319095e-01, -1.59877594e+00,\n",
       "          2.58150245e-01, -1.28857493e+00, -1.18344327e+00,\n",
       "         -6.94337149e-01],\n",
       "        [ 8.96545915e-01, -9.98571917e-01, -1.56516671e+00,\n",
       "         -4.91163909e-01, -3.31068117e-01, -3.33851885e-01,\n",
       "         -2.45465654e-01, -3.33231341e-01, -1.59877594e+00,\n",
       "         -4.62449528e-01,  1.14395737e+00, -2.64186216e-01,\n",
       "         -3.07281895e-01],\n",
       "        [ 9.20634756e-01,  7.82755561e-01,  6.02138686e-01,\n",
       "          1.01656109e-01,  5.65048810e-01, -7.77829729e-01,\n",
       "         -1.49979658e+00,  1.13275714e+00, -1.47289006e+00,\n",
       "          4.19225488e-01, -8.29477285e-03, -1.19803465e+00,\n",
       "         -1.46008872e-01],\n",
       "        [ 2.22058392e-01, -4.22520742e-01,  1.33622600e+00,\n",
       "          1.73191116e+00,  1.18543745e+00, -1.69415646e-01,\n",
       "         -7.65554088e-01, -8.21894168e-01, -1.06129138e-01,\n",
       "          9.36361796e-01, -1.50195496e+00, -1.91301236e+00,\n",
       "         -9.68501288e-01],\n",
       "        [ 7.15879615e-01,  7.02994629e-01,  1.23135638e+00,\n",
       "          1.13909114e+00, -1.24271903e-01, -1.23825120e+00,\n",
       "         -1.54058783e+00,  1.13275714e+00, -1.92248247e+00,\n",
       "         -2.29314307e-01, -3.07026809e-01, -8.47841488e-01,\n",
       "         -6.62082545e-01],\n",
       "        [ 1.08925664e+00, -7.14977492e-01,  8.81790995e-01,\n",
       "          1.01656109e-01,  1.11650538e+00,  1.06385614e+00,\n",
       "          1.39638215e+00,  3.18319095e-01,  1.81610004e-01,\n",
       "          7.24420686e-01,  7.17197316e-01, -1.03681016e-01,\n",
       "          1.30544833e+00],\n",
       "        [ 1.55898902e+00, -5.99767257e-01, -2.36818240e-01,\n",
       "         -9.95060925e-01,  1.32330159e+00,  1.47494674e+00,\n",
       "          9.88469649e-01, -8.21894168e-01,  7.39104592e-01,\n",
       "          6.31166598e-01, -9.36467833e-02,  9.76081238e-01,\n",
       "          7.89374660e-01],\n",
       "        [ 9.44723596e-01,  2.90085142e+00,  2.87529839e-01,\n",
       "          2.49861113e-01, -2.62136046e-01, -1.02448409e+00,\n",
       "         -1.44880752e+00,  1.29564475e+00, -1.00531396e+00,\n",
       "          1.19069113e+00, -1.37392694e+00, -1.31476571e+00,\n",
       "          4.75187554e-02],\n",
       "        [ 1.22174526e+00, -5.73180280e-01, -3.41687856e-01,\n",
       "         -6.69009915e-01,  6.33980881e-01,  9.48750777e-01,\n",
       "          1.53915152e+00, -3.33231341e-01,  8.29023074e-01,\n",
       "          1.69934979e+00,  6.74521311e-01,  6.69662220e-01,\n",
       "          1.72475819e+00],\n",
       "        [ 9.44723596e-01, -4.57970045e-01, -2.70790088e-02,\n",
       "         -9.06137922e-01,  1.51456382e-01,  5.04772933e-01,\n",
       "          8.66095900e-01, -7.40450364e-01,  1.27658915e-01,\n",
       "         -4.62449528e-01,  6.31845306e-01,  1.98288658e+00,\n",
       "          9.99029589e-01],\n",
       "        [ 4.38857953e-01, -3.60484462e-01,  1.09153023e+00,\n",
       "         -8.46855920e-01,  2.20388453e-01,  1.14607426e+00,\n",
       "          1.22301934e+00, -4.14675146e-01,  7.37078260e-02,\n",
       "          4.70091354e-01,  4.61141285e-01,  2.90286293e-01,\n",
       "          1.75701280e+00],\n",
       "        [ 4.99080054e-01, -1.27330402e+00, -2.70790088e-02,\n",
       "         -7.87573919e-01,  7.71845024e-01,  3.73223942e-01,\n",
       "         -7.45158463e-01,  1.53997616e+00, -2.15627053e+00,\n",
       "         -7.29495326e-01,  2.47761259e-01, -1.03752945e+00,\n",
       "          7.97733600e-02],\n",
       "        [ 1.54694460e+00,  1.47401697e+00,  2.52573300e-01,\n",
       "         -2.24394901e-01,  8.40777095e-01,  8.99419905e-01,\n",
       "          6.31546214e-01, -4.96118950e-01, -6.63623726e-01,\n",
       "          1.47940868e-01, -3.92378820e-01,  1.00526400e+00,\n",
       "          1.14417531e+00],\n",
       "        [ 6.91790775e-01,  6.58683000e-01,  8.81790995e-01,\n",
       "          1.28729615e+00,  1.66796195e+00, -1.48490556e+00,\n",
       "         -4.69817527e-01, -1.14766939e+00, -6.63623726e-01,\n",
       "          1.57218512e+00, -1.58730697e+00, -1.95678651e+00,\n",
       "         -7.26591754e-01],\n",
       "        [-3.92207031e-01,  7.37695003e-02, -5.86383626e-01,\n",
       "         -3.42958905e-01, -3.31068117e-01, -1.12314583e+00,\n",
       "         -1.39781846e+00,  2.19152660e+00, -1.22111831e+00,\n",
       "          9.36361796e-01, -9.89842893e-01, -1.54822782e+00,\n",
       "         -9.76269650e-02],\n",
       "        [ 1.02903454e+00,  3.39639273e-01, -2.36818240e-01,\n",
       "          6.94476127e-01, -6.06796402e-01, -1.56712367e+00,\n",
       "         -1.37742283e+00,  3.99762900e-01, -1.05926505e+00,\n",
       "          1.98758970e+00, -1.11787091e+00, -1.40231400e+00,\n",
       "         -3.55663801e-01],\n",
       "        [ 7.88146135e-01, -6.35216560e-01, -2.70790088e-02,\n",
       "         -1.65112899e-01,  4.96116739e-01,  9.15863529e-01,\n",
       "          1.18222809e+00, -1.14766939e+00,  5.95235021e-01,\n",
       "          8.51585352e-01,  5.46493295e-01,  3.48651820e-01,\n",
       "          2.54725061e+00],\n",
       "        [ 1.43854482e+00, -7.94738424e-01, -1.66905163e-01,\n",
       "         -8.46855920e-01, -2.62136046e-01, -1.69415646e-01,\n",
       "          4.07194341e-01, -8.21894168e-01, -8.81454414e-02,\n",
       "          4.62091351e-02,  8.87901337e-01,  2.61103529e-01,\n",
       "          1.78926740e+00],\n",
       "        [-7.17406372e-01, -1.13150680e+00, -3.06731318e-01,\n",
       "         -1.08398393e+00,  1.51456382e-01, -4.16070004e-01,\n",
       "         -9.59312524e-01,  2.19152660e+00, -2.17425422e+00,\n",
       "         -6.87107104e-01,  1.22930938e+00, -1.41690538e+00,\n",
       "         -1.46008872e-01],\n",
       "        [-1.11487223e+00,  9.33415099e-01, -1.28551440e+00,\n",
       "         -1.94753900e-01, -8.13592616e-01, -4.98288123e-01,\n",
       "         -3.98432840e-01,  7.39876816e-02,  4.51365450e-01,\n",
       "         -1.53063272e+00, -1.36322789e-01,  5.96705311e-01,\n",
       "         -5.20162285e-01],\n",
       "        [ 1.12538990e+00, -9.09948659e-01, -3.41687856e-01,\n",
       "         -1.08398393e+00, -5.53398319e-02,  1.11318702e+00,\n",
       "          1.14143684e+00, -1.14766939e+00,  4.15398057e-01,\n",
       "          9.87227662e-01,  2.05085253e-01,  1.32627440e+00,\n",
       "          1.03128419e+00],\n",
       "        [ 7.64057295e-01, -5.90904932e-01, -2.01861702e-01,\n",
       "         -1.02470193e+00,  1.25436952e+00,  1.39272862e+00,\n",
       "          1.28420621e+00, -1.70343732e-01,  1.29659918e+00,\n",
       "          5.25196043e-01, -5.09707781e-02,  1.07822091e+00,\n",
       "          2.24919080e-01],\n",
       "        [-6.09006592e-01,  1.53530432e-01, -3.41687856e-01,\n",
       "          6.94476127e-01, -6.06796402e-01, -1.02448409e+00,\n",
       "         -1.94476592e-01,  2.43585801e+00, -3.57900887e-01,\n",
       "         -9.28719969e-01, -4.35054825e-01,  9.61489856e-01,\n",
       "         -1.32330194e+00],\n",
       "        [ 5.71346574e-01,  1.97030721e+00,  1.72074792e+00,\n",
       "          1.58370615e+00,  9.09709167e-01, -5.31175371e-01,\n",
       "         -1.09188409e+00, -7.40450364e-01, -9.15395475e-01,\n",
       "          1.52979690e+00, -1.24589892e+00, -1.05212083e+00,\n",
       "         -3.07281895e-01],\n",
       "        [-7.90521091e-02, -9.09948659e-01, -1.66905163e-01,\n",
       "         -4.91163909e-01,  1.59902988e+00, -1.30402569e+00,\n",
       "         -7.96147525e-01, -1.22911319e+00, -1.22111831e+00,\n",
       "         -3.35284862e-01, -8.61814877e-01, -1.97137789e+00,\n",
       "         -3.07281895e-01],\n",
       "        [ 1.75169974e+00, -4.49107719e-01,  4.28340684e-02,\n",
       "         -2.26962396e+00,  2.20388453e-01,  1.63938298e+00,\n",
       "          1.64112964e+00, -5.77562755e-01,  2.41158836e+00,\n",
       "          1.10591468e+00,  1.01592935e+00,  5.23748402e-01,\n",
       "          2.65046534e+00]]))"
      ]
     },
     "execution_count": 12,
     "metadata": {},
     "output_type": "execute_result"
    }
   ],
   "source": [
    "X_train, X_test"
   ]
  },
  {
   "cell_type": "code",
   "execution_count": 13,
   "metadata": {
    "scrolled": true
   },
   "outputs": [
    {
     "name": "stdout",
     "output_type": "stream",
     "text": [
      "[[ 1.0070922   0.11178486  0.20228021 -0.32032447  0.26262164  0.25484731\n",
      "   0.20215309 -0.12079743  0.14932238  0.54164335 -0.10433755  0.04502\n",
      "   0.64155504]\n",
      " [ 0.11178486  1.0070922   0.12653448  0.23976957 -0.04145042 -0.34074697\n",
      "  -0.40651837  0.32913346 -0.21869801  0.25594276 -0.55848077 -0.41575429\n",
      "  -0.17568081]\n",
      " [ 0.20228021  0.12653448  1.0070922   0.44793327  0.29860042  0.15218128\n",
      "   0.15504173  0.23952967  0.03915381  0.23955323 -0.03809267  0.07206874\n",
      "   0.26058225]\n",
      " [-0.32032447  0.23976957  0.44793327  1.0070922  -0.06878867 -0.24983688\n",
      "  -0.29914495  0.43310549 -0.14056773  0.00446791 -0.20569447 -0.23181727\n",
      "  -0.39108138]\n",
      " [ 0.26262164 -0.04145042  0.29860042 -0.06878867  1.0070922   0.22249005\n",
      "   0.21607667 -0.26184899  0.25410469  0.16880082  0.11076073  0.14282531\n",
      "   0.44022621]\n",
      " [ 0.25484731 -0.34074697  0.15218128 -0.24983688  0.22249005  1.0070922\n",
      "   0.86318678 -0.46914826  0.62220824 -0.09177685  0.40865953  0.69802331\n",
      "   0.44223018]\n",
      " [ 0.20215309 -0.40651837  0.15504173 -0.29914495  0.21607667  0.86318678\n",
      "   1.0070922  -0.54640626  0.63520652 -0.22747766  0.53372869  0.79608615\n",
      "   0.43447127]\n",
      " [-0.12079743  0.32913346  0.23952967  0.43310549 -0.26184899 -0.46914826\n",
      "  -0.54640626  1.0070922  -0.35675101  0.22184239 -0.30287677 -0.56022628\n",
      "  -0.29586115]\n",
      " [ 0.14932238 -0.21869801  0.03915381 -0.14056773  0.25410469  0.62220824\n",
      "   0.63520652 -0.35675101  1.0070922  -0.04152659  0.28791708  0.50601088\n",
      "   0.29600752]\n",
      " [ 0.54164335  0.25594276  0.23955323  0.00446791  0.16880082 -0.09177685\n",
      "  -0.22747766  0.22184239 -0.04152659  1.0070922  -0.54760441 -0.48255604\n",
      "   0.30765199]\n",
      " [-0.10433755 -0.55848077 -0.03809267 -0.20569447  0.11076073  0.40865953\n",
      "   0.53372869 -0.30287677  0.28791708 -0.54760441  1.0070922   0.57137484\n",
      "   0.18408715]\n",
      " [ 0.04502    -0.41575429  0.07206874 -0.23181727  0.14282531  0.69802331\n",
      "   0.79608615 -0.56022628  0.50601088 -0.48255604  0.57137484  1.0070922\n",
      "   0.27893386]\n",
      " [ 0.64155504 -0.17568081  0.26058225 -0.39108138  0.44022621  0.44223018\n",
      "   0.43447127 -0.29586115  0.29600752  0.30765199  0.18408715  0.27893386\n",
      "   1.0070922 ]]\n",
      "[4.66910395 2.52606991 1.57286409 0.92998263 0.82384508 0.65770808\n",
      " 0.52229742 0.11008042 0.15110149 0.34428114 0.28984676 0.25455854\n",
      " 0.24045909]\n",
      "[[-0.11937378  0.4969941   0.19781368 -0.00427642 -0.24650874 -0.23121635\n",
      "  -0.06815218  0.02694308 -0.26526426  0.50459357  0.344852   -0.36025642\n",
      "   0.079452  ]\n",
      " [ 0.25274398  0.21060628 -0.06280008 -0.46354356  0.30370433 -0.58090881\n",
      "  -0.35446226 -0.0112096   0.16039591 -0.01726639  0.03954138  0.2823921\n",
      "  -0.10077041]\n",
      " [-0.01679911  0.29677001 -0.61649349  0.17627604 -0.13333855 -0.20088948\n",
      "   0.19767112 -0.16825811 -0.1919748  -0.17624199 -0.17525469 -0.14041939\n",
      "  -0.50659659]\n",
      " [ 0.20785819 -0.04332228 -0.62390322 -0.06592725  0.05571196  0.14101898\n",
      "   0.20465363  0.12678608  0.05583109  0.52779256  0.06764887  0.21892147\n",
      "   0.38233945]\n",
      " [-0.15913577  0.29310639 -0.13717051  0.40053959  0.71820463  0.13242029\n",
      "  -0.16900146  0.0588189   0.01352118 -0.17878729  0.24518791 -0.15113259\n",
      "   0.17040152]\n",
      " [-0.39141896  0.0728112  -0.13086407 -0.28182436 -0.14318547  0.03994967\n",
      "   0.08684527 -0.48277692 -0.22589742 -0.32587907  0.35684361  0.30438048\n",
      "   0.32405862]\n",
      " [-0.42213656  0.00424311 -0.13065225 -0.19314564 -0.11364712 -0.06089054\n",
      "   0.06272839  0.81551604 -0.04611224 -0.20828634  0.14196539  0.10444618\n",
      "  -0.07218151]\n",
      " [ 0.3178076   0.05617525 -0.25577707  0.08619984 -0.44228003  0.10008431\n",
      "  -0.56650113  0.0988305   0.09645921 -0.34271606  0.06118924 -0.23946749\n",
      "   0.31436187]\n",
      " [-0.30967509  0.06219724 -0.13185738 -0.44420678  0.12249057  0.49576068\n",
      "  -0.43818553 -0.09160919 -0.09904291  0.22762561 -0.30862841 -0.15441286\n",
      "  -0.20887236]\n",
      " [ 0.12527718  0.5171294   0.10763096 -0.08528002 -0.147596    0.40695471\n",
      "   0.19588694 -0.00792923  0.58110409 -0.05481477  0.21258246  0.18216622\n",
      "  -0.23050375]\n",
      " [-0.29993913 -0.2638192  -0.0954233   0.4174996  -0.16755389 -0.07994134\n",
      "  -0.41797433 -0.10754078  0.21499134  0.28137578  0.28944528  0.35875641\n",
      "  -0.31370942]\n",
      " [-0.39059765 -0.14875189 -0.14262267 -0.1168289  -0.01041189 -0.2882708\n",
      "   0.12833688 -0.14971372  0.63612859  0.02707948 -0.08875691 -0.4704104\n",
      "   0.18618944]\n",
      " [-0.25792667  0.40160567  0.10370994  0.26935032 -0.12765438 -0.12289801\n",
      "  -0.07900431  0.03100767  0.05404703  0.04168587 -0.63306483  0.36340558\n",
      "   0.33583504]]\n"
     ]
    }
   ],
   "source": [
    "cov_mat = np.cov(X_train.T)\n",
    "print(cov_mat)\n",
    "eig_values, eig_vectors = np.linalg.eig(cov_mat)\n",
    "print(eig_values)\n",
    "print(eig_vectors)"
   ]
  },
  {
   "cell_type": "code",
   "execution_count": 14,
   "metadata": {},
   "outputs": [
    {
     "data": {
      "text/plain": [
       "'from sklearn.decomposition import  PCA\\npca = PCA(n_components = None)\\nX_train = pca.fit_transform(X_train)\\nX_test = pca.transform(X_test)\\nexplained_variance = pca.explained_variance_ratio_\\nexplained_variance'"
      ]
     },
     "execution_count": 14,
     "metadata": {},
     "output_type": "execute_result"
    }
   ],
   "source": [
    "'''from sklearn.decomposition import  PCA\n",
    "pca = PCA(n_components = None)\n",
    "X_train = pca.fit_transform(X_train)\n",
    "X_test = pca.transform(X_test)\n",
    "explained_variance = pca.explained_variance_ratio_\n",
    "explained_variance'''"
   ]
  },
  {
   "cell_type": "code",
   "execution_count": 15,
   "metadata": {},
   "outputs": [
    {
     "data": {
      "text/plain": [
       "\"plt.plot(np.cumsum(pca.explained_variance_ratio_))\\nplt.xlabel('no. of components')\\nplt.ylabel('cumulative explained variance')\""
      ]
     },
     "execution_count": 15,
     "metadata": {},
     "output_type": "execute_result"
    }
   ],
   "source": [
    "'''a scree plot is a line plot of the eigenvalues of factors or principal components in an analysis. \n",
    "The scree plot is used to determine the number of factors to retain in an exploratory factor analysis (FA) \n",
    "or principal components to keep in a principal component analysis (PCA).'''\n",
    "'''plt.plot(np.cumsum(pca.explained_variance_ratio_))\n",
    "plt.xlabel('no. of components')\n",
    "plt.ylabel('cumulative explained variance')'''"
   ]
  },
  {
   "cell_type": "code",
   "execution_count": 16,
   "metadata": {},
   "outputs": [
    {
     "data": {
      "text/plain": [
       "array([0.35663253, 0.19294467])"
      ]
     },
     "execution_count": 16,
     "metadata": {},
     "output_type": "execute_result"
    }
   ],
   "source": [
    "from sklearn.decomposition import  PCA\n",
    "pca = PCA(n_components = 2)\n",
    "X_train = pca.fit_transform(X_train)\n",
    "X_test = pca.transform(X_test)\n",
    "explained_variance = pca.explained_variance_ratio_\n",
    "explained_variance"
   ]
  },
  {
   "cell_type": "code",
   "execution_count": 17,
   "metadata": {},
   "outputs": [
    {
     "name": "stderr",
     "output_type": "stream",
     "text": [
      "C:\\Users\\naikp\\Anaconda3\\lib\\site-packages\\sklearn\\linear_model\\logistic.py:433: FutureWarning: Default solver will be changed to 'lbfgs' in 0.22. Specify a solver to silence this warning.\n",
      "  FutureWarning)\n",
      "C:\\Users\\naikp\\Anaconda3\\lib\\site-packages\\sklearn\\linear_model\\logistic.py:460: FutureWarning: Default multi_class will be changed to 'auto' in 0.22. Specify the multi_class option to silence this warning.\n",
      "  \"this warning.\", FutureWarning)\n"
     ]
    },
    {
     "data": {
      "text/plain": [
       "LogisticRegression(C=1.0, class_weight=None, dual=False, fit_intercept=True,\n",
       "          intercept_scaling=1, max_iter=100, multi_class='warn',\n",
       "          n_jobs=None, penalty='l2', random_state=None, solver='warn',\n",
       "          tol=0.0001, verbose=0, warm_start=False)"
      ]
     },
     "execution_count": 17,
     "metadata": {},
     "output_type": "execute_result"
    }
   ],
   "source": [
    "from sklearn.linear_model import LogisticRegression\n",
    "classifier = LogisticRegression()\n",
    "classifier.fit(X_train, y_train)"
   ]
  },
  {
   "cell_type": "code",
   "execution_count": 18,
   "metadata": {},
   "outputs": [
    {
     "data": {
      "text/plain": [
       "array([3, 1, 3, 1, 1, 1, 2, 2, 2, 2, 3, 2, 3, 3, 3, 1, 1, 3, 1, 1, 1, 2,\n",
       "       1, 3, 3, 3, 1, 1, 2, 2, 1, 1, 2, 3, 3, 1], dtype=int64)"
      ]
     },
     "execution_count": 18,
     "metadata": {},
     "output_type": "execute_result"
    }
   ],
   "source": [
    "logistic_pred = classifier.predict(X_test)\n",
    "logistic_pred"
   ]
  },
  {
   "cell_type": "code",
   "execution_count": 19,
   "metadata": {},
   "outputs": [
    {
     "data": {
      "text/plain": [
       "array([3, 1, 3, 1, 1, 1, 2, 2, 2, 2, 3, 2, 3, 3, 3, 1, 1, 3, 1, 1, 1, 2,\n",
       "       1, 3, 3, 3, 1, 1, 2, 2, 1, 1, 2, 3, 3, 1], dtype=int64)"
      ]
     },
     "execution_count": 19,
     "metadata": {},
     "output_type": "execute_result"
    }
   ],
   "source": [
    "y_test"
   ]
  },
  {
   "cell_type": "code",
   "execution_count": 20,
   "metadata": {},
   "outputs": [
    {
     "data": {
      "text/plain": [
       "1.0"
      ]
     },
     "execution_count": 20,
     "metadata": {},
     "output_type": "execute_result"
    }
   ],
   "source": [
    "from sklearn import metrics\n",
    "logistic_accuracy = metrics.accuracy_score(y_test, logistic_pred)\n",
    "logistic_accuracy"
   ]
  },
  {
   "cell_type": "code",
   "execution_count": 21,
   "metadata": {},
   "outputs": [
    {
     "data": {
      "text/plain": [
       "array([[15,  0,  0],\n",
       "       [ 0,  9,  0],\n",
       "       [ 0,  0, 12]], dtype=int64)"
      ]
     },
     "execution_count": 21,
     "metadata": {},
     "output_type": "execute_result"
    }
   ],
   "source": [
    "from sklearn.metrics import confusion_matrix\n",
    "confusion_matrix(y_test, logistic_pred)"
   ]
  },
  {
   "cell_type": "code",
   "execution_count": 22,
   "metadata": {
    "scrolled": true
   },
   "outputs": [
    {
     "name": "stderr",
     "output_type": "stream",
     "text": [
      "'c' argument looks like a single numeric RGB or RGBA sequence, which should be avoided as value-mapping will have precedence in case its length matches with 'x' & 'y'.  Please use a 2-D array with a single row if you really want to specify the same RGB or RGBA value for all points.\n",
      "'c' argument looks like a single numeric RGB or RGBA sequence, which should be avoided as value-mapping will have precedence in case its length matches with 'x' & 'y'.  Please use a 2-D array with a single row if you really want to specify the same RGB or RGBA value for all points.\n",
      "'c' argument looks like a single numeric RGB or RGBA sequence, which should be avoided as value-mapping will have precedence in case its length matches with 'x' & 'y'.  Please use a 2-D array with a single row if you really want to specify the same RGB or RGBA value for all points.\n"
     ]
    },
    {
     "data": {
      "image/png": "[encoded data removed]",
      "text/plain": [
       "<Figure size 432x288 with 1 Axes>"
      ]
     },
     "metadata": {
      "needs_background": "light"
     },
     "output_type": "display_data"
    }
   ],
   "source": [
    "# Visualising the Test set results\n",
    "from matplotlib.colors import ListedColormap\n",
    "X_set, y_set = X_test, y_test\n",
    "X1, X2 = np.meshgrid(np.arange(start = X_set[:, 0].min() - 1, stop = X_set[:, 0].max() + 1, step = 0.01),\n",
    "                     np.arange(start = X_set[:, 1].min() - 1, stop = X_set[:, 1].max() + 1, step = 0.01))\n",
    "plt.contourf(X1, X2, classifier.predict(np.array([X1.ravel(), X2.ravel()]).T).reshape(X1.shape),\n",
    "             alpha = 0.75, cmap = ListedColormap(('red', 'green', 'blue')))\n",
    "plt.xlim(X1.min(), X1.max())\n",
    "plt.ylim(X2.min(), X2.max())\n",
    "for i, j in enumerate(np.unique(y_set)):\n",
    "    plt.scatter(X_set[y_set == j, 0], X_set[y_set == j, 1],\n",
    "                c = ListedColormap(('red', 'green', 'blue'))(i), label = j)\n",
    "plt.title('Logistic Regression (Test set)')\n",
    "plt.xlabel('PC1')\n",
    "plt.ylabel('PC2')\n",
    "plt.legend()\n",
    "plt.show()"
   ]
  },
  {
   "cell_type": "code",
   "execution_count": 23,
   "metadata": {},
   "outputs": [
    {
     "data": {
      "text/plain": [
       "<matplotlib.axes._subplots.AxesSubplot at 0x1c6c49d1240>"
      ]
     },
     "execution_count": 23,
     "metadata": {},
     "output_type": "execute_result"
    },
    {
     "data": {
      "image/png": "[encoded data removed]",
      "text/plain": [
       "<Figure size 432x288 with 2 Axes>"
      ]
     },
     "metadata": {
      "needs_background": "light"
     },
     "output_type": "display_data"
    }
   ],
   "source": [
    "sns.heatmap(df.corr(), cmap='viridis', annot=False)"
   ]
  }
 ],
 "metadata": {
  "kernelspec": {
   "display_name": "Python 3",
   "language": "python",
   "name": "python3"
  },
  "language_info": {
   "codemirror_mode": {
    "name": "ipython",
    "version": 3
   },
   "file_extension": ".py",
   "mimetype": "text/x-python",
   "name": "python",
   "nbconvert_exporter": "python",
   "pygments_lexer": "ipython3",
   "version": "3.7.3"
  }
 },
 "nbformat": 4,
 "nbformat_minor": 2
}
