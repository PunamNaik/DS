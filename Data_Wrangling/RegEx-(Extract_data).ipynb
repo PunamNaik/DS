{
 "cells": [
  {
   "cell_type": "code",
   "execution_count": 1,
   "metadata": {},
   "outputs": [],
   "source": [
    "import re"
   ]
  },
  {
   "cell_type": "code",
   "execution_count": 2,
   "metadata": {},
   "outputs": [],
   "source": [
    "text='''Mr Smith\n",
    "Ms Davis\n",
    "Mrs. Robinson\n",
    "Mr. T\n",
    "'''"
   ]
  },
  {
   "cell_type": "code",
   "execution_count": 5,
   "metadata": {},
   "outputs": [
    {
     "name": "stdout",
     "output_type": "stream",
     "text": [
      "<re.Match object; span=(8, 10), match='Mr'>\n"
     ]
    }
   ],
   "source": [
    "text2='Braund, Mr. Owen Harris'\n",
    "pattern=re.compile('M(r|s|rs)')\n",
    "matches=pattern.finditer(text2)\n",
    "for i in matches:\n",
    "    print(i)"
   ]
  },
  {
   "cell_type": "code",
   "execution_count": 44,
   "metadata": {
    "scrolled": true
   },
   "outputs": [
    {
     "name": "stdout",
     "output_type": "stream",
     "text": [
      "<re.Match object; span=(0, 8), match='Mr Smith'>\n",
      "<re.Match object; span=(9, 17), match='Ms Davis'>\n",
      "<re.Match object; span=(18, 31), match='Mrs. Robinson'>\n",
      "<re.Match object; span=(32, 37), match='Mr. T'>\n"
     ]
    }
   ],
   "source": [
    "#to match all names\n",
    "pattern=re.compile('M(r|s|rs).?\\s[A-Z]\\w*')\n",
    "matches=pattern.finditer(text)\n",
    "for i in matches:\n",
    "    print(i)"
   ]
  },
  {
   "cell_type": "code",
   "execution_count": 46,
   "metadata": {},
   "outputs": [],
   "source": [
    "mystr = '''Tata Limited\n",
    "Dr. David Landsman, executive director\n",
    "18, Grosvenor Place\n",
    "London SW1X 7HSc\n",
    "Phone: +44 (20) 7235 8281\n",
    "Fax: +44 (20) 7235 8727\n",
    "Email: tata@tata.co.uk\n",
    "Website: www.europe.tata.com\n",
    "Directions: View map\n",
    "\n",
    "Tata Sons, North America\n",
    "1700 North Moore St, Suite 1520\n",
    "Arlington, VA 22209-1911\n",
    "USA\n",
    "Phone: +1 (703) 243 9787\n",
    "Fax: +1 (703) 243 9791\n",
    "66-66\n",
    "455-4545\n",
    "Email: northamerica@tata.com\n",
    "Website: www.northamerica.tata.com\n",
    "Directions: View map fass\n",
    "\n",
    "bahut hi badia aadmi haiaiinaiiiiiiiiiiii'''"
   ]
  },
  {
   "cell_type": "code",
   "execution_count": 62,
   "metadata": {},
   "outputs": [
    {
     "name": "stdout",
     "output_type": "stream",
     "text": [
      "<re.Match object; span=(89, 114), match='Phone: +44 (20) 7235 8281'>\n",
      "<re.Match object; span=(299, 323), match='Phone: +1 (703) 243 9787'>\n"
     ]
    }
   ],
   "source": [
    "#to match phone numbers\n",
    "pattern=re.compile('P[a-zA-Z]\\w+:\\s\\+\\d{1,2}.\\(\\d{2,3}\\).\\d{3,4}.\\d{4}')\n",
    "matches=pattern.finditer(mystr)\n",
    "for i in matches:\n",
    "    print(i)"
   ]
  },
  {
   "cell_type": "code",
   "execution_count": 65,
   "metadata": {},
   "outputs": [
    {
     "name": "stdout",
     "output_type": "stream",
     "text": [
      "<re.Match object; span=(139, 161), match='Email: tata@tata.co.uk'>\n",
      "<re.Match object; span=(362, 390), match='Email: northamerica@tata.com'>\n"
     ]
    }
   ],
   "source": [
    "#to match email ids\n",
    "pattern=re.compile('Email:\\s([a-zA-z])+@([a-z]+)\\.([a-z])+(\\.)?([a-z]+)?')\n",
    "matches=pattern.finditer(mystr)\n",
    "for i in matches:\n",
    "    print(i)"
   ]
  },
  {
   "cell_type": "code",
   "execution_count": null,
   "metadata": {},
   "outputs": [],
   "source": []
  }
 ],
 "metadata": {
  "kernelspec": {
   "display_name": "Python 3",
   "language": "python",
   "name": "python3"
  },
  "language_info": {
   "codemirror_mode": {
    "name": "ipython",
    "version": 3
   },
   "file_extension": ".py",
   "mimetype": "text/x-python",
   "name": "python",
   "nbconvert_exporter": "python",
   "pygments_lexer": "ipython3",
   "version": "3.7.3"
  }
 },
 "nbformat": 4,
 "nbformat_minor": 2
}
