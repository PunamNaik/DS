{
 "cells": [
  {
   "cell_type": "code",
   "execution_count": 48,
   "metadata": {},
   "outputs": [
    {
     "name": "stdout",
     "output_type": "stream",
     "text": [
      "<!DOCTYPE html>\n",
      "<html class=\"client-nojs\" lang=\"en\" dir=\"ltr\">\n",
      "<head>\n",
      "<meta charset=\"UTF-8\"/>\n",
      "<title>The Fabulous Palm Springs Follies - Wikipedia</title>\n",
      "<script>document.documentElement.className=\"client-js\";RLCONF={\"wgBreakFrames\":!1,\"wgSeparatorTransformTable\":[\"\",\"\"],\"wgDigitTransformTable\":[\"\",\"\"],\"wgDefaultDateFormat\":\"dmy\",\"wgMonthNames\":[\"\",\"January\",\"February\",\"March\",\"April\",\"May\",\"June\",\"July\",\"August\",\"September\",\"October\",\"November\",\"December\"],\"wgMonthNamesShort\":[\"\",\"Jan\",\"Feb\",\"Mar\",\"Apr\",\"May\",\"Jun\",\"Jul\",\"Aug\",\"Sep\",\"Oct\",\"Nov\",\"Dec\"],\"wgRequestId\":\"XcueXApAAD0AAHgKLRMAAABJ\",\"wgCSPNonce\":!1,\"wgCanonicalNamespace\":\"\",\"wgCanonicalSpecialPageName\":!1,\"wgNamespaceNumber\":0,\"wgPageName\":\"The_Fabulous_Palm_Springs_Follies\",\"wgTitle\":\"The Fabulous Palm Springs Follies\",\"wgCurRevisionId\":918722489,\"wgRevisionId\":918722489,\"wgArticleId\":20568945,\"wgIsArticle\":!0,\"wgIsRedirect\":!1,\"wgAction\":\"view\",\"wgUserName\":null,\"wgUserGroups\":[\"*\"],\"wgCategories\":[\"Theatre companies in California\",\"Tourist attractions in Palm Springs, California\"],\"wgPageContentLanguage\":\"en\",\"wgPageContentModel\":\"wikitext\",\"wgRelevantPageName\":\n",
      "\"The_Fabulous_Palm_Springs_Follies\",\"wgRelevantArticleId\":20568945,\"wgIsProbablyEditable\":!0,\"wgRelevantPageIsProbablyEditable\":!0,\"wgRestrictionEdit\":[],\"wgRestrictionMove\":[],\"wgMediaViewerOnClick\":!0,\"wgMediaViewerEnabledByDefault\":!0,\"wgPopupsReferencePreviews\":!1,\"wgPopupsConflictsWithNavPopupGadget\":!1,\"wgVisualEditor\":{\"pageLanguageCode\":\"en\",\"pageLanguageDir\":\"ltr\",\"pageVariantFallbacks\":\"en\"},\"wgMFDisplayWikibaseDescriptions\":{\"search\":!0,\"nearby\":!0,\"watchlist\":!0,\"tagline\":!1},\"wgWMESchemaEditAttemptStepOversample\":!1,\"wgULSCurrentAutonym\":\"English\",\"wgNoticeProject\":\"wikipedia\",\"wgWikibaseItemId\":\"Q7733002\",\"wgCentralAuthMobileDomain\":!1,\"wgEditSubmitButtonLabelPublish\":!0};RLSTATE={\"ext.globalCssJs.user.styles\":\"ready\",\"site.styles\":\"ready\",\"noscript\":\"ready\",\"user.styles\":\"ready\",\"ext.globalCssJs.user\":\"ready\",\"user\":\"ready\",\"user.options\":\"ready\",\"user.tokens\":\"loading\",\"ext.cite.styles\":\"ready\",\"mediawiki.legacy.shared\":\"ready\",\n",
      "\"mediawiki.legacy.commonPrint\":\"ready\",\"wikibase.client.init\":\"ready\",\"ext.visualEditor.desktopArticleTarget.noscript\":\"ready\",\"ext.uls.interlanguage\":\"ready\",\"ext.wikimediaBadges\":\"ready\",\"mediawiki.skinning.interface\":\"ready\",\"skins.vector.styles\":\"ready\"};RLPAGEMODULES=[\"ext.cite.ux-enhancements\",\"site\",\"mediawiki.page.startup\",\"mediawiki.page.ready\",\"mediawiki.searchSuggest\",\"ext.gadget.teahouse\",\"ext.gadget.ReferenceTooltips\",\"ext.gadget.watchlist-notice\",\"ext.gadget.DRN-wizard\",\"ext.gadget.charinsert\",\"ext.gadget.refToolbar\",\"ext.gadget.extra-toolbar-buttons\",\"ext.gadget.switcher\",\"ext.centralauth.centralautologin\",\"mmv.head\",\"mmv.bootstrap.autostart\",\"ext.popups\",\"ext.visualEditor.desktopArticleTarget.init\",\"ext.visualEditor.targetLoader\",\"ext.eventLogging\",\"ext.wikimediaEvents\",\"ext.navigationTiming\",\"ext.uls.compactlinks\",\"ext.uls.interface\",\"ext.cx.eventlogging.campaigns\",\"ext.quicksurveys.init\",\"ext.centralNotice.geoIP\",\"ext.centralNotice.startUp\",\"skins.vector.js\"];</script>\n",
      "<script>(RLQ=window.RLQ||[]).push(function(){mw.loader.implement(\"user.tokens@tffin\",function($,jQuery,require,module){/*@nomin*/mw.user.tokens.set({\"patrolToken\":\"+\\\\\",\"watchToken\":\"+\\\\\",\"csrfToken\":\"+\\\\\"});\n",
      "});});</script>\n",
      "<link rel=\"stylesheet\" href=\"/w/load.php?lang=en&amp;modules=ext.cite.styles%7Cext.uls.interlanguage%7Cext.visualEditor.desktopArticleTarget.noscript%7Cext.wikimediaBadges%7Cmediawiki.legacy.commonPrint%2Cshared%7Cmediawiki.skinning.interface%7Cskins.vector.styles%7Cwikibase.client.init&amp;only=styles&amp;skin=vector\"/>\n",
      "<script async=\"\" src=\"/w/load.php?lang=en&amp;modules=startup&amp;only=scripts&amp;raw=1&amp;skin=vector\"></script>\n",
      "<meta name=\"ResourceLoaderDynamicStyles\" content=\"\"/>\n",
      "<link rel=\"stylesheet\" href=\"/w/load.php?lang=en&amp;modules=site.styles&amp;only=styles&amp;skin=vector\"/>\n",
      "<meta name=\"generator\" content=\"MediaWiki 1.35.0-wmf.5\"/>\n",
      "<meta name=\"referrer\" content=\"origin\"/>\n",
      "<meta name=\"referrer\" content=\"origin-when-crossorigin\"/>\n",
      "<meta name=\"referrer\" content=\"origin-when-cross-origin\"/>\n",
      "<meta property=\"og:image\" content=\"https://upload.wikimedia.org/wikipedia/en/9/97/Dorothy_Kloss.jpg\"/>\n",
      "<link rel=\"alternate\" href=\"android-app://org.wikipedia/http/en.m.wikipedia.org/wiki/The_Fabulous_Palm_Springs_Follies\"/>\n",
      "<link rel=\"alternate\" type=\"application/x-wiki\" title=\"Edit this page\" href=\"/w/index.php?title=The_Fabulous_Palm_Springs_Follies&amp;action=edit\"/>\n",
      "<link rel=\"edit\" title=\"Edit this page\" href=\"/w/index.php?title=The_Fabulous_Palm_Springs_Follies&amp;action=edit\"/>\n",
      "<link rel=\"apple-touch-icon\" href=\"/static/apple-touch/wikipedia.png\"/>\n",
      "<link rel=\"shortcut icon\" href=\"/static/favicon/wikipedia.ico\"/>\n",
      "<link rel=\"search\" type=\"application/opensearchdescription+xml\" href=\"/w/opensearch_desc.php\" title=\"Wikipedia (en)\"/>\n",
      "<link rel=\"EditURI\" type=\"application/rsd+xml\" href=\"//en.wikipedia.org/w/api.php?action=rsd\"/>\n",
      "<link rel=\"license\" href=\"//creativecommons.org/licenses/by-sa/3.0/\"/>\n",
      "<link rel=\"canonical\" href=\"https://en.wikipedia.org/wiki/The_Fabulous_Palm_Springs_Follies\"/>\n",
      "<link rel=\"dns-prefetch\" href=\"//login.wikimedia.org\"/>\n",
      "<link rel=\"dns-prefetch\" href=\"//meta.wikimedia.org\" />\n",
      "<!--[if lt IE 9]><script src=\"/w/resources/lib/html5shiv/html5shiv.js\"></script><![endif]-->\n",
      "</head>\n",
      "<body class=\"mediawiki ltr sitedir-ltr mw-hide-empty-elt ns-0 ns-subject mw-editable page-The_Fabulous_Palm_Springs_Follies rootpage-The_Fabulous_Palm_Springs_Follies skin-vector action-view\">\n",
      "<div id=\"mw-page-base\" class=\"noprint\"></div>\n",
      "<div id=\"mw-head-base\" class=\"noprint\"></div>\n",
      "<div id=\"content\" class=\"mw-body\" role=\"main\">\n",
      "\t<a id=\"top\"></a>\n",
      "\t<div id=\"siteNotice\" class=\"mw-body-content\"><!-- CentralNotice --></div>\n",
      "\t<div class=\"mw-indicators mw-body-content\">\n",
      "</div>\n",
      "\n",
      "\t<h1 id=\"firstHeading\" class=\"firstHeading\" lang=\"en\">The Fabulous Palm Springs Follies</h1>\n",
      "\t\n",
      "\t<div id=\"bodyContent\" class=\"mw-body-content\">\n",
      "\t\t<div id=\"siteSub\" class=\"noprint\">From Wikipedia, the free encyclopedia</div>\n",
      "\t\t<div id=\"contentSub\"></div>\n",
      "\t\t\n",
      "\t\t\n",
      "\t\t\n",
      "\t\t<div id=\"jump-to-nav\"></div>\n",
      "\t\t<a class=\"mw-jump-link\" href=\"#mw-head\">Jump to navigation</a>\n",
      "\t\t<a class=\"mw-jump-link\" href=\"#p-search\">Jump to search</a>\n",
      "\t\t<div id=\"mw-content-text\" lang=\"en\" dir=\"ltr\" class=\"mw-content-ltr\"><div class=\"mw-parser-output\"><div class=\"thumb tright\"><div class=\"thumbinner\" style=\"width:222px;\"><a href=\"/wiki/File:Dorothy_Kloss.jpg\" class=\"image\"><img alt=\"\" src=\"//upload.wikimedia.org/wikipedia/en/thumb/9/97/Dorothy_Kloss.jpg/220px-Dorothy_Kloss.jpg\" decoding=\"async\" width=\"220\" height=\"335\" class=\"thumbimage\" srcset=\"//upload.wikimedia.org/wikipedia/en/thumb/9/97/Dorothy_Kloss.jpg/330px-Dorothy_Kloss.jpg 1.5x, //upload.wikimedia.org/wikipedia/en/thumb/9/97/Dorothy_Kloss.jpg/440px-Dorothy_Kloss.jpg 2x\" data-file-width=\"500\" data-file-height=\"762\" /></a>  <div class=\"thumbcaption\"><div class=\"magnify\"><a href=\"/wiki/File:Dorothy_Kloss.jpg\" class=\"internal\" title=\"Enlarge\"></a></div><a href=\"/wiki/Dorothy_Kloss\" title=\"Dorothy Kloss\">Dorothy Kloss</a> performing at the Fabulous Palm Springs Follies</div></div></div>\n",
      "<p><b>The Fabulous Palm Springs Follies</b> was a <a href=\"/wiki/Ziegfeld_Follies\" title=\"Ziegfeld Follies\">Ziegfeld Follies</a> style dance and musical review show that played at the historic <a href=\"/wiki/Plaza_Theatre_(Palm_Springs)\" title=\"Plaza Theatre (Palm Springs)\">Plaza Theatre</a> in <a href=\"/wiki/Palm_Springs,_California\" title=\"Palm Springs, California\">Palm Springs, California</a>, United States,<sup id=\"cite_ref-1\" class=\"reference\"><a href=\"#cite_note-1\">&#91;1&#93;</a></sup> seasonally from November to mid-May.<sup id=\"cite_ref-Marshall_2-0\" class=\"reference\"><a href=\"#cite_note-Marshall-2\">&#91;2&#93;</a></sup> The Follies was founded in 1990 by <a href=\"/wiki/Riff_Markowitz\" title=\"Riff Markowitz\">Riff Markowitz</a> and Mary Jardin.<sup id=\"cite_ref-3\" class=\"reference\"><a href=\"#cite_note-3\">&#91;3&#93;</a></sup> <a href=\"/wiki/Impresario\" title=\"Impresario\">Impresario</a> Markowitz  also served as the show's managing director and <a href=\"/wiki/Emcee\" class=\"mw-redirect\" title=\"Emcee\">emcee</a>. The show was often credited with helping to revitalize and maintain the downtown area by bringing in patrons from around the globe.<sup id=\"cite_ref-4\" class=\"reference\"><a href=\"#cite_note-4\">&#91;4&#93;</a></sup> The Follies was unique in that it only featured performers 55 and older and holds Guinness World Records for this claim to fame.<sup id=\"cite_ref-5\" class=\"reference\"><a href=\"#cite_note-5\">&#91;5&#93;</a></sup> It was the subject of a short documentary titled <i><a href=\"/wiki/Still_Kicking:_The_Fabulous_Palm_Springs_Follies\" title=\"Still Kicking: The Fabulous Palm Springs Follies\">Still Kicking: The Fabulous Palm Springs Follies</a></i> which was nominated at the <a href=\"/wiki/70th_Academy_Awards\" title=\"70th Academy Awards\">70th</a> <a href=\"/wiki/Academy_Awards\" title=\"Academy Awards\">Academy Awards</a> for <a href=\"/wiki/Academy_Award_for_Best_Documentary_(Short_Subject)\" title=\"Academy Award for Best Documentary (Short Subject)\">Best Short Subject Documentary</a>.<sup id=\"cite_ref-6\" class=\"reference\"><a href=\"#cite_note-6\">&#91;6&#93;</a></sup> A segment that aired on <a href=\"/wiki/Seattle\" title=\"Seattle\">Seattle</a> television station <a href=\"/wiki/KOMO-TV\" title=\"KOMO-TV\">KOMO-TV</a> that featured the Follies received an Emmy in 1997.<sup id=\"cite_ref-7\" class=\"reference\"><a href=\"#cite_note-7\">&#91;7&#93;</a></sup>  The shows attracted approximately 170,000 attendees yearly.<sup id=\"cite_ref-Niemann_8-0\" class=\"reference\"><a href=\"#cite_note-Niemann-8\">&#91;8&#93;</a></sup><sup class=\"reference\" style=\"white-space:nowrap;\">:<span>206</span></sup> On June 5, 2013, co-founders Markowitz and Jardin announced they would close the Follies on May 18, 2014.<sup id=\"cite_ref-9\" class=\"reference\"><a href=\"#cite_note-9\">&#91;9&#93;</a></sup>\n",
      "</p><p><br />\n",
      "</p>\n",
      "<h2><span class=\"mw-headline\" id=\"Performers\">Performers</span><span class=\"mw-editsection\"><span class=\"mw-editsection-bracket\">[</span><a href=\"/w/index.php?title=The_Fabulous_Palm_Springs_Follies&amp;action=edit&amp;section=1\" title=\"Edit section: Performers\">edit</a><span class=\"mw-editsection-bracket\">]</span></span></h2>\n",
      "<p>The Follies had a cast of both featured and guest performers.\n",
      "</p><p>Featured Follies performers included:\n",
      "</p>\n",
      "<ul><li><i><a href=\"/wiki/Guinness_Book_of_Records\" class=\"mw-redirect\" title=\"Guinness Book of Records\">Guinness Book of Records</a></i> \"World's Oldest Still Performing Showgirl\" (at age 87) Beverly Allen<sup id=\"cite_ref-Niemann_8-1\" class=\"reference\"><a href=\"#cite_note-Niemann-8\">&#91;8&#93;</a></sup><sup class=\"reference\" style=\"white-space:nowrap;\">:<span>205</span></sup><sup id=\"cite_ref-10\" class=\"reference\"><a href=\"#cite_note-10\">&#91;10&#93;</a></sup></li>\n",
      "<li>Original Broadway <i><a href=\"/wiki/West_Side_Story\" title=\"West Side Story\">West Side Story</a></i> cast member <a href=\"/wiki/West_Side_Story_(Original_Broadway_Cast)#Performance\" title=\"West Side Story (Original Broadway Cast)\">Hank Brunjes</a></li>\n",
      "<li>Actor, singer, dancer, writer and choreographer <a href=\"/wiki/Leonard_Crofoot\" title=\"Leonard Crofoot\">Leonard Crofoot</a></li>\n",
      "<li>Broadway musical <i><a href=\"/wiki/Dreamgirls\" title=\"Dreamgirls\">Dreamgirls</a></i> cast member <a href=\"/wiki/Dreamgirls:_Original_Broadway_Cast_Album#Performers\" title=\"Dreamgirls: Original Broadway Cast Album\">Stephanie Eley</a></li>\n",
      "<li>Dancer Randy Doney, who performed with <a href=\"/wiki/Mitzi_Gaynor#Life_and_career\" title=\"Mitzi Gaynor\">Mitzi Gaynor</a></li>\n",
      "<li>Popular singer <a href=\"/wiki/Gogi_Grant\" title=\"Gogi Grant\">Gogi Grant</a></li>\n",
      "<li>Dancer and showgirl <a href=\"/wiki/Dorothy_Kloss\" title=\"Dorothy Kloss\">Dorothy Kloss</a></li>\n",
      "<li>Bud and James Mercer, long time vaudeville performers and musicians<sup id=\"cite_ref-11\" class=\"reference\"><a href=\"#cite_note-11\">&#91;11&#93;</a></sup></li>\n",
      "<li>Sitcom <i><a href=\"/wiki/Blansky%27s_Beauties\" title=\"Blansky&#39;s Beauties\">Blansky's Beauties</a></i> cast member <a href=\"/wiki/Blansky%27s_Beauties#Cast\" title=\"Blansky&#39;s Beauties\">Jill Owens</a></li>\n",
      "<li><a href=\"/wiki/Broadway_theatre\" title=\"Broadway theatre\">Broadway</a> and television actress Kit Smythe<sup id=\"cite_ref-12\" class=\"reference\"><a href=\"#cite_note-12\">&#91;12&#93;</a></sup></li>\n",
      "<li>Dancer, skater, entertainer Lou De Grado<sup id=\"cite_ref-13\" class=\"reference\"><a href=\"#cite_note-13\">&#91;13&#93;</a></sup></li></ul>\n",
      "<p>Guest performers (headliners) included:<sup id=\"cite_ref-14\" class=\"reference\"><a href=\"#cite_note-14\">&#91;14&#93;</a></sup>\n",
      "</p>\n",
      "<ul><li>Brad Cummings and Rex – a comedic ventriloquist variety act (2011–2012)</li>\n",
      "<li><a href=\"/wiki/John_Davidson_(entertainer)\" title=\"John Davidson (entertainer)\">John Davidson</a> – singer and comedian (2011–12)</li>\n",
      "<li><a href=\"/wiki/The_Diamonds\" title=\"The Diamonds\">The Diamonds</a> – a Canadian <a href=\"/wiki/Doo-Wop\" class=\"mw-redirect\" title=\"Doo-Wop\">Doo-Wop</a> quartet (2011–12)</li>\n",
      "<li><a href=\"/wiki/Maureen_McGovern\" title=\"Maureen McGovern\">Maureen McGovern</a> – singer and Broadway actress (2011–12)</li></ul>\n",
      "<p>Headliners included:<sup id=\"cite_ref-Niemann_8-2\" class=\"reference\"><a href=\"#cite_note-Niemann-8\">&#91;8&#93;</a></sup><sup class=\"reference\" style=\"white-space:nowrap;\">:<span>207</span></sup><sup id=\"cite_ref-Marshall_2-1\" class=\"reference\"><a href=\"#cite_note-Marshall-2\">&#91;2&#93;</a></sup><sup id=\"cite_ref-15\" class=\"reference\"><a href=\"#cite_note-15\">&#91;15&#93;</a></sup>\n",
      "</p>\n",
      "<ul><li><a href=\"/wiki/Anna_Maria_Alberghetti\" title=\"Anna Maria Alberghetti\">Anna Maria Alberghetti</a> – operatic singer and actress</li>\n",
      "<li><a href=\"/wiki/Kaye_Ballard\" title=\"Kaye Ballard\">Kaye Ballard</a> – actress, comedian and singer<sup id=\"cite_ref-16\" class=\"reference\"><a href=\"#cite_note-16\">&#91;16&#93;</a></sup></li>\n",
      "<li><a href=\"/wiki/The_Four_Aces\" title=\"The Four Aces\">The Four Aces</a> – male pop music quartet</li>\n",
      "<li><a href=\"/wiki/Buddy_Greco\" title=\"Buddy Greco\">Buddy Greco</a> and spouse Lezlie Anders – singer and pianist; singer<sup id=\"cite_ref-17\" class=\"reference\"><a href=\"#cite_note-17\">&#91;17&#93;</a></sup></li>\n",
      "<li><a href=\"/wiki/Howard_Keel\" title=\"Howard Keel\">Howard Keel</a> – actor and singer</li>\n",
      "<li><a href=\"/wiki/Frankie_Laine\" title=\"Frankie Laine\">Frankie Laine</a> – singer, songwriter and actor</li>\n",
      "<li><a href=\"/wiki/Peggy_March\" title=\"Peggy March\">Peggy March</a> – pop singer<sup id=\"cite_ref-18\" class=\"reference\"><a href=\"#cite_note-18\">&#91;18&#93;</a></sup></li>\n",
      "<li><a href=\"/wiki/Peter_Marshall_(U.S._entertainer)\" class=\"mw-redirect\" title=\"Peter Marshall (U.S. entertainer)\">Peter Marshall</a> – television and radio personality, actor and singer</li>\n",
      "<li><a href=\"/wiki/Barbara_McNair\" title=\"Barbara McNair\">Barbara McNair</a> – singer and actress</li>\n",
      "<li><a href=\"/wiki/The_Mills_Brothers\" title=\"The Mills Brothers\">The Mills Brothers</a> – jazz and pop vocal quartet</li>\n",
      "<li><a href=\"/wiki/The_Modernaires\" title=\"The Modernaires\">The Modernaires</a> – vocal group</li>\n",
      "<li><a href=\"/wiki/Donald_O%27Connor\" title=\"Donald O&#39;Connor\">Donald O'Connor</a> – dancer, singer and actor<sup id=\"cite_ref-19\" class=\"reference\"><a href=\"#cite_note-19\">&#91;19&#93;</a></sup></li>\n",
      "<li><a href=\"/wiki/Trina_Parks\" title=\"Trina Parks\">Trina Parks</a> – actress, vocalist, choreographer, and dancer; known for playing \"Thumper\" in <i><a href=\"/wiki/Diamonds_Are_Forever_(film)\" title=\"Diamonds Are Forever (film)\">Diamonds are Forever</a></i><sup id=\"cite_ref-20\" class=\"reference\"><a href=\"#cite_note-20\">&#91;20&#93;</a></sup></li>\n",
      "<li><a href=\"/wiki/Kay_Starr\" title=\"Kay Starr\">Kay Starr</a> – pop and jazz singer</li>\n",
      "<li><a href=\"/wiki/Ralph_Young_(singer)\" title=\"Ralph Young (singer)\">Ralph Young</a> – of singing team <a href=\"/wiki/Sandler_and_Young\" title=\"Sandler and Young\">Sandler and Young</a><sup id=\"cite_ref-21\" class=\"reference\"><a href=\"#cite_note-21\">&#91;21&#93;</a></sup></li></ul>\n",
      "<h2><span class=\"mw-headline\" id=\"Production\">Production</span><span class=\"mw-editsection\"><span class=\"mw-editsection-bracket\">[</span><a href=\"/w/index.php?title=The_Fabulous_Palm_Springs_Follies&amp;action=edit&amp;section=2\" title=\"Edit section: Production\">edit</a><span class=\"mw-editsection-bracket\">]</span></span></h2>\n",
      "<p>Musician <a href=\"/wiki/Johnny_Harris_(musician)\" title=\"Johnny Harris (musician)\">Johnny Harris</a> served as the conductor for the entire run of the show.<sup id=\"cite_ref-22\" class=\"reference\"><a href=\"#cite_note-22\">&#91;22&#93;</a></sup>\n",
      "</p><p>Connie Furr Soloman served as the primary costume designer for seasons 11–16.\n",
      "</p>\n",
      "<h2><span class=\"mw-headline\" id=\"References\">References</span><span class=\"mw-editsection\"><span class=\"mw-editsection-bracket\">[</span><a href=\"/w/index.php?title=The_Fabulous_Palm_Springs_Follies&amp;action=edit&amp;section=3\" title=\"Edit section: References\">edit</a><span class=\"mw-editsection-bracket\">]</span></span></h2>\n",
      "<div class=\"reflist columns references-column-width\" style=\"-moz-column-width: 30em; -webkit-column-width: 30em; column-width: 30em; list-style-type: decimal;\">\n",
      "<ol class=\"references\">\n",
      "<li id=\"cite_note-1\"><span class=\"mw-cite-backlink\"><b><a href=\"#cite_ref-1\">^</a></b></span> <span class=\"reference-text\"><cite class=\"citation book\">Johns, Howard (2005). <a rel=\"nofollow\" class=\"external text\" href=\"https://www.amazon.com/Palm-Springs-Confidential-Playground-Stars/dp/1569802971/ref=sr_1_1?ie=UTF8&amp;qid=1310669519&amp;sr=8-1\"><i>Palm Springs Confidential: Playground of the Stars</i></a>. Barricade Books. p.&#160;320. <a href=\"/wiki/International_Standard_Book_Number\" title=\"International Standard Book Number\">ISBN</a>&#160;<a href=\"/wiki/Special:BookSources/1-56980-297-1\" title=\"Special:BookSources/1-56980-297-1\"><bdi>1-56980-297-1</bdi></a>.</cite><span title=\"ctx_ver=Z39.88-2004&amp;rft_val_fmt=info%3Aofi%2Ffmt%3Akev%3Amtx%3Abook&amp;rft.genre=book&amp;rft.btitle=Palm+Springs+Confidential%3A+Playground+of+the+Stars&amp;rft.pages=320&amp;rft.pub=Barricade+Books&amp;rft.date=2005&amp;rft.isbn=1-56980-297-1&amp;rft.aulast=Johns&amp;rft.aufirst=Howard&amp;rft_id=https%3A%2F%2Fwww.amazon.com%2FPalm-Springs-Confidential-Playground-Stars%2Fdp%2F1569802971%2Fref%3Dsr_1_1%3Fie%3DUTF8%26qid%3D1310669519%26sr%3D8-1&amp;rfr_id=info%3Asid%2Fen.wikipedia.org%3AThe+Fabulous+Palm+Springs+Follies\" class=\"Z3988\"></span><style data-mw-deduplicate=\"TemplateStyles:r886058088\">.mw-parser-output cite.citation{font-style:inherit}.mw-parser-output .citation q{quotes:\"\\\"\"\"\\\"\"\"'\"\"'\"}.mw-parser-output .citation .cs1-lock-free a{background:url(\"//upload.wikimedia.org/wikipedia/commons/thumb/6/65/Lock-green.svg/9px-Lock-green.svg.png\")no-repeat;background-position:right .1em center}.mw-parser-output .citation .cs1-lock-limited a,.mw-parser-output .citation .cs1-lock-registration a{background:url(\"//upload.wikimedia.org/wikipedia/commons/thumb/d/d6/Lock-gray-alt-2.svg/9px-Lock-gray-alt-2.svg.png\")no-repeat;background-position:right .1em center}.mw-parser-output .citation .cs1-lock-subscription a{background:url(\"//upload.wikimedia.org/wikipedia/commons/thumb/a/aa/Lock-red-alt-2.svg/9px-Lock-red-alt-2.svg.png\")no-repeat;background-position:right .1em center}.mw-parser-output .cs1-subscription,.mw-parser-output .cs1-registration{color:#555}.mw-parser-output .cs1-subscription span,.mw-parser-output .cs1-registration span{border-bottom:1px dotted;cursor:help}.mw-parser-output .cs1-ws-icon a{background:url(\"//upload.wikimedia.org/wikipedia/commons/thumb/4/4c/Wikisource-logo.svg/12px-Wikisource-logo.svg.png\")no-repeat;background-position:right .1em center}.mw-parser-output code.cs1-code{color:inherit;background:inherit;border:inherit;padding:inherit}.mw-parser-output .cs1-hidden-error{display:none;font-size:100%}.mw-parser-output .cs1-visible-error{font-size:100%}.mw-parser-output .cs1-maint{display:none;color:#33aa33;margin-left:0.3em}.mw-parser-output .cs1-subscription,.mw-parser-output .cs1-registration,.mw-parser-output .cs1-format{font-size:95%}.mw-parser-output .cs1-kern-left,.mw-parser-output .cs1-kern-wl-left{padding-left:0.2em}.mw-parser-output .cs1-kern-right,.mw-parser-output .cs1-kern-wl-right{padding-right:0.2em}</style></span>\n",
      "</li>\n",
      "<li id=\"cite_note-Marshall-2\"><span class=\"mw-cite-backlink\">^ <a href=\"#cite_ref-Marshall_2-0\"><sup><i><b>a</b></i></sup></a> <a href=\"#cite_ref-Marshall_2-1\"><sup><i><b>b</b></i></sup></a></span> <span class=\"reference-text\"><cite class=\"citation web\">Marshall, Don (April 24, 2005). <a rel=\"nofollow\" class=\"external text\" href=\"https://web.archive.org/web/20140629120630/http://www.highbeam.com/doc/1P2-7208401.html\">\"Seniors shine in follies\"</a>. <i>Deseret Morning News</i>. Salt Lake City, UT: Deseret News Publishing Co. Archived from <a rel=\"nofollow\" class=\"external text\" href=\"http://www.highbeam.com/doc/1P2-7208401.html\">the original</a> on June 29, 2014<span class=\"reference-accessdate\">. Retrieved <span class=\"nowrap\">March 29,</span> 2013</span> &#8211; via HighBeam Research.</cite><span title=\"ctx_ver=Z39.88-2004&amp;rft_val_fmt=info%3Aofi%2Ffmt%3Akev%3Amtx%3Ajournal&amp;rft.genre=unknown&amp;rft.jtitle=Deseret+Morning+News&amp;rft.atitle=Seniors+shine+in+follies&amp;rft.date=2005-04-24&amp;rft.aulast=Marshall&amp;rft.aufirst=Don&amp;rft_id=http%3A%2F%2Fwww.highbeam.com%2Fdoc%2F1P2-7208401.html&amp;rfr_id=info%3Asid%2Fen.wikipedia.org%3AThe+Fabulous+Palm+Springs+Follies\" class=\"Z3988\"></span><link rel=\"mw-deduplicated-inline-style\" href=\"mw-data:TemplateStyles:r886058088\"/></span>\n",
      "</li>\n",
      "<li id=\"cite_note-3\"><span class=\"mw-cite-backlink\"><b><a href=\"#cite_ref-3\">^</a></b></span> <span class=\"reference-text\"><cite class=\"citation web\"><a rel=\"nofollow\" class=\"external text\" href=\"https://www.youtube.com/watch?v=iz7VWMLafEI\">\"<span class=\"cs1-kern-left\">'</span>It Was Twenty Years Ago Today!' How The Fabulous Palm Springs Follies Became So Fabulous\"</a><span class=\"reference-accessdate\">. Retrieved <span class=\"nowrap\">14 July</span> 2011</span>.</cite><span title=\"ctx_ver=Z39.88-2004&amp;rft_val_fmt=info%3Aofi%2Ffmt%3Akev%3Amtx%3Abook&amp;rft.genre=unknown&amp;rft.btitle=%27It+Was+Twenty+Years+Ago+Today%21%27+How+The+Fabulous+Palm+Springs+Follies+Became+So+Fabulous&amp;rft_id=https%3A%2F%2Fwww.youtube.com%2Fwatch%3Fv%3Diz7VWMLafEI&amp;rfr_id=info%3Asid%2Fen.wikipedia.org%3AThe+Fabulous+Palm+Springs+Follies\" class=\"Z3988\"></span><link rel=\"mw-deduplicated-inline-style\" href=\"mw-data:TemplateStyles:r886058088\"/></span>\n",
      "</li>\n",
      "<li id=\"cite_note-4\"><span class=\"mw-cite-backlink\"><b><a href=\"#cite_ref-4\">^</a></b></span> <span class=\"reference-text\"><cite class=\"citation web\">Kleinschmidt, Janice (July 27, 2004). <a rel=\"nofollow\" class=\"external text\" href=\"https://web.archive.org/web/20140629120637/http://www.highbeam.com/doc/1P3-673010071.html\">\"Follies mean business for local economy\"</a>. <i>The Public Record</i>. Desert Publication, Inc. &amp; Sharon Apfelbaum. Archived from <a rel=\"nofollow\" class=\"external text\" href=\"http://www.highbeam.com/doc/1P3-673010071.html\">the original</a> on June 29, 2014<span class=\"reference-accessdate\">. Retrieved <span class=\"nowrap\">March 29,</span> 2013</span> &#8211; via HighBeam Research.</cite><span title=\"ctx_ver=Z39.88-2004&amp;rft_val_fmt=info%3Aofi%2Ffmt%3Akev%3Amtx%3Ajournal&amp;rft.genre=unknown&amp;rft.jtitle=The+Public+Record&amp;rft.atitle=Follies+mean+business+for+local+economy&amp;rft.date=2004-07-27&amp;rft.aulast=Kleinschmidt&amp;rft.aufirst=Janice&amp;rft_id=http%3A%2F%2Fwww.highbeam.com%2Fdoc%2F1P3-673010071.html&amp;rfr_id=info%3Asid%2Fen.wikipedia.org%3AThe+Fabulous+Palm+Springs+Follies\" class=\"Z3988\"></span><link rel=\"mw-deduplicated-inline-style\" href=\"mw-data:TemplateStyles:r886058088\"/></span>\n",
      "</li>\n",
      "<li id=\"cite_note-5\"><span class=\"mw-cite-backlink\"><b><a href=\"#cite_ref-5\">^</a></b></span> <span class=\"reference-text\"><cite class=\"citation web\"><a rel=\"nofollow\" class=\"external text\" href=\"http://www.aarp.org/entertainment/fashion-beauty/info-09-2009/fabulous_palm_springs_follies_is_still_kicking.html\">\"Article/Video: Fabulous Palm Springs Follies Is Still Kicking\"</a>. AARP<span class=\"reference-accessdate\">. Retrieved <span class=\"nowrap\">14 July</span> 2011</span>.</cite><span title=\"ctx_ver=Z39.88-2004&amp;rft_val_fmt=info%3Aofi%2Ffmt%3Akev%3Amtx%3Abook&amp;rft.genre=unknown&amp;rft.btitle=Article%2FVideo%3A+Fabulous+Palm+Springs+Follies+Is+Still+Kicking&amp;rft.pub=AARP&amp;rft_id=http%3A%2F%2Fwww.aarp.org%2Fentertainment%2Ffashion-beauty%2Finfo-09-2009%2Ffabulous_palm_springs_follies_is_still_kicking.html&amp;rfr_id=info%3Asid%2Fen.wikipedia.org%3AThe+Fabulous+Palm+Springs+Follies\" class=\"Z3988\"></span><link rel=\"mw-deduplicated-inline-style\" href=\"mw-data:TemplateStyles:r886058088\"/></span>\n",
      "</li>\n",
      "<li id=\"cite_note-6\"><span class=\"mw-cite-backlink\"><b><a href=\"#cite_ref-6\">^</a></b></span> <span class=\"reference-text\"><cite class=\"citation news\"><a rel=\"nofollow\" class=\"external text\" href=\"https://web.archive.org/web/20140629120622/http://www.highbeam.com/doc/1G1-56386151.html\">\"Oscars Countdown: And the nominees are ...\"</a> <i>The Boston Herald</i>. Herald Media, LLC. February 11, 1998. Archived from <a rel=\"nofollow\" class=\"external text\" href=\"http://www.highbeam.com/doc/1G1-56386151.html\">the original</a> on June 29, 2014<span class=\"reference-accessdate\">. Retrieved <span class=\"nowrap\">March 29,</span> 2013</span> &#8211; via HighBeam Research.</cite><span title=\"ctx_ver=Z39.88-2004&amp;rft_val_fmt=info%3Aofi%2Ffmt%3Akev%3Amtx%3Ajournal&amp;rft.genre=article&amp;rft.jtitle=The+Boston+Herald&amp;rft.atitle=Oscars+Countdown%3A+And+the+nominees+are+...&amp;rft.date=1998-02-11&amp;rft_id=http%3A%2F%2Fwww.highbeam.com%2Fdoc%2F1G1-56386151.html&amp;rfr_id=info%3Asid%2Fen.wikipedia.org%3AThe+Fabulous+Palm+Springs+Follies\" class=\"Z3988\"></span><link rel=\"mw-deduplicated-inline-style\" href=\"mw-data:TemplateStyles:r886058088\"/></span>\n",
      "</li>\n",
      "<li id=\"cite_note-7\"><span class=\"mw-cite-backlink\"><b><a href=\"#cite_ref-7\">^</a></b></span> <span class=\"reference-text\"><cite class=\"citation news\">McNary, Dave (July 9, 2004). <a rel=\"nofollow\" class=\"external text\" href=\"https://web.archive.org/web/20140611093102/http://www.highbeam.com/doc/1G1-119898817.html\">\"Par seeks high-kicking aud for vaude\"</a>. <i><a href=\"/wiki/Daily_Variety\" class=\"mw-redirect\" title=\"Daily Variety\">Daily Variety</a></i>. Reed Business Information. Archived from <a rel=\"nofollow\" class=\"external text\" href=\"http://www.highbeam.com/doc/1G1-119898817.html\">the original</a> on June 11, 2014.</cite><span title=\"ctx_ver=Z39.88-2004&amp;rft_val_fmt=info%3Aofi%2Ffmt%3Akev%3Amtx%3Ajournal&amp;rft.genre=article&amp;rft.jtitle=Daily+Variety&amp;rft.atitle=Par+seeks+high-kicking+aud+for+vaude.&amp;rft.date=2004-07-09&amp;rft.aulast=McNary&amp;rft.aufirst=Dave&amp;rft_id=http%3A%2F%2Fwww.highbeam.com%2Fdoc%2F1G1-119898817.html&amp;rfr_id=info%3Asid%2Fen.wikipedia.org%3AThe+Fabulous+Palm+Springs+Follies\" class=\"Z3988\"></span><link rel=\"mw-deduplicated-inline-style\" href=\"mw-data:TemplateStyles:r886058088\"/></span>\n",
      "</li>\n",
      "<li id=\"cite_note-Niemann-8\"><span class=\"mw-cite-backlink\">^ <a href=\"#cite_ref-Niemann_8-0\"><sup><i><b>a</b></i></sup></a> <a href=\"#cite_ref-Niemann_8-1\"><sup><i><b>b</b></i></sup></a> <a href=\"#cite_ref-Niemann_8-2\"><sup><i><b>c</b></i></sup></a></span> <span class=\"reference-text\"><cite class=\"citation book\">Niemann, Greg (2006). <i>Palm Springs Legends: creation of a desert oasis</i>. San Diego, CA: Sunbelt Publications. p.&#160;286. <a href=\"/wiki/International_Standard_Book_Number\" title=\"International Standard Book Number\">ISBN</a>&#160;<a href=\"/wiki/Special:BookSources/978-0-932653-74-1\" title=\"Special:BookSources/978-0-932653-74-1\"><bdi>978-0-932653-74-1</bdi></a>. <a href=\"/wiki/OCLC\" title=\"OCLC\">OCLC</a>&#160;<a rel=\"nofollow\" class=\"external text\" href=\"//www.worldcat.org/oclc/61211290\">61211290</a>.</cite><span title=\"ctx_ver=Z39.88-2004&amp;rft_val_fmt=info%3Aofi%2Ffmt%3Akev%3Amtx%3Abook&amp;rft.genre=book&amp;rft.btitle=Palm+Springs+Legends%3A+creation+of+a+desert+oasis&amp;rft.place=San+Diego%2C+CA&amp;rft.pages=286&amp;rft.pub=Sunbelt+Publications&amp;rft.date=2006&amp;rft_id=info%3Aoclcnum%2F61211290&amp;rft.isbn=978-0-932653-74-1&amp;rft.aulast=Niemann&amp;rft.aufirst=Greg&amp;rfr_id=info%3Asid%2Fen.wikipedia.org%3AThe+Fabulous+Palm+Springs+Follies\" class=\"Z3988\"></span><link rel=\"mw-deduplicated-inline-style\" href=\"mw-data:TemplateStyles:r886058088\"/> (<a rel=\"nofollow\" class=\"external text\" href=\"http://catdir.loc.gov/catdir/toc/ecip0516/2005021837.html\">here for Table of Contents</a>)</span>\n",
      "</li>\n",
      "<li id=\"cite_note-9\"><span class=\"mw-cite-backlink\"><b><a href=\"#cite_ref-9\">^</a></b></span> <span class=\"reference-text\"><cite class=\"citation news\">Fessier, Bruce (June 5, 2013). <a rel=\"nofollow\" class=\"external text\" href=\"http://www.mydesert.com/article/20130605/LIFESTYLES01/306050024?source=nletter-top5&amp;nclick_check=1\">\"Palm Springs Follies set to exit stage left: Vaudeville-era entertainment revue will begin last season on Nov. 1\"</a>. <i>The Desert Sun</i>. Palm Springs, CA<span class=\"reference-accessdate\">. Retrieved <span class=\"nowrap\">June 6,</span> 2013</span>.</cite><span title=\"ctx_ver=Z39.88-2004&amp;rft_val_fmt=info%3Aofi%2Ffmt%3Akev%3Amtx%3Ajournal&amp;rft.genre=article&amp;rft.jtitle=The+Desert+Sun&amp;rft.atitle=Palm+Springs+Follies+set+to+exit+stage+left%3A+Vaudeville-era+entertainment+revue+will+begin+last+season+on+Nov.+1.&amp;rft.date=2013-06-05&amp;rft.aulast=Fessier&amp;rft.aufirst=Bruce&amp;rft_id=http%3A%2F%2Fwww.mydesert.com%2Farticle%2F20130605%2FLIFESTYLES01%2F306050024%3Fsource%3Dnletter-top5%26nclick_check%3D1&amp;rfr_id=info%3Asid%2Fen.wikipedia.org%3AThe+Fabulous+Palm+Springs+Follies\" class=\"Z3988\"></span><link rel=\"mw-deduplicated-inline-style\" href=\"mw-data:TemplateStyles:r886058088\"/></span>\n",
      "</li>\n",
      "<li id=\"cite_note-10\"><span class=\"mw-cite-backlink\"><b><a href=\"#cite_ref-10\">^</a></b></span> <span class=\"reference-text\"><cite class=\"citation web\"><a rel=\"nofollow\" class=\"external text\" href=\"https://web.archive.org/web/20150329044630/http://www.highbeam.com/doc/1A1-D8TM37IO0.html\">\"Beverly Allen, who was a showgirl at 87, dies in Los Angeles\"</a>. <i>AP Worldstream</i>. Press Association, Inc. December 21, 2007. Archived from <a rel=\"nofollow\" class=\"external text\" href=\"http://www.highbeam.com/doc/1A1-D8TM37IO0.html\">the original</a> on March 29, 2015<span class=\"reference-accessdate\">. Retrieved <span class=\"nowrap\">March 29,</span> 2013</span> &#8211; via HighBeam Research.</cite><span title=\"ctx_ver=Z39.88-2004&amp;rft_val_fmt=info%3Aofi%2Ffmt%3Akev%3Amtx%3Ajournal&amp;rft.genre=unknown&amp;rft.jtitle=AP+Worldstream&amp;rft.atitle=Beverly+Allen%2C+who+was+a+showgirl+at+87%2C+dies+in+Los+Angeles&amp;rft.date=2007-12-21&amp;rft_id=http%3A%2F%2Fwww.highbeam.com%2Fdoc%2F1A1-D8TM37IO0.html&amp;rfr_id=info%3Asid%2Fen.wikipedia.org%3AThe+Fabulous+Palm+Springs+Follies\" class=\"Z3988\"></span><link rel=\"mw-deduplicated-inline-style\" href=\"mw-data:TemplateStyles:r886058088\"/></span>\n",
      "</li>\n",
      "<li id=\"cite_note-11\"><span class=\"mw-cite-backlink\"><b><a href=\"#cite_ref-11\">^</a></b></span> <span class=\"reference-text\"><cite class=\"citation news\">Kamzan, Josh (October 6, 2003). <a rel=\"nofollow\" class=\"external text\" href=\"https://web.archive.org/web/20160325052621/https://www.highbeam.com/doc/1G1-109945564.html\">\"James W. Mercer\"</a>. <i><a href=\"/wiki/Daily_Variety\" class=\"mw-redirect\" title=\"Daily Variety\">Daily Variety</a></i>. Reed Business Information. Archived from <a rel=\"nofollow\" class=\"external text\" href=\"http://www.highbeam.com/doc/1G1-109945564.html\">the original</a> on March 25, 2016.</cite><span title=\"ctx_ver=Z39.88-2004&amp;rft_val_fmt=info%3Aofi%2Ffmt%3Akev%3Amtx%3Ajournal&amp;rft.genre=article&amp;rft.jtitle=Daily+Variety&amp;rft.atitle=James+W.+Mercer&amp;rft.date=2003-10-06&amp;rft.aulast=Kamzan&amp;rft.aufirst=Josh&amp;rft_id=http%3A%2F%2Fwww.highbeam.com%2Fdoc%2F1G1-109945564.html&amp;rfr_id=info%3Asid%2Fen.wikipedia.org%3AThe+Fabulous+Palm+Springs+Follies\" class=\"Z3988\"></span><link rel=\"mw-deduplicated-inline-style\" href=\"mw-data:TemplateStyles:r886058088\"/></span>\n",
      "</li>\n",
      "<li id=\"cite_note-12\"><span class=\"mw-cite-backlink\"><b><a href=\"#cite_ref-12\">^</a></b></span> <span class=\"reference-text\"><cite class=\"citation news\">Mireya Navarro (2 January 2005). <a rel=\"nofollow\" class=\"external text\" href=\"https://www.nytimes.com/2005/01/02/fashion/02FOLL.html\">\"So Very Alive and Kicking\"</a>. <i><a href=\"/wiki/The_New_York_Times\" title=\"The New York Times\">The New York Times</a></i><span class=\"reference-accessdate\">. Retrieved <span class=\"nowrap\">22 September</span> 2011</span>.</cite><span title=\"ctx_ver=Z39.88-2004&amp;rft_val_fmt=info%3Aofi%2Ffmt%3Akev%3Amtx%3Ajournal&amp;rft.genre=article&amp;rft.jtitle=The+New+York+Times&amp;rft.atitle=So+Very+Alive+and+Kicking&amp;rft.date=2005-01-02&amp;rft.au=Mireya+Navarro&amp;rft_id=https%3A%2F%2Fwww.nytimes.com%2F2005%2F01%2F02%2Ffashion%2F02FOLL.html&amp;rfr_id=info%3Asid%2Fen.wikipedia.org%3AThe+Fabulous+Palm+Springs+Follies\" class=\"Z3988\"></span><link rel=\"mw-deduplicated-inline-style\" href=\"mw-data:TemplateStyles:r886058088\"/></span>\n",
      "</li>\n",
      "<li id=\"cite_note-13\"><span class=\"mw-cite-backlink\"><b><a href=\"#cite_ref-13\">^</a></b></span> <span class=\"reference-text\"><cite class=\"citation book\"><a href=\"/wiki/Whitey_Mitchell\" title=\"Whitey Mitchell\">Mitchell, Gordon \"Whitey\"</a> (2006). <i>Star Walk: A Guide to the <a href=\"/wiki/Palm_Springs_Walk_of_Stars\" title=\"Palm Springs Walk of Stars\">Palm Springs Walk of Stars</a></i>. Palm Springs, CA: Hall/Sloane. p.&#160;138. <a href=\"/wiki/International_Standard_Book_Number\" title=\"International Standard Book Number\">ISBN</a>&#160;<a href=\"/wiki/Special:BookSources/978-0-9638683-4-3\" title=\"Special:BookSources/978-0-9638683-4-3\"><bdi>978-0-9638683-4-3</bdi></a>. <a href=\"/wiki/OCLC\" title=\"OCLC\">OCLC</a>&#160;<a rel=\"nofollow\" class=\"external text\" href=\"//www.worldcat.org/oclc/810234068\">810234068</a>.</cite><span title=\"ctx_ver=Z39.88-2004&amp;rft_val_fmt=info%3Aofi%2Ffmt%3Akev%3Amtx%3Abook&amp;rft.genre=book&amp;rft.btitle=Star+Walk%3A+A+Guide+to+the+Palm+Springs+Walk+of+Stars&amp;rft.place=Palm+Springs%2C+CA&amp;rft.pages=138&amp;rft.pub=Hall%2FSloane&amp;rft.date=2006&amp;rft_id=info%3Aoclcnum%2F810234068&amp;rft.isbn=978-0-9638683-4-3&amp;rft.aulast=Mitchell&amp;rft.aufirst=Gordon+%22Whitey%22&amp;rfr_id=info%3Asid%2Fen.wikipedia.org%3AThe+Fabulous+Palm+Springs+Follies\" class=\"Z3988\"></span><link rel=\"mw-deduplicated-inline-style\" href=\"mw-data:TemplateStyles:r886058088\"/></span>\n",
      "</li>\n",
      "<li id=\"cite_note-14\"><span class=\"mw-cite-backlink\"><b><a href=\"#cite_ref-14\">^</a></b></span> <span class=\"reference-text\"><a rel=\"nofollow\" class=\"external text\" href=\"http://www.psfollies.com/our-all-new-show/\">Palm Springs Follies: New Show</a></span>\n",
      "</li>\n",
      "<li id=\"cite_note-15\"><span class=\"mw-cite-backlink\"><b><a href=\"#cite_ref-15\">^</a></b></span> <span class=\"reference-text\"><cite class=\"citation web\"><a rel=\"nofollow\" class=\"external text\" href=\"https://web.archive.org/web/20140611030926/http://www.highbeam.com/doc/1P2-10961410.html\">\"Palm Springs Follies pays tribute to the golden age of burlesque\"</a>. <i>Redlands Daily Facts</i>. Los Angeles Newspaper Group. August 4, 2004. Archived from <a rel=\"nofollow\" class=\"external text\" href=\"http://www.highbeam.com/doc/1P2-10961410.html\">the original</a> on June 11, 2014<span class=\"reference-accessdate\">. Retrieved <span class=\"nowrap\">March 29,</span> 2013</span> &#8211; via HighBeam Research.</cite><span title=\"ctx_ver=Z39.88-2004&amp;rft_val_fmt=info%3Aofi%2Ffmt%3Akev%3Amtx%3Ajournal&amp;rft.genre=unknown&amp;rft.jtitle=Redlands+Daily+Facts&amp;rft.atitle=Palm+Springs+Follies+pays+tribute+to+the+golden+age+of+burlesque&amp;rft.date=2004-08-04&amp;rft_id=http%3A%2F%2Fwww.highbeam.com%2Fdoc%2F1P2-10961410.html&amp;rfr_id=info%3Asid%2Fen.wikipedia.org%3AThe+Fabulous+Palm+Springs+Follies\" class=\"Z3988\"></span><link rel=\"mw-deduplicated-inline-style\" href=\"mw-data:TemplateStyles:r886058088\"/></span>\n",
      "</li>\n",
      "<li id=\"cite_note-16\"><span class=\"mw-cite-backlink\"><b><a href=\"#cite_ref-16\">^</a></b></span> <span class=\"reference-text\"><cite class=\"citation news\"><a rel=\"nofollow\" class=\"external text\" href=\"https://web.archive.org/web/20160225045738/https://www.highbeam.com/doc/1P2-10966120.html\">\"Kaye Ballard joins Palm Springs Follies\"</a>. <i>Redlands Daily Facts</i>. Redlands, CA. March 10, 2005. Archived from <a rel=\"nofollow\" class=\"external text\" href=\"http://www.highbeam.com/doc/1P2-10966120.html\">the original</a> on February 25, 2016.</cite><span title=\"ctx_ver=Z39.88-2004&amp;rft_val_fmt=info%3Aofi%2Ffmt%3Akev%3Amtx%3Ajournal&amp;rft.genre=article&amp;rft.jtitle=Redlands+Daily+Facts&amp;rft.atitle=Kaye+Ballard+joins+Palm+Springs+Follies&amp;rft.date=2005-03-10&amp;rft_id=http%3A%2F%2Fwww.highbeam.com%2Fdoc%2F1P2-10966120.html&amp;rfr_id=info%3Asid%2Fen.wikipedia.org%3AThe+Fabulous+Palm+Springs+Follies\" class=\"Z3988\"></span><link rel=\"mw-deduplicated-inline-style\" href=\"mw-data:TemplateStyles:r886058088\"/></span>\n",
      "</li>\n",
      "<li id=\"cite_note-17\"><span class=\"mw-cite-backlink\"><b><a href=\"#cite_ref-17\">^</a></b></span> <span class=\"reference-text\"><cite class=\"citation web\"><a rel=\"nofollow\" class=\"external text\" href=\"https://web.archive.org/web/20140611030920/http://www.highbeam.com/doc/1P3-749961531.html\">\"Palm Springs Follies Opens\"</a>. <i>Inland Empire Business Journal</i>. Daily Planet Publishing, Inc. November 1, 2004. Archived from <a rel=\"nofollow\" class=\"external text\" href=\"http://www.highbeam.com/doc/1P3-749961531.html\">the original</a> on June 11, 2014<span class=\"reference-accessdate\">. Retrieved <span class=\"nowrap\">March 29,</span> 2013</span> &#8211; via HighBeam Research.</cite><span title=\"ctx_ver=Z39.88-2004&amp;rft_val_fmt=info%3Aofi%2Ffmt%3Akev%3Amtx%3Ajournal&amp;rft.genre=unknown&amp;rft.jtitle=Inland+Empire+Business+Journal&amp;rft.atitle=Palm+Springs+Follies+Opens&amp;rft.date=2004-11-01&amp;rft_id=http%3A%2F%2Fwww.highbeam.com%2Fdoc%2F1P3-749961531.html&amp;rfr_id=info%3Asid%2Fen.wikipedia.org%3AThe+Fabulous+Palm+Springs+Follies\" class=\"Z3988\"></span><link rel=\"mw-deduplicated-inline-style\" href=\"mw-data:TemplateStyles:r886058088\"/></span>\n",
      "</li>\n",
      "<li id=\"cite_note-18\"><span class=\"mw-cite-backlink\"><b><a href=\"#cite_ref-18\">^</a></b></span> <span class=\"reference-text\"><cite class=\"citation web\">Archerd, Army (March 23, 2004). <a rel=\"nofollow\" class=\"external text\" href=\"https://web.archive.org/web/20131105214432/http://www.highbeam.com/doc/1G1-115345981.html\">\"Just for Variety. (Celebrity Gathering)\"</a>. <i>Daily Variety</i>. Reed Business Information, Inc. Archived from <a rel=\"nofollow\" class=\"external text\" href=\"http://www.highbeam.com/doc/1G1-115345981.html\">the original</a> on November 5, 2013<span class=\"reference-accessdate\">. Retrieved <span class=\"nowrap\">March 29,</span> 2013</span> &#8211; via HighBeam Research.</cite><span title=\"ctx_ver=Z39.88-2004&amp;rft_val_fmt=info%3Aofi%2Ffmt%3Akev%3Amtx%3Ajournal&amp;rft.genre=unknown&amp;rft.jtitle=Daily+Variety&amp;rft.atitle=Just+for+Variety.+%28Celebrity+Gathering%29&amp;rft.date=2004-03-23&amp;rft.aulast=Archerd&amp;rft.aufirst=Army&amp;rft_id=http%3A%2F%2Fwww.highbeam.com%2Fdoc%2F1G1-115345981.html&amp;rfr_id=info%3Asid%2Fen.wikipedia.org%3AThe+Fabulous+Palm+Springs+Follies\" class=\"Z3988\"></span><link rel=\"mw-deduplicated-inline-style\" href=\"mw-data:TemplateStyles:r886058088\"/></span>\n",
      "</li>\n",
      "<li id=\"cite_note-19\"><span class=\"mw-cite-backlink\"><b><a href=\"#cite_ref-19\">^</a></b></span> <span class=\"reference-text\"><cite class=\"citation news\">Sullivan, Paul. <a rel=\"nofollow\" class=\"external text\" href=\"http://www.highbeam.com/doc/1G1-57111629.html\">\"Donald O'Connor hospitalized with pneumonia\"</a>. <i><a href=\"/wiki/Boston_Herald\" title=\"Boston Herald\">Boston Herald</a></i>.</cite><span title=\"ctx_ver=Z39.88-2004&amp;rft_val_fmt=info%3Aofi%2Ffmt%3Akev%3Amtx%3Ajournal&amp;rft.genre=article&amp;rft.jtitle=Boston+Herald&amp;rft.atitle=Donald+O%27Connor+hospitalized+with+pneumonia&amp;rft.aulast=Sullivan&amp;rft.aufirst=Paul&amp;rft_id=http%3A%2F%2Fwww.highbeam.com%2Fdoc%2F1G1-57111629.html&amp;rfr_id=info%3Asid%2Fen.wikipedia.org%3AThe+Fabulous+Palm+Springs+Follies\" class=\"Z3988\"></span><link rel=\"mw-deduplicated-inline-style\" href=\"mw-data:TemplateStyles:r886058088\"/> and <cite class=\"citation news\"><a rel=\"nofollow\" class=\"external text\" href=\"http://www.highbeam.com/doc/1P1-23219622.html\">\"Donald O'Connor Returning to State\"</a>. <i>AP Online</i>. Associated Press. May 13, 1999.</cite><span title=\"ctx_ver=Z39.88-2004&amp;rft_val_fmt=info%3Aofi%2Ffmt%3Akev%3Amtx%3Ajournal&amp;rft.genre=article&amp;rft.jtitle=AP+Online&amp;rft.atitle=Donald+O%27Connor+Returning+to+State&amp;rft.date=1999-05-13&amp;rft_id=http%3A%2F%2Fwww.highbeam.com%2Fdoc%2F1P1-23219622.html&amp;rfr_id=info%3Asid%2Fen.wikipedia.org%3AThe+Fabulous+Palm+Springs+Follies\" class=\"Z3988\"></span><link rel=\"mw-deduplicated-inline-style\" href=\"mw-data:TemplateStyles:r886058088\"/></span>\n",
      "</li>\n",
      "<li id=\"cite_note-20\"><span class=\"mw-cite-backlink\"><b><a href=\"#cite_ref-20\">^</a></b></span> <span class=\"reference-text\"><cite class=\"citation web\"><a rel=\"nofollow\" class=\"external text\" href=\"https://web.archive.org/web/20150329044643/http://www.highbeam.com/doc/1P3-2885581311.html\">\"Celebrate 26th Annual Black History Month with Host of Fun and Educational Events in February!\"</a>. <i>US Fed News Service, Including US State News</i>. Palm Springs, CA: The Associated Newspapers of Ceylon Ltd. February 7, 2013. Archived from <a rel=\"nofollow\" class=\"external text\" href=\"http://www.highbeam.com/doc/1P3-2885581311.html\">the original</a> on March 29, 2015<span class=\"reference-accessdate\">. Retrieved <span class=\"nowrap\">March 29,</span> 2013</span> &#8211; via HighBeam Research.</cite><span title=\"ctx_ver=Z39.88-2004&amp;rft_val_fmt=info%3Aofi%2Ffmt%3Akev%3Amtx%3Ajournal&amp;rft.genre=unknown&amp;rft.jtitle=US+Fed+News+Service%2C+Including+US+State+News&amp;rft.atitle=Celebrate+26th+Annual+Black+History+Month+with+Host+of+Fun+and+Educational+Events+in+February%21&amp;rft.date=2013-02-07&amp;rft_id=http%3A%2F%2Fwww.highbeam.com%2Fdoc%2F1P3-2885581311.html&amp;rfr_id=info%3Asid%2Fen.wikipedia.org%3AThe+Fabulous+Palm+Springs+Follies\" class=\"Z3988\"></span><link rel=\"mw-deduplicated-inline-style\" href=\"mw-data:TemplateStyles:r886058088\"/></span>\n",
      "</li>\n",
      "<li id=\"cite_note-21\"><span class=\"mw-cite-backlink\"><b><a href=\"#cite_ref-21\">^</a></b></span> <span class=\"reference-text\"><cite class=\"citation news\"><a rel=\"nofollow\" class=\"external text\" href=\"https://web.archive.org/web/20150924041500/http://www.highbeam.com/doc/1A1-D92QF29O1.html\">\"Ralph Young, big band singing legend, dies\"</a>. <i>AP Worldstream</i>. Associated Press. August 27, 2008. Archived from <a rel=\"nofollow\" class=\"external text\" href=\"http://www.highbeam.com/doc/1A1-D92QF29O1.html\">the original</a> on September 24, 2015.</cite><span title=\"ctx_ver=Z39.88-2004&amp;rft_val_fmt=info%3Aofi%2Ffmt%3Akev%3Amtx%3Ajournal&amp;rft.genre=article&amp;rft.jtitle=AP+Worldstream&amp;rft.atitle=Ralph+Young%2C+big+band+singing+legend%2C+dies&amp;rft.date=2008-08-27&amp;rft_id=http%3A%2F%2Fwww.highbeam.com%2Fdoc%2F1A1-D92QF29O1.html&amp;rfr_id=info%3Asid%2Fen.wikipedia.org%3AThe+Fabulous+Palm+Springs+Follies\" class=\"Z3988\"></span><link rel=\"mw-deduplicated-inline-style\" href=\"mw-data:TemplateStyles:r886058088\"/></span>\n",
      "</li>\n",
      "<li id=\"cite_note-22\"><span class=\"mw-cite-backlink\"><b><a href=\"#cite_ref-22\">^</a></b></span> <span class=\"reference-text\"><cite class=\"citation journal\">Purdy, Greg, ed. (2012). \"Music Men's Skills, Expertise Provide Melodic Sparkel to the Folies\". <i>Follies Confidential</i>. The Fabulous Palm Springs Follies: 13.</cite><span title=\"ctx_ver=Z39.88-2004&amp;rft_val_fmt=info%3Aofi%2Ffmt%3Akev%3Amtx%3Ajournal&amp;rft.genre=article&amp;rft.jtitle=Follies+Confidential&amp;rft.atitle=Music+Men%27s+Skills%2C+Expertise+Provide+Melodic+Sparkel+to+the+Folies&amp;rft.pages=13&amp;rft.date=2012&amp;rfr_id=info%3Asid%2Fen.wikipedia.org%3AThe+Fabulous+Palm+Springs+Follies\" class=\"Z3988\"></span><link rel=\"mw-deduplicated-inline-style\" href=\"mw-data:TemplateStyles:r886058088\"/></span>\n",
      "</li>\n",
      "</ol></div>\n",
      "<h2><span class=\"mw-headline\" id=\"External_links\">External links</span><span class=\"mw-editsection\"><span class=\"mw-editsection-bracket\">[</span><a href=\"/w/index.php?title=The_Fabulous_Palm_Springs_Follies&amp;action=edit&amp;section=4\" title=\"Edit section: External links\">edit</a><span class=\"mw-editsection-bracket\">]</span></span></h2>\n",
      "<ul><li><a rel=\"nofollow\" class=\"external text\" href=\"https://web.archive.org/web/20110715125304/http://www.psfollies.com/\">The Fabulous Palm Springs Follies: Legacy Site</a></li>\n",
      "<li><cite class=\"citation web\"><a rel=\"nofollow\" class=\"external text\" href=\"http://lightbox.time.com/2014/05/28/farewell-fabulous-palm-springs-follies/#1\">\"Farewell, Fabulous Palm Springs Follies (Photo Feature)\"</a>. TIME LightBox.</cite><span title=\"ctx_ver=Z39.88-2004&amp;rft_val_fmt=info%3Aofi%2Ffmt%3Akev%3Amtx%3Abook&amp;rft.genre=unknown&amp;rft.btitle=Farewell%2C+Fabulous+Palm+Springs+Follies+%28Photo+Feature%29&amp;rft.pub=TIME+LightBox&amp;rft_id=http%3A%2F%2Flightbox.time.com%2F2014%2F05%2F28%2Ffarewell-fabulous-palm-springs-follies%2F%231&amp;rfr_id=info%3Asid%2Fen.wikipedia.org%3AThe+Fabulous+Palm+Springs+Follies\" class=\"Z3988\"></span><link rel=\"mw-deduplicated-inline-style\" href=\"mw-data:TemplateStyles:r886058088\"/></li>\n",
      "<li><a rel=\"nofollow\" class=\"external text\" href=\"https://www.facebook.com/psfollies\">The Fabulous Palm Springs Follies</a> on <a href=\"/wiki/Facebook\" title=\"Facebook\">Facebook</a></li></ul>\n",
      "<!-- \n",
      "NewPP limit report\n",
      "Parsed by mw1327\n",
      "Cached time: 20191030033944\n",
      "Cache expiry: 2592000\n",
      "Dynamic content: false\n",
      "Complications: [vary‐revision‐sha1]\n",
      "CPU time usage: 0.296 seconds\n",
      "Real time usage: 0.371 seconds\n",
      "Preprocessor visited node count: 1159/1000000\n",
      "Preprocessor generated node count: 0/1500000\n",
      "Post‐expand include size: 39090/2097152 bytes\n",
      "Template argument size: 234/2097152 bytes\n",
      "Highest expansion depth: 8/40\n",
      "Expensive parser function count: 1/500\n",
      "Unstrip recursion depth: 1/20\n",
      "Unstrip post‐expand size: 69190/5000000 bytes\n",
      "Number of Wikibase entities loaded: 2/400\n",
      "Lua time usage: 0.174/10.000 seconds\n",
      "Lua memory usage: 4.08 MB/50 MB\n",
      "-->\n",
      "<!--\n",
      "Transclusion expansion time report (%,ms,calls,template)\n",
      "100.00%  322.662      1 -total\n",
      " 89.80%  289.762      1 Template:Reflist\n",
      " 50.35%  162.462      3 Template:Cite_book\n",
      " 14.79%   47.718     10 Template:Cite_web\n",
      " 12.59%   40.632      9 Template:Cite_news\n",
      "  3.51%   11.330      1 Template:Facebook\n",
      "  2.04%    6.592      1 Template:Cite_journal\n",
      "  1.80%    5.799      1 Template:EditAtWikidata\n",
      "  1.35%    4.362      3 Template:Rp\n",
      "  0.94%    3.048      1 Template:Main_other\n",
      "-->\n",
      "\n",
      "<!-- Saved in parser cache with key enwiki:pcache:idhash:20568945-0!canonical and timestamp 20191030033944 and revision id 918722489\n",
      " -->\n",
      "</div><noscript><img src=\"//en.wikipedia.org/wiki/Special:CentralAutoLogin/start?type=1x1\" alt=\"\" title=\"\" width=\"1\" height=\"1\" style=\"border: none; position: absolute;\" /></noscript></div>\n",
      "\t\t\n",
      "\t\t<div class=\"printfooter\">Retrieved from \"<a dir=\"ltr\" href=\"https://en.wikipedia.org/w/index.php?title=The_Fabulous_Palm_Springs_Follies&amp;oldid=918722489\">https://en.wikipedia.org/w/index.php?title=The_Fabulous_Palm_Springs_Follies&amp;oldid=918722489</a>\"</div>\n",
      "\t\t\n",
      "\t\t<div id=\"catlinks\" class=\"catlinks\" data-mw=\"interface\"><div id=\"mw-normal-catlinks\" class=\"mw-normal-catlinks\"><a href=\"/wiki/Help:Category\" title=\"Help:Category\">Categories</a>: <ul><li><a href=\"/wiki/Category:Theatre_companies_in_California\" title=\"Category:Theatre companies in California\">Theatre companies in California</a></li><li><a href=\"/wiki/Category:Tourist_attractions_in_Palm_Springs,_California\" title=\"Category:Tourist attractions in Palm Springs, California\">Tourist attractions in Palm Springs, California</a></li></ul></div></div>\n",
      "\t\t<div class=\"visualClear\"></div>\n",
      "\t\t\n",
      "\t</div>\n",
      "</div>\n",
      "<div id='mw-data-after-content'>\n",
      "\t<div class=\"read-more-container\"></div>\n",
      "</div>\n",
      "\n",
      "\n",
      "\t\t<div id=\"mw-navigation\">\n",
      "\t\t\t<h2>Navigation menu</h2>\n",
      "\t\t\t<div id=\"mw-head\">\n",
      "\t\t\t\t\t\t\t\t\t<div id=\"p-personal\" role=\"navigation\" aria-labelledby=\"p-personal-label\">\n",
      "\t\t\t\t\t\t<h3 id=\"p-personal-label\">Personal tools</h3>\n",
      "\t\t\t\t\t\t<ul>\n",
      "\t\t\t\t\t\t\t<li id=\"pt-anonuserpage\">Not logged in</li><li id=\"pt-anontalk\"><a href=\"/wiki/Special:MyTalk\" title=\"Discussion about edits from this IP address [n]\" accesskey=\"n\">Talk</a></li><li id=\"pt-anoncontribs\"><a href=\"/wiki/Special:MyContributions\" title=\"A list of edits made from this IP address [y]\" accesskey=\"y\">Contributions</a></li><li id=\"pt-createaccount\"><a href=\"/w/index.php?title=Special:CreateAccount&amp;returnto=The+Fabulous+Palm+Springs+Follies\" title=\"You are encouraged to create an account and log in; however, it is not mandatory\">Create account</a></li><li id=\"pt-login\"><a href=\"/w/index.php?title=Special:UserLogin&amp;returnto=The+Fabulous+Palm+Springs+Follies\" title=\"You&#039;re encouraged to log in; however, it&#039;s not mandatory. [o]\" accesskey=\"o\">Log in</a></li>\t\t\t\t\t\t</ul>\n",
      "\t\t\t\t\t</div>\n",
      "\t\t\t\t\t\t\t\t\t<div id=\"left-navigation\">\n",
      "\t\t\t\t\t\t\t\t\t\t<div id=\"p-namespaces\" role=\"navigation\" class=\"vectorTabs\" aria-labelledby=\"p-namespaces-label\">\n",
      "\t\t\t\t\t\t<h3 id=\"p-namespaces-label\">Namespaces</h3>\n",
      "\t\t\t\t\t\t<ul>\n",
      "\t\t\t\t\t\t\t<li id=\"ca-nstab-main\" class=\"selected\"><a href=\"/wiki/The_Fabulous_Palm_Springs_Follies\" title=\"View the content page [c]\" accesskey=\"c\">Article</a></li><li id=\"ca-talk\"><a href=\"/wiki/Talk:The_Fabulous_Palm_Springs_Follies\" rel=\"discussion\" title=\"Discussion about the content page [t]\" accesskey=\"t\">Talk</a></li>\t\t\t\t\t\t</ul>\n",
      "\t\t\t\t\t</div>\n",
      "\t\t\t\t\t\t\t\t\t\t<div id=\"p-variants\" role=\"navigation\" class=\"vectorMenu emptyPortlet\" aria-labelledby=\"p-variants-label\">\n",
      "\t\t\t\t\t\t\t\t\t\t\t\t<input type=\"checkbox\" class=\"vectorMenuCheckbox\" aria-labelledby=\"p-variants-label\" />\n",
      "\t\t\t\t\t\t<h3 id=\"p-variants-label\">\n",
      "\t\t\t\t\t\t\t<span>Variants</span>\n",
      "\t\t\t\t\t\t</h3>\n",
      "\t\t\t\t\t\t<ul class=\"menu\">\n",
      "\t\t\t\t\t\t\t\t\t\t\t\t\t</ul>\n",
      "\t\t\t\t\t</div>\n",
      "\t\t\t\t\t\t\t\t\t</div>\n",
      "\t\t\t\t<div id=\"right-navigation\">\n",
      "\t\t\t\t\t\t\t\t\t\t<div id=\"p-views\" role=\"navigation\" class=\"vectorTabs\" aria-labelledby=\"p-views-label\">\n",
      "\t\t\t\t\t\t<h3 id=\"p-views-label\">Views</h3>\n",
      "\t\t\t\t\t\t<ul>\n",
      "\t\t\t\t\t\t\t<li id=\"ca-view\" class=\"collapsible selected\"><a href=\"/wiki/The_Fabulous_Palm_Springs_Follies\">Read</a></li><li id=\"ca-edit\" class=\"collapsible\"><a href=\"/w/index.php?title=The_Fabulous_Palm_Springs_Follies&amp;action=edit\" title=\"Edit this page [e]\" accesskey=\"e\">Edit</a></li><li id=\"ca-history\" class=\"collapsible\"><a href=\"/w/index.php?title=The_Fabulous_Palm_Springs_Follies&amp;action=history\" title=\"Past revisions of this page [h]\" accesskey=\"h\">View history</a></li>\t\t\t\t\t\t</ul>\n",
      "\t\t\t\t\t</div>\n",
      "\t\t\t\t\t\t\t\t\t\t<div id=\"p-cactions\" role=\"navigation\" class=\"vectorMenu emptyPortlet\" aria-labelledby=\"p-cactions-label\">\n",
      "\t\t\t\t\t\t<input type=\"checkbox\" class=\"vectorMenuCheckbox\" aria-labelledby=\"p-cactions-label\" />\n",
      "\t\t\t\t\t\t<h3 id=\"p-cactions-label\"><span>More</span></h3>\n",
      "\t\t\t\t\t\t<ul class=\"menu\">\n",
      "\t\t\t\t\t\t\t\t\t\t\t\t\t</ul>\n",
      "\t\t\t\t\t</div>\n",
      "\t\t\t\t\t\t\t\t\t\t<div id=\"p-search\" role=\"search\">\n",
      "\t\t\t\t\t\t<h3>\n",
      "\t\t\t\t\t\t\t<label for=\"searchInput\">Search</label>\n",
      "\t\t\t\t\t\t</h3>\n",
      "\t\t\t\t\t\t<form action=\"/w/index.php\" id=\"searchform\">\n",
      "\t\t\t\t\t\t\t<div id=\"simpleSearch\">\n",
      "\t\t\t\t\t\t\t\t<input type=\"search\" name=\"search\" placeholder=\"Search Wikipedia\" title=\"Search Wikipedia [f]\" accesskey=\"f\" id=\"searchInput\"/><input type=\"hidden\" value=\"Special:Search\" name=\"title\"/><input type=\"submit\" name=\"fulltext\" value=\"Search\" title=\"Search Wikipedia for this text\" id=\"mw-searchButton\" class=\"searchButton mw-fallbackSearchButton\"/><input type=\"submit\" name=\"go\" value=\"Go\" title=\"Go to a page with this exact name if it exists\" id=\"searchButton\" class=\"searchButton\"/>\t\t\t\t\t\t\t</div>\n",
      "\t\t\t\t\t\t</form>\n",
      "\t\t\t\t\t</div>\n",
      "\t\t\t\t\t\t\t\t\t</div>\n",
      "\t\t\t</div>\n",
      "\t\t\t<div id=\"mw-panel\">\n",
      "\t\t\t\t<div id=\"p-logo\" role=\"banner\"><a class=\"mw-wiki-logo\" href=\"/wiki/Main_Page\" title=\"Visit the main page\"></a></div>\n",
      "\t\t\t\t\t\t<div class=\"portal\" role=\"navigation\" id=\"p-navigation\" aria-labelledby=\"p-navigation-label\">\n",
      "\t\t\t<h3 id=\"p-navigation-label\">Navigation</h3>\n",
      "\t\t\t<div class=\"body\">\n",
      "\t\t\t\t\t\t\t\t<ul>\n",
      "\t\t\t\t\t<li id=\"n-mainpage-description\"><a href=\"/wiki/Main_Page\" title=\"Visit the main page [z]\" accesskey=\"z\">Main page</a></li><li id=\"n-contents\"><a href=\"/wiki/Portal:Contents\" title=\"Guides to browsing Wikipedia\">Contents</a></li><li id=\"n-featuredcontent\"><a href=\"/wiki/Portal:Featured_content\" title=\"Featured content – the best of Wikipedia\">Featured content</a></li><li id=\"n-currentevents\"><a href=\"/wiki/Portal:Current_events\" title=\"Find background information on current events\">Current events</a></li><li id=\"n-randompage\"><a href=\"/wiki/Special:Random\" title=\"Load a random article [x]\" accesskey=\"x\">Random article</a></li><li id=\"n-sitesupport\"><a href=\"https://donate.wikimedia.org/wiki/Special:FundraiserRedirector?utm_source=donate&amp;utm_medium=sidebar&amp;utm_campaign=C13_en.wikipedia.org&amp;uselang=en\" title=\"Support us\">Donate to Wikipedia</a></li><li id=\"n-shoplink\"><a href=\"//shop.wikimedia.org\" title=\"Visit the Wikipedia store\">Wikipedia store</a></li>\t\t\t\t</ul>\n",
      "\t\t\t\t\t\t\t</div>\n",
      "\t\t</div>\n",
      "\t\t\t<div class=\"portal\" role=\"navigation\" id=\"p-interaction\" aria-labelledby=\"p-interaction-label\">\n",
      "\t\t\t<h3 id=\"p-interaction-label\">Interaction</h3>\n",
      "\t\t\t<div class=\"body\">\n",
      "\t\t\t\t\t\t\t\t<ul>\n",
      "\t\t\t\t\t<li id=\"n-help\"><a href=\"/wiki/Help:Contents\" title=\"Guidance on how to use and edit Wikipedia\">Help</a></li><li id=\"n-aboutsite\"><a href=\"/wiki/Wikipedia:About\" title=\"Find out about Wikipedia\">About Wikipedia</a></li><li id=\"n-portal\"><a href=\"/wiki/Wikipedia:Community_portal\" title=\"About the project, what you can do, where to find things\">Community portal</a></li><li id=\"n-recentchanges\"><a href=\"/wiki/Special:RecentChanges\" title=\"A list of recent changes in the wiki [r]\" accesskey=\"r\">Recent changes</a></li><li id=\"n-contactpage\"><a href=\"//en.wikipedia.org/wiki/Wikipedia:Contact_us\" title=\"How to contact Wikipedia\">Contact page</a></li>\t\t\t\t</ul>\n",
      "\t\t\t\t\t\t\t</div>\n",
      "\t\t</div>\n",
      "\t\t\t<div class=\"portal\" role=\"navigation\" id=\"p-tb\" aria-labelledby=\"p-tb-label\">\n",
      "\t\t\t<h3 id=\"p-tb-label\">Tools</h3>\n",
      "\t\t\t<div class=\"body\">\n",
      "\t\t\t\t\t\t\t\t<ul>\n",
      "\t\t\t\t\t<li id=\"t-whatlinkshere\"><a href=\"/wiki/Special:WhatLinksHere/The_Fabulous_Palm_Springs_Follies\" title=\"List of all English Wikipedia pages containing links to this page [j]\" accesskey=\"j\">What links here</a></li><li id=\"t-recentchangeslinked\"><a href=\"/wiki/Special:RecentChangesLinked/The_Fabulous_Palm_Springs_Follies\" rel=\"nofollow\" title=\"Recent changes in pages linked from this page [k]\" accesskey=\"k\">Related changes</a></li><li id=\"t-upload\"><a href=\"/wiki/Wikipedia:File_Upload_Wizard\" title=\"Upload files [u]\" accesskey=\"u\">Upload file</a></li><li id=\"t-specialpages\"><a href=\"/wiki/Special:SpecialPages\" title=\"A list of all special pages [q]\" accesskey=\"q\">Special pages</a></li><li id=\"t-permalink\"><a href=\"/w/index.php?title=The_Fabulous_Palm_Springs_Follies&amp;oldid=918722489\" title=\"Permanent link to this revision of the page\">Permanent link</a></li><li id=\"t-info\"><a href=\"/w/index.php?title=The_Fabulous_Palm_Springs_Follies&amp;action=info\" title=\"More information about this page\">Page information</a></li><li id=\"t-wikibase\"><a href=\"https://www.wikidata.org/wiki/Special:EntityPage/Q7733002\" title=\"Link to connected data repository item [g]\" accesskey=\"g\">Wikidata item</a></li><li id=\"t-cite\"><a href=\"/w/index.php?title=Special:CiteThisPage&amp;page=The_Fabulous_Palm_Springs_Follies&amp;id=918722489\" title=\"Information on how to cite this page\">Cite this page</a></li>\t\t\t\t</ul>\n",
      "\t\t\t\t\t\t\t</div>\n",
      "\t\t</div>\n",
      "\t\t\t<div class=\"portal\" role=\"navigation\" id=\"p-coll-print_export\" aria-labelledby=\"p-coll-print_export-label\">\n",
      "\t\t\t<h3 id=\"p-coll-print_export-label\">Print/export</h3>\n",
      "\t\t\t<div class=\"body\">\n",
      "\t\t\t\t\t\t\t\t<ul>\n",
      "\t\t\t\t\t<li id=\"coll-create_a_book\"><a href=\"/w/index.php?title=Special:Book&amp;bookcmd=book_creator&amp;referer=The+Fabulous+Palm+Springs+Follies\">Create a book</a></li><li id=\"coll-download-as-rl\"><a href=\"/w/index.php?title=Special:ElectronPdf&amp;page=The+Fabulous+Palm+Springs+Follies&amp;action=show-download-screen\">Download as PDF</a></li><li id=\"t-print\"><a href=\"/w/index.php?title=The_Fabulous_Palm_Springs_Follies&amp;printable=yes\" title=\"Printable version of this page [p]\" accesskey=\"p\">Printable version</a></li>\t\t\t\t</ul>\n",
      "\t\t\t\t\t\t\t</div>\n",
      "\t\t</div>\n",
      "\t\t\t<div class=\"portal\" role=\"navigation\" id=\"p-lang\" aria-labelledby=\"p-lang-label\">\n",
      "\t\t\t<h3 id=\"p-lang-label\">Languages</h3>\n",
      "\t\t\t<div class=\"body\">\n",
      "\t\t\t\t\t\t\t\t<ul>\n",
      "\t\t\t\t\t\t\t\t\t</ul>\n",
      "\t\t\t\t<div class=\"after-portlet after-portlet-lang\"><span class=\"wb-langlinks-add wb-langlinks-link\"><a href=\"https://www.wikidata.org/wiki/Special:EntityPage/Q7733002#sitelinks-wikipedia\" title=\"Add interlanguage links\" class=\"wbc-editpage\">Add links</a></span></div>\t\t\t</div>\n",
      "\t\t</div>\n",
      "\t\t\t\t</div>\n",
      "\t\t</div>\n",
      "\t\t\t\t<div id=\"footer\" role=\"contentinfo\">\n",
      "\t\t\t\t\t\t<ul id=\"footer-info\">\n",
      "\t\t\t\t\t\t\t\t<li id=\"footer-info-lastmod\"> This page was last edited on 30 September 2019, at 01:06<span class=\"anonymous-show\">&#160;(UTC)</span>.</li>\n",
      "\t\t\t\t\t\t\t\t<li id=\"footer-info-copyright\">Text is available under the <a rel=\"license\" href=\"//en.wikipedia.org/wiki/Wikipedia:Text_of_Creative_Commons_Attribution-ShareAlike_3.0_Unported_License\">Creative Commons Attribution-ShareAlike License</a><a rel=\"license\" href=\"//creativecommons.org/licenses/by-sa/3.0/\" style=\"display:none;\"></a>;\n",
      "additional terms may apply.  By using this site, you agree to the <a href=\"//foundation.wikimedia.org/wiki/Terms_of_Use\">Terms of Use</a> and <a href=\"//foundation.wikimedia.org/wiki/Privacy_policy\">Privacy Policy</a>. Wikipedia® is a registered trademark of the <a href=\"//www.wikimediafoundation.org/\">Wikimedia Foundation, Inc.</a>, a non-profit organization.</li>\n",
      "\t\t\t\t\t\t\t</ul>\n",
      "\t\t\t\t\t\t<ul id=\"footer-places\">\n",
      "\t\t\t\t\t\t\t\t<li id=\"footer-places-privacy\"><a href=\"https://foundation.wikimedia.org/wiki/Privacy_policy\" class=\"extiw\" title=\"wmf:Privacy policy\">Privacy policy</a></li>\n",
      "\t\t\t\t\t\t\t\t<li id=\"footer-places-about\"><a href=\"/wiki/Wikipedia:About\" title=\"Wikipedia:About\">About Wikipedia</a></li>\n",
      "\t\t\t\t\t\t\t\t<li id=\"footer-places-disclaimer\"><a href=\"/wiki/Wikipedia:General_disclaimer\" title=\"Wikipedia:General disclaimer\">Disclaimers</a></li>\n",
      "\t\t\t\t\t\t\t\t<li id=\"footer-places-contact\"><a href=\"//en.wikipedia.org/wiki/Wikipedia:Contact_us\">Contact Wikipedia</a></li>\n",
      "\t\t\t\t\t\t\t\t<li id=\"footer-places-developers\"><a href=\"https://www.mediawiki.org/wiki/Special:MyLanguage/How_to_contribute\">Developers</a></li>\n",
      "\t\t\t\t\t\t\t\t<li id=\"footer-places-statslink\"><a href=\"https://stats.wikimedia.org/v2/#/en.wikipedia.org\">Statistics</a></li>\n",
      "\t\t\t\t\t\t\t\t<li id=\"footer-places-cookiestatement\"><a href=\"https://foundation.wikimedia.org/wiki/Cookie_statement\">Cookie statement</a></li>\n",
      "\t\t\t\t\t\t\t\t<li id=\"footer-places-mobileview\"><a href=\"//en.m.wikipedia.org/w/index.php?title=The_Fabulous_Palm_Springs_Follies&amp;mobileaction=toggle_view_mobile\" class=\"noprint stopMobileRedirectToggle\">Mobile view</a></li>\n",
      "\t\t\t\t\t\t\t</ul>\n",
      "\t\t\t\t\t\t\t\t\t\t<ul id=\"footer-icons\" class=\"noprint\">\n",
      "\t\t\t\t\t\t\t\t\t\t<li id=\"footer-copyrightico\">\n",
      "\t\t\t\t\t\t<a href=\"https://wikimediafoundation.org/\"><img src=\"/static/images/wikimedia-button.png\" srcset=\"/static/images/wikimedia-button-1.5x.png 1.5x, /static/images/wikimedia-button-2x.png 2x\" width=\"88\" height=\"31\" alt=\"Wikimedia Foundation\"/></a>\t\t\t\t\t</li>\n",
      "\t\t\t\t\t\t\t\t\t\t<li id=\"footer-poweredbyico\">\n",
      "\t\t\t\t\t\t<a href=\"https://www.mediawiki.org/\"><img src=\"/static/images/poweredby_mediawiki_88x31.png\" alt=\"Powered by MediaWiki\" srcset=\"/static/images/poweredby_mediawiki_132x47.png 1.5x, /static/images/poweredby_mediawiki_176x62.png 2x\" width=\"88\" height=\"31\"/></a>\t\t\t\t\t</li>\n",
      "\t\t\t\t\t\t\t\t\t</ul>\n",
      "\t\t\t\t\t\t<div style=\"clear: both;\"></div>\n",
      "\t\t</div>\n",
      "\t\t\n",
      "\n",
      "<script>(RLQ=window.RLQ||[]).push(function(){mw.config.set({\"wgPageParseReport\":{\"limitreport\":{\"cputime\":\"0.296\",\"walltime\":\"0.371\",\"ppvisitednodes\":{\"value\":1159,\"limit\":1000000},\"ppgeneratednodes\":{\"value\":0,\"limit\":1500000},\"postexpandincludesize\":{\"value\":39090,\"limit\":2097152},\"templateargumentsize\":{\"value\":234,\"limit\":2097152},\"expansiondepth\":{\"value\":8,\"limit\":40},\"expensivefunctioncount\":{\"value\":1,\"limit\":500},\"unstrip-depth\":{\"value\":1,\"limit\":20},\"unstrip-size\":{\"value\":69190,\"limit\":5000000},\"entityaccesscount\":{\"value\":2,\"limit\":400},\"timingprofile\":[\"100.00%  322.662      1 -total\",\" 89.80%  289.762      1 Template:Reflist\",\" 50.35%  162.462      3 Template:Cite_book\",\" 14.79%   47.718     10 Template:Cite_web\",\" 12.59%   40.632      9 Template:Cite_news\",\"  3.51%   11.330      1 Template:Facebook\",\"  2.04%    6.592      1 Template:Cite_journal\",\"  1.80%    5.799      1 Template:EditAtWikidata\",\"  1.35%    4.362      3 Template:Rp\",\"  0.94%    3.048      1 Template:Main_other\"]},\"scribunto\":{\"limitreport-timeusage\":{\"value\":\"0.174\",\"limit\":\"10.000\"},\"limitreport-memusage\":{\"value\":4281391,\"limit\":52428800}},\"cachereport\":{\"origin\":\"mw1327\",\"timestamp\":\"20191030033944\",\"ttl\":2592000,\"transientcontent\":false}}});});</script>\n",
      "<script type=\"application/ld+json\">{\"@context\":\"https:\\/\\/schema.org\",\"@type\":\"Article\",\"name\":\"The Fabulous Palm Springs Follies\",\"url\":\"https:\\/\\/en.wikipedia.org\\/wiki\\/The_Fabulous_Palm_Springs_Follies\",\"sameAs\":\"http:\\/\\/www.wikidata.org\\/entity\\/Q7733002\",\"mainEntity\":\"http:\\/\\/www.wikidata.org\\/entity\\/Q7733002\",\"author\":{\"@type\":\"Organization\",\"name\":\"Contributors to Wikimedia projects\"},\"publisher\":{\"@type\":\"Organization\",\"name\":\"Wikimedia Foundation, Inc.\",\"logo\":{\"@type\":\"ImageObject\",\"url\":\"https:\\/\\/www.wikimedia.org\\/static\\/images\\/wmf-hor-googpub.png\"}},\"datePublished\":\"2008-12-06T14:24:34Z\",\"dateModified\":\"2019-09-30T01:06:47Z\",\"image\":\"https:\\/\\/upload.wikimedia.org\\/wikipedia\\/en\\/9\\/97\\/Dorothy_Kloss.jpg\"}</script>\n",
      "<script>(RLQ=window.RLQ||[]).push(function(){mw.config.set({\"wgBackendResponseTime\":132,\"wgHostname\":\"mw1266\"});});</script>\n",
      "</body>\n",
      "</html>\n",
      "\n"
     ]
    }
   ],
   "source": [
    "#Web Scrapping\n",
    "#Random articles on wikipedia\n",
    "import requests\n",
    "url='https://en.wikipedia.org/wiki/Special:Random'   #request open url\n",
    "#URL=Uniform Resource Locator\n",
    "response=requests.get(url)\n",
    "data=response.text\n",
    "print(data)"
   ]
  },
  {
   "cell_type": "code",
   "execution_count": 49,
   "metadata": {},
   "outputs": [
    {
     "name": "stdout",
     "output_type": "stream",
     "text": [
      "94\n"
     ]
    }
   ],
   "source": [
    "title_start=data.find(\"<title>\")\n",
    "print(title_start)"
   ]
  },
  {
   "cell_type": "code",
   "execution_count": 50,
   "metadata": {},
   "outputs": [
    {
     "name": "stdout",
     "output_type": "stream",
     "text": [
      "146\n"
     ]
    }
   ],
   "source": [
    "title_end=data.find(\"</title>\")\n",
    "print(title_end)"
   ]
  },
  {
   "cell_type": "code",
   "execution_count": 55,
   "metadata": {},
   "outputs": [
    {
     "name": "stdout",
     "output_type": "stream",
     "text": [
      "7\n"
     ]
    }
   ],
   "source": [
    "length=len(\"<title>\");print(length)"
   ]
  },
  {
   "cell_type": "code",
   "execution_count": 54,
   "metadata": {},
   "outputs": [
    {
     "name": "stdout",
     "output_type": "stream",
     "text": [
      "The Fabulous Palm Springs Follies - Wikipedia\n"
     ]
    }
   ],
   "source": [
    "print(data[title_start+length:title_end])"
   ]
  },
  {
   "cell_type": "code",
   "execution_count": 58,
   "metadata": {},
   "outputs": [
    {
     "name": "stdout",
     "output_type": "stream",
     "text": [
      "The Fabulous Palm Springs Follies\n"
     ]
    }
   ],
   "source": [
    "print(data[title_start+length:title_end-len(' - Wikipedia')])"
   ]
  },
  {
   "cell_type": "code",
   "execution_count": 67,
   "metadata": {},
   "outputs": [
    {
     "name": "stdout",
     "output_type": "stream",
     "text": [
      "{'coord': {'lon': 72.85, 'lat': 19.01}, 'weather': [{'id': 711, 'main': 'Smoke', 'description': 'smoke', 'icon': '50d'}], 'base': 'stations', 'main': {'temp': 305.5, 'pressure': 1013, 'humidity': 45, 'temp_min': 304.15, 'temp_max': 307.04}, 'visibility': 2500, 'wind': {'speed': 4.1, 'deg': 120}, 'clouds': {'all': 20}, 'dt': 1573626887, 'sys': {'type': 1, 'id': 9052, 'country': 'IN', 'sunrise': 1573607677, 'sunset': 1573648269}, 'timezone': 19800, 'id': 1275339, 'name': 'Mumbai', 'cod': 200}\n"
     ]
    }
   ],
   "source": [
    "#API: An application programming interface is an interface or communication protocol \n",
    "#between a client and a server intended to simplify the building of client-side software.\n",
    "#Weather API\n",
    "import json   #bcoz site uses this format\n",
    "url1=\"https://api.openweathermap.org/data/2.5/weather?q=Mumbai&appid=cbf40c31dc6e53a5b63069b956572b3a\"  #url vd api id\n",
    "response1=requests.get(url1)\n",
    "data1=response1.json()\n",
    "print(data1)"
   ]
  },
  {
   "cell_type": "code",
   "execution_count": 70,
   "metadata": {},
   "outputs": [
    {
     "name": "stdout",
     "output_type": "stream",
     "text": [
      "Mumbai\n"
     ]
    }
   ],
   "source": [
    "print(data1.get('name'))"
   ]
  },
  {
   "cell_type": "code",
   "execution_count": 75,
   "metadata": {},
   "outputs": [
    {
     "name": "stdout",
     "output_type": "stream",
     "text": [
      "{'temp': 305.5, 'pressure': 1013, 'humidity': 45, 'temp_min': 304.15, 'temp_max': 307.04}\n"
     ]
    }
   ],
   "source": [
    "print(data1.get('main'))"
   ]
  },
  {
   "cell_type": "code",
   "execution_count": 82,
   "metadata": {},
   "outputs": [
    {
     "name": "stdout",
     "output_type": "stream",
     "text": [
      "305.5\n"
     ]
    }
   ],
   "source": [
    "list=data1.get('main')\n",
    "print(list['temp'])"
   ]
  },
  {
   "cell_type": "code",
   "execution_count": 91,
   "metadata": {},
   "outputs": [
    {
     "data": {
      "text/plain": [
       "{'temp': 305.5,\n",
       " 'pressure': 1013,\n",
       " 'humidity': 45,\n",
       " 'temp_min': 304.15,\n",
       " 'temp_max': 307.04}"
      ]
     },
     "execution_count": 91,
     "metadata": {},
     "output_type": "execute_result"
    }
   ],
   "source": [
    "content=data1['main']\n",
    "content"
   ]
  },
  {
   "cell_type": "code",
   "execution_count": 93,
   "metadata": {},
   "outputs": [
    {
     "data": {
      "text/plain": [
       "305.5"
      ]
     },
     "execution_count": 93,
     "metadata": {},
     "output_type": "execute_result"
    }
   ],
   "source": [
    "temperature=content['temp']\n",
    "temperature"
   ]
  },
  {
   "cell_type": "code",
   "execution_count": 95,
   "metadata": {},
   "outputs": [
    {
     "name": "stdout",
     "output_type": "stream",
     "text": [
      "temperature in celsius=  32.35000000000002\n"
     ]
    }
   ],
   "source": [
    "temp_celsius=temperature-273.15\n",
    "print(f\"temperature in celsius= \",temp_celsius)"
   ]
  },
  {
   "cell_type": "code",
   "execution_count": null,
   "metadata": {},
   "outputs": [],
   "source": []
  }
 ],
 "metadata": {
  "kernelspec": {
   "display_name": "Python 3",
   "language": "python",
   "name": "python3"
  },
  "language_info": {
   "codemirror_mode": {
    "name": "ipython",
    "version": 3
   },
   "file_extension": ".py",
   "mimetype": "text/x-python",
   "name": "python",
   "nbconvert_exporter": "python",
   "pygments_lexer": "ipython3",
   "version": "3.7.3"
  }
 },
 "nbformat": 4,
 "nbformat_minor": 2
}
