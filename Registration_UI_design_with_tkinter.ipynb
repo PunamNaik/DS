{
 "cells": [
  {
   "cell_type": "markdown",
   "metadata": {},
   "source": [
    "# Create Login/Registration UI"
   ]
  },
  {
   "cell_type": "code",
   "execution_count": 1,
   "metadata": {
    "scrolled": true
   },
   "outputs": [],
   "source": [
    "from tkinter import*\n",
    "import tkinter\n",
    "from tkinter import messagebox\n",
    "def register():\n",
    "    def register_close():\n",
    "        register.destroy()\n",
    "        messagebox.showinfo(\"Congratulations!!\",\"Registration successful\")\n",
    "    register=Tk()\n",
    "    register.title(\"Register here\")\n",
    "    register.geometry('300x150')\n",
    "    register.configure(bg='lightblue')\n",
    "    Label(register, text = \"Enter Your Name *\", bg='lightblue').pack()\n",
    "    Entry(register, bd=5).pack()\n",
    "    Label(register, text = \"Enter Password *\", bg='lightblue').pack()\n",
    "    Entry(register, bd=5).pack()\n",
    "    Button(register, text='OK', command=register_close).pack()\n",
    "    register.mainloop()\n",
    "    \n",
    "def login():\n",
    "    def login_close():\n",
    "        login.destroy()\n",
    "        messagebox.showinfo(\"Congratulations!!\",\"Login successful\")\n",
    "    login=Tk()\n",
    "    login.title(\"Login here\")\n",
    "    login.geometry('300x150')\n",
    "    login.configure(bg='lightblue')\n",
    "    Label(login, text = \"Enter Username *\", bg='lightblue').pack()\n",
    "    Entry(login, bd=5).pack()\n",
    "    Label(login, text = \"Enter Password *\", bg='lightblue').pack()\n",
    "    Entry(login, bd=5).pack()\n",
    "    Button(login, text='OK', command=login_close).pack()\n",
    "    login.mainloop()\n",
    "    \n",
    "def main():\n",
    "    root=Tk()\n",
    "    root.geometry('400x250')\n",
    "    root.configure(bg='lightblue')\n",
    "    Label(root, text = \"iDeators\", bg='lightblue', width=20, height=1, \n",
    "          font=('Calibri',40)).pack()\n",
    "    Label(text=\"\", bg='lightblue').pack()\n",
    "    Button(root, text='Login', bg='blue', width=20, height=1, \n",
    "           font=('Calibri',20), command=login).pack()\n",
    "    Label(text=\"\", bg='lightblue').pack()\n",
    "    Button(root, text='Register', bg='green', width=20, height=1, \n",
    "           font=('Calibri',20), command=register).pack()\n",
    "    root.mainloop()\n",
    "   \n",
    "main()"
   ]
  }
 ],
 "metadata": {
  "kernelspec": {
   "display_name": "Python 3",
   "language": "python",
   "name": "python3"
  },
  "language_info": {
   "codemirror_mode": {
    "name": "ipython",
    "version": 3
   },
   "file_extension": ".py",
   "mimetype": "text/x-python",
   "name": "python",
   "nbconvert_exporter": "python",
   "pygments_lexer": "ipython3",
   "version": "3.7.3"
  }
 },
 "nbformat": 4,
 "nbformat_minor": 2
}
