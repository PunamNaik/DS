{
 "cells": [
  {
   "cell_type": "code",
   "execution_count": 1,
   "metadata": {},
   "outputs": [],
   "source": [
    "import sqlite3\n",
    "con=sqlite3.connect('sqlite3assignment.db')\n",
    "cur=con.cursor()"
   ]
  },
  {
   "cell_type": "code",
   "execution_count": 2,
   "metadata": {},
   "outputs": [],
   "source": [
    "cur.execute(\"\"\"CREATE TABLE customer (\n",
    "invoice_id integer primary key, \n",
    "customer_id integer unique,\n",
    "invoice_date date,\n",
    "Billing_Address text not null,\n",
    "Billing_city text,\n",
    "Billing_State text,\n",
    "Billing_country text,\n",
    "Billing_postal_code integer not null\n",
    ")\"\"\")\n",
    "con.commit()"
   ]
  },
  {
   "cell_type": "code",
   "execution_count": 3,
   "metadata": {},
   "outputs": [],
   "source": [
    "cur.execute(\"INSERT INTO customer VALUES ('12345','67890','20191209','A-101,Empire,sec-3','Airoli','Maharashtra','India','400708')\")\n",
    "con.commit()"
   ]
  },
  {
   "cell_type": "code",
   "execution_count": 6,
   "metadata": {},
   "outputs": [
    {
     "name": "stdout",
     "output_type": "stream",
     "text": [
      "(12345, 67890, 20191209, 'A-101,Empire,sec-3', 'Airoli', 'Maharashtra', 'India', 400708)\n"
     ]
    }
   ],
   "source": [
    "cursor=cur.execute(\"SELECT * FROM customer\")\n",
    "for row in cursor:print(row)"
   ]
  },
  {
   "cell_type": "code",
   "execution_count": 5,
   "metadata": {},
   "outputs": [
    {
     "name": "stdout",
     "output_type": "stream",
     "text": [
      "(12345, 67890, 20191209, 'A-101,Empire,sec-3', 'Airoli', 'Maharashtra', 'India', 400708)\n"
     ]
    }
   ],
   "source": [
    "cursor=cur.execute(\"SELECT * FROM customer\")\n",
    "print(cur.fetchone())"
   ]
  },
  {
   "cell_type": "code",
   "execution_count": 7,
   "metadata": {},
   "outputs": [],
   "source": [
    "con.close()"
   ]
  }
 ],
 "metadata": {
  "kernelspec": {
   "display_name": "Python 3",
   "language": "python",
   "name": "python3"
  },
  "language_info": {
   "codemirror_mode": {
    "name": "ipython",
    "version": 3
   },
   "file_extension": ".py",
   "mimetype": "text/x-python",
   "name": "python",
   "nbconvert_exporter": "python",
   "pygments_lexer": "ipython3",
   "version": "3.7.3"
  }
 },
 "nbformat": 4,
 "nbformat_minor": 2
}
